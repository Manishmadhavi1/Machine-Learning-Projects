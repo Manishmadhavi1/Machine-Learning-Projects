{
 "cells": [
  {
   "cell_type": "markdown",
   "metadata": {},
   "source": [
    "# Credit Risk Analysis for XYZ Corp"
   ]
  },
  {
   "cell_type": "markdown",
   "metadata": {},
   "source": [
    "# Problem Statement/Case Description:\n",
    "Based on the data available from loan applications, the XYZ Corp. is looking towrads building a model to predict default in the future, which will help the them in deciding whether sanction a loan or not.\n",
    "\n",
    "As the data contains information on defaulters, successful payers and customers who were current during that time (2007 to 2015), customers under ‘current’ status must be considered non-defaulters during this problem solving."
   ]
  },
  {
   "cell_type": "markdown",
   "metadata": {},
   "source": [
    "# Scope and Objective Of Data:\n",
    "Based on the available dataset of XYZ Corp. (for the period of: 2007-2015), we are going to work on the scope of building models (on training data) and measure its performance (on test data) on the available dataset which helps in reducing the companies risk by predicting customers who are likely to default and increasing the profits by improving loan accessibility to the customers.\n",
    "\n",
    "Complete loan data for all loan issued by XYZ Corp. from 2007 to 2015 is available. This data contains the indicator of default, payment information, credit history etc."
   ]
  },
  {
   "cell_type": "markdown",
   "metadata": {},
   "source": [
    "# IMPORTING Libraries"
   ]
  },
  {
   "cell_type": "code",
   "execution_count": 1,
   "metadata": {},
   "outputs": [],
   "source": [
    "#importing libraries\n",
    "import pandas as pd\n",
    "import numpy as np\n",
    "import seaborn as sns\n",
    "import matplotlib.pyplot as plt\n",
    "import os "
   ]
  },
  {
   "cell_type": "code",
   "execution_count": 2,
   "metadata": {},
   "outputs": [],
   "source": [
    "#To ignore warnings\n",
    "import warnings\n",
    "warnings.filterwarnings(\"ignore\")"
   ]
  },
  {
   "cell_type": "code",
   "execution_count": 3,
   "metadata": {},
   "outputs": [],
   "source": [
    "pd.set_option('display.max_columns' , None)\n",
    "pd.set_option('display.max_rows' , None)\n",
    "pd.set_option('display.width' , None)"
   ]
  },
  {
   "cell_type": "markdown",
   "metadata": {},
   "source": [
    "# Import Dataset"
   ]
  },
  {
   "cell_type": "code",
   "execution_count": 4,
   "metadata": {},
   "outputs": [
    {
     "data": {
      "text/html": [
       "<div>\n",
       "<style scoped>\n",
       "    .dataframe tbody tr th:only-of-type {\n",
       "        vertical-align: middle;\n",
       "    }\n",
       "\n",
       "    .dataframe tbody tr th {\n",
       "        vertical-align: top;\n",
       "    }\n",
       "\n",
       "    .dataframe thead th {\n",
       "        text-align: right;\n",
       "    }\n",
       "</style>\n",
       "<table border=\"1\" class=\"dataframe\">\n",
       "  <thead>\n",
       "    <tr style=\"text-align: right;\">\n",
       "      <th></th>\n",
       "      <th>id</th>\n",
       "      <th>member_id</th>\n",
       "      <th>loan_amnt</th>\n",
       "      <th>funded_amnt</th>\n",
       "      <th>funded_amnt_inv</th>\n",
       "      <th>term</th>\n",
       "      <th>int_rate</th>\n",
       "      <th>installment</th>\n",
       "      <th>grade</th>\n",
       "      <th>sub_grade</th>\n",
       "      <th>emp_title</th>\n",
       "      <th>emp_length</th>\n",
       "      <th>home_ownership</th>\n",
       "      <th>annual_inc</th>\n",
       "      <th>verification_status</th>\n",
       "      <th>issue_d</th>\n",
       "      <th>pymnt_plan</th>\n",
       "      <th>desc</th>\n",
       "      <th>purpose</th>\n",
       "      <th>title</th>\n",
       "      <th>zip_code</th>\n",
       "      <th>addr_state</th>\n",
       "      <th>dti</th>\n",
       "      <th>delinq_2yrs</th>\n",
       "      <th>earliest_cr_line</th>\n",
       "      <th>inq_last_6mths</th>\n",
       "      <th>mths_since_last_delinq</th>\n",
       "      <th>mths_since_last_record</th>\n",
       "      <th>open_acc</th>\n",
       "      <th>pub_rec</th>\n",
       "      <th>revol_bal</th>\n",
       "      <th>revol_util</th>\n",
       "      <th>total_acc</th>\n",
       "      <th>initial_list_status</th>\n",
       "      <th>out_prncp</th>\n",
       "      <th>out_prncp_inv</th>\n",
       "      <th>total_pymnt</th>\n",
       "      <th>total_pymnt_inv</th>\n",
       "      <th>total_rec_prncp</th>\n",
       "      <th>total_rec_int</th>\n",
       "      <th>total_rec_late_fee</th>\n",
       "      <th>recoveries</th>\n",
       "      <th>collection_recovery_fee</th>\n",
       "      <th>last_pymnt_d</th>\n",
       "      <th>last_pymnt_amnt</th>\n",
       "      <th>next_pymnt_d</th>\n",
       "      <th>last_credit_pull_d</th>\n",
       "      <th>collections_12_mths_ex_med</th>\n",
       "      <th>mths_since_last_major_derog</th>\n",
       "      <th>policy_code</th>\n",
       "      <th>application_type</th>\n",
       "      <th>annual_inc_joint</th>\n",
       "      <th>dti_joint</th>\n",
       "      <th>verification_status_joint</th>\n",
       "      <th>acc_now_delinq</th>\n",
       "      <th>tot_coll_amt</th>\n",
       "      <th>tot_cur_bal</th>\n",
       "      <th>open_acc_6m</th>\n",
       "      <th>open_il_6m</th>\n",
       "      <th>open_il_12m</th>\n",
       "      <th>open_il_24m</th>\n",
       "      <th>mths_since_rcnt_il</th>\n",
       "      <th>total_bal_il</th>\n",
       "      <th>il_util</th>\n",
       "      <th>open_rv_12m</th>\n",
       "      <th>open_rv_24m</th>\n",
       "      <th>max_bal_bc</th>\n",
       "      <th>all_util</th>\n",
       "      <th>total_rev_hi_lim</th>\n",
       "      <th>inq_fi</th>\n",
       "      <th>total_cu_tl</th>\n",
       "      <th>inq_last_12m</th>\n",
       "      <th>default_ind</th>\n",
       "    </tr>\n",
       "  </thead>\n",
       "  <tbody>\n",
       "    <tr>\n",
       "      <th>0</th>\n",
       "      <td>1077501</td>\n",
       "      <td>1296599</td>\n",
       "      <td>5000.0</td>\n",
       "      <td>5000.0</td>\n",
       "      <td>4975.0</td>\n",
       "      <td>36 months</td>\n",
       "      <td>10.65</td>\n",
       "      <td>162.87</td>\n",
       "      <td>B</td>\n",
       "      <td>B2</td>\n",
       "      <td>NaN</td>\n",
       "      <td>10+ years</td>\n",
       "      <td>RENT</td>\n",
       "      <td>24000.0</td>\n",
       "      <td>Verified</td>\n",
       "      <td>Dec-2011</td>\n",
       "      <td>n</td>\n",
       "      <td>Borrower added on 12/22/11 &gt; I need to upgra...</td>\n",
       "      <td>credit_card</td>\n",
       "      <td>Computer</td>\n",
       "      <td>860xx</td>\n",
       "      <td>AZ</td>\n",
       "      <td>27.65</td>\n",
       "      <td>0.0</td>\n",
       "      <td>Jan-1985</td>\n",
       "      <td>1.0</td>\n",
       "      <td>NaN</td>\n",
       "      <td>NaN</td>\n",
       "      <td>3.0</td>\n",
       "      <td>0.0</td>\n",
       "      <td>13648.0</td>\n",
       "      <td>83.7</td>\n",
       "      <td>9.0</td>\n",
       "      <td>f</td>\n",
       "      <td>0.0</td>\n",
       "      <td>0.0</td>\n",
       "      <td>5861.071414</td>\n",
       "      <td>5831.78</td>\n",
       "      <td>5000.00</td>\n",
       "      <td>861.07</td>\n",
       "      <td>0.00</td>\n",
       "      <td>0.00</td>\n",
       "      <td>0.00</td>\n",
       "      <td>Jan-2015</td>\n",
       "      <td>171.62</td>\n",
       "      <td>NaN</td>\n",
       "      <td>Jan-2016</td>\n",
       "      <td>0.0</td>\n",
       "      <td>NaN</td>\n",
       "      <td>1.0</td>\n",
       "      <td>INDIVIDUAL</td>\n",
       "      <td>NaN</td>\n",
       "      <td>NaN</td>\n",
       "      <td>NaN</td>\n",
       "      <td>0.0</td>\n",
       "      <td>NaN</td>\n",
       "      <td>NaN</td>\n",
       "      <td>NaN</td>\n",
       "      <td>NaN</td>\n",
       "      <td>NaN</td>\n",
       "      <td>NaN</td>\n",
       "      <td>NaN</td>\n",
       "      <td>NaN</td>\n",
       "      <td>NaN</td>\n",
       "      <td>NaN</td>\n",
       "      <td>NaN</td>\n",
       "      <td>NaN</td>\n",
       "      <td>NaN</td>\n",
       "      <td>NaN</td>\n",
       "      <td>NaN</td>\n",
       "      <td>NaN</td>\n",
       "      <td>NaN</td>\n",
       "      <td>0</td>\n",
       "    </tr>\n",
       "    <tr>\n",
       "      <th>1</th>\n",
       "      <td>1077430</td>\n",
       "      <td>1314167</td>\n",
       "      <td>2500.0</td>\n",
       "      <td>2500.0</td>\n",
       "      <td>2500.0</td>\n",
       "      <td>60 months</td>\n",
       "      <td>15.27</td>\n",
       "      <td>59.83</td>\n",
       "      <td>C</td>\n",
       "      <td>C4</td>\n",
       "      <td>Ryder</td>\n",
       "      <td>&lt; 1 year</td>\n",
       "      <td>RENT</td>\n",
       "      <td>30000.0</td>\n",
       "      <td>Source Verified</td>\n",
       "      <td>Dec-2011</td>\n",
       "      <td>n</td>\n",
       "      <td>Borrower added on 12/22/11 &gt; I plan to use t...</td>\n",
       "      <td>car</td>\n",
       "      <td>bike</td>\n",
       "      <td>309xx</td>\n",
       "      <td>GA</td>\n",
       "      <td>1.00</td>\n",
       "      <td>0.0</td>\n",
       "      <td>Apr-1999</td>\n",
       "      <td>5.0</td>\n",
       "      <td>NaN</td>\n",
       "      <td>NaN</td>\n",
       "      <td>3.0</td>\n",
       "      <td>0.0</td>\n",
       "      <td>1687.0</td>\n",
       "      <td>9.4</td>\n",
       "      <td>4.0</td>\n",
       "      <td>f</td>\n",
       "      <td>0.0</td>\n",
       "      <td>0.0</td>\n",
       "      <td>1008.710000</td>\n",
       "      <td>1008.71</td>\n",
       "      <td>456.46</td>\n",
       "      <td>435.17</td>\n",
       "      <td>0.00</td>\n",
       "      <td>117.08</td>\n",
       "      <td>1.11</td>\n",
       "      <td>Apr-2013</td>\n",
       "      <td>119.66</td>\n",
       "      <td>NaN</td>\n",
       "      <td>Sep-2013</td>\n",
       "      <td>0.0</td>\n",
       "      <td>NaN</td>\n",
       "      <td>1.0</td>\n",
       "      <td>INDIVIDUAL</td>\n",
       "      <td>NaN</td>\n",
       "      <td>NaN</td>\n",
       "      <td>NaN</td>\n",
       "      <td>0.0</td>\n",
       "      <td>NaN</td>\n",
       "      <td>NaN</td>\n",
       "      <td>NaN</td>\n",
       "      <td>NaN</td>\n",
       "      <td>NaN</td>\n",
       "      <td>NaN</td>\n",
       "      <td>NaN</td>\n",
       "      <td>NaN</td>\n",
       "      <td>NaN</td>\n",
       "      <td>NaN</td>\n",
       "      <td>NaN</td>\n",
       "      <td>NaN</td>\n",
       "      <td>NaN</td>\n",
       "      <td>NaN</td>\n",
       "      <td>NaN</td>\n",
       "      <td>NaN</td>\n",
       "      <td>NaN</td>\n",
       "      <td>1</td>\n",
       "    </tr>\n",
       "    <tr>\n",
       "      <th>2</th>\n",
       "      <td>1077175</td>\n",
       "      <td>1313524</td>\n",
       "      <td>2400.0</td>\n",
       "      <td>2400.0</td>\n",
       "      <td>2400.0</td>\n",
       "      <td>36 months</td>\n",
       "      <td>15.96</td>\n",
       "      <td>84.33</td>\n",
       "      <td>C</td>\n",
       "      <td>C5</td>\n",
       "      <td>NaN</td>\n",
       "      <td>10+ years</td>\n",
       "      <td>RENT</td>\n",
       "      <td>12252.0</td>\n",
       "      <td>Not Verified</td>\n",
       "      <td>Dec-2011</td>\n",
       "      <td>n</td>\n",
       "      <td>NaN</td>\n",
       "      <td>small_business</td>\n",
       "      <td>real estate business</td>\n",
       "      <td>606xx</td>\n",
       "      <td>IL</td>\n",
       "      <td>8.72</td>\n",
       "      <td>0.0</td>\n",
       "      <td>Nov-2001</td>\n",
       "      <td>2.0</td>\n",
       "      <td>NaN</td>\n",
       "      <td>NaN</td>\n",
       "      <td>2.0</td>\n",
       "      <td>0.0</td>\n",
       "      <td>2956.0</td>\n",
       "      <td>98.5</td>\n",
       "      <td>10.0</td>\n",
       "      <td>f</td>\n",
       "      <td>0.0</td>\n",
       "      <td>0.0</td>\n",
       "      <td>3003.653644</td>\n",
       "      <td>3003.65</td>\n",
       "      <td>2400.00</td>\n",
       "      <td>603.65</td>\n",
       "      <td>0.00</td>\n",
       "      <td>0.00</td>\n",
       "      <td>0.00</td>\n",
       "      <td>Jun-2014</td>\n",
       "      <td>649.91</td>\n",
       "      <td>NaN</td>\n",
       "      <td>Jan-2016</td>\n",
       "      <td>0.0</td>\n",
       "      <td>NaN</td>\n",
       "      <td>1.0</td>\n",
       "      <td>INDIVIDUAL</td>\n",
       "      <td>NaN</td>\n",
       "      <td>NaN</td>\n",
       "      <td>NaN</td>\n",
       "      <td>0.0</td>\n",
       "      <td>NaN</td>\n",
       "      <td>NaN</td>\n",
       "      <td>NaN</td>\n",
       "      <td>NaN</td>\n",
       "      <td>NaN</td>\n",
       "      <td>NaN</td>\n",
       "      <td>NaN</td>\n",
       "      <td>NaN</td>\n",
       "      <td>NaN</td>\n",
       "      <td>NaN</td>\n",
       "      <td>NaN</td>\n",
       "      <td>NaN</td>\n",
       "      <td>NaN</td>\n",
       "      <td>NaN</td>\n",
       "      <td>NaN</td>\n",
       "      <td>NaN</td>\n",
       "      <td>NaN</td>\n",
       "      <td>0</td>\n",
       "    </tr>\n",
       "    <tr>\n",
       "      <th>3</th>\n",
       "      <td>1076863</td>\n",
       "      <td>1277178</td>\n",
       "      <td>10000.0</td>\n",
       "      <td>10000.0</td>\n",
       "      <td>10000.0</td>\n",
       "      <td>36 months</td>\n",
       "      <td>13.49</td>\n",
       "      <td>339.31</td>\n",
       "      <td>C</td>\n",
       "      <td>C1</td>\n",
       "      <td>AIR RESOURCES BOARD</td>\n",
       "      <td>10+ years</td>\n",
       "      <td>RENT</td>\n",
       "      <td>49200.0</td>\n",
       "      <td>Source Verified</td>\n",
       "      <td>Dec-2011</td>\n",
       "      <td>n</td>\n",
       "      <td>Borrower added on 12/21/11 &gt; to pay for prop...</td>\n",
       "      <td>other</td>\n",
       "      <td>personel</td>\n",
       "      <td>917xx</td>\n",
       "      <td>CA</td>\n",
       "      <td>20.00</td>\n",
       "      <td>0.0</td>\n",
       "      <td>Feb-1996</td>\n",
       "      <td>1.0</td>\n",
       "      <td>35.0</td>\n",
       "      <td>NaN</td>\n",
       "      <td>10.0</td>\n",
       "      <td>0.0</td>\n",
       "      <td>5598.0</td>\n",
       "      <td>21.0</td>\n",
       "      <td>37.0</td>\n",
       "      <td>f</td>\n",
       "      <td>0.0</td>\n",
       "      <td>0.0</td>\n",
       "      <td>12226.302212</td>\n",
       "      <td>12226.30</td>\n",
       "      <td>10000.00</td>\n",
       "      <td>2209.33</td>\n",
       "      <td>16.97</td>\n",
       "      <td>0.00</td>\n",
       "      <td>0.00</td>\n",
       "      <td>Jan-2015</td>\n",
       "      <td>357.48</td>\n",
       "      <td>NaN</td>\n",
       "      <td>Jan-2015</td>\n",
       "      <td>0.0</td>\n",
       "      <td>NaN</td>\n",
       "      <td>1.0</td>\n",
       "      <td>INDIVIDUAL</td>\n",
       "      <td>NaN</td>\n",
       "      <td>NaN</td>\n",
       "      <td>NaN</td>\n",
       "      <td>0.0</td>\n",
       "      <td>NaN</td>\n",
       "      <td>NaN</td>\n",
       "      <td>NaN</td>\n",
       "      <td>NaN</td>\n",
       "      <td>NaN</td>\n",
       "      <td>NaN</td>\n",
       "      <td>NaN</td>\n",
       "      <td>NaN</td>\n",
       "      <td>NaN</td>\n",
       "      <td>NaN</td>\n",
       "      <td>NaN</td>\n",
       "      <td>NaN</td>\n",
       "      <td>NaN</td>\n",
       "      <td>NaN</td>\n",
       "      <td>NaN</td>\n",
       "      <td>NaN</td>\n",
       "      <td>NaN</td>\n",
       "      <td>0</td>\n",
       "    </tr>\n",
       "    <tr>\n",
       "      <th>4</th>\n",
       "      <td>1075358</td>\n",
       "      <td>1311748</td>\n",
       "      <td>3000.0</td>\n",
       "      <td>3000.0</td>\n",
       "      <td>3000.0</td>\n",
       "      <td>60 months</td>\n",
       "      <td>12.69</td>\n",
       "      <td>67.79</td>\n",
       "      <td>B</td>\n",
       "      <td>B5</td>\n",
       "      <td>University Medical Group</td>\n",
       "      <td>1 year</td>\n",
       "      <td>RENT</td>\n",
       "      <td>80000.0</td>\n",
       "      <td>Source Verified</td>\n",
       "      <td>Dec-2011</td>\n",
       "      <td>n</td>\n",
       "      <td>Borrower added on 12/21/11 &gt; I plan on combi...</td>\n",
       "      <td>other</td>\n",
       "      <td>Personal</td>\n",
       "      <td>972xx</td>\n",
       "      <td>OR</td>\n",
       "      <td>17.94</td>\n",
       "      <td>0.0</td>\n",
       "      <td>Jan-1996</td>\n",
       "      <td>0.0</td>\n",
       "      <td>38.0</td>\n",
       "      <td>NaN</td>\n",
       "      <td>15.0</td>\n",
       "      <td>0.0</td>\n",
       "      <td>27783.0</td>\n",
       "      <td>53.9</td>\n",
       "      <td>38.0</td>\n",
       "      <td>f</td>\n",
       "      <td>766.9</td>\n",
       "      <td>766.9</td>\n",
       "      <td>3242.170000</td>\n",
       "      <td>3242.17</td>\n",
       "      <td>2233.10</td>\n",
       "      <td>1009.07</td>\n",
       "      <td>0.00</td>\n",
       "      <td>0.00</td>\n",
       "      <td>0.00</td>\n",
       "      <td>Jan-2016</td>\n",
       "      <td>67.79</td>\n",
       "      <td>Feb-2016</td>\n",
       "      <td>Jan-2016</td>\n",
       "      <td>0.0</td>\n",
       "      <td>NaN</td>\n",
       "      <td>1.0</td>\n",
       "      <td>INDIVIDUAL</td>\n",
       "      <td>NaN</td>\n",
       "      <td>NaN</td>\n",
       "      <td>NaN</td>\n",
       "      <td>0.0</td>\n",
       "      <td>NaN</td>\n",
       "      <td>NaN</td>\n",
       "      <td>NaN</td>\n",
       "      <td>NaN</td>\n",
       "      <td>NaN</td>\n",
       "      <td>NaN</td>\n",
       "      <td>NaN</td>\n",
       "      <td>NaN</td>\n",
       "      <td>NaN</td>\n",
       "      <td>NaN</td>\n",
       "      <td>NaN</td>\n",
       "      <td>NaN</td>\n",
       "      <td>NaN</td>\n",
       "      <td>NaN</td>\n",
       "      <td>NaN</td>\n",
       "      <td>NaN</td>\n",
       "      <td>NaN</td>\n",
       "      <td>0</td>\n",
       "    </tr>\n",
       "  </tbody>\n",
       "</table>\n",
       "</div>"
      ],
      "text/plain": [
       "        id  member_id  loan_amnt  funded_amnt  funded_amnt_inv        term  \\\n",
       "0  1077501    1296599     5000.0       5000.0           4975.0   36 months   \n",
       "1  1077430    1314167     2500.0       2500.0           2500.0   60 months   \n",
       "2  1077175    1313524     2400.0       2400.0           2400.0   36 months   \n",
       "3  1076863    1277178    10000.0      10000.0          10000.0   36 months   \n",
       "4  1075358    1311748     3000.0       3000.0           3000.0   60 months   \n",
       "\n",
       "   int_rate  installment grade sub_grade                 emp_title emp_length  \\\n",
       "0     10.65       162.87     B        B2                       NaN  10+ years   \n",
       "1     15.27        59.83     C        C4                     Ryder   < 1 year   \n",
       "2     15.96        84.33     C        C5                       NaN  10+ years   \n",
       "3     13.49       339.31     C        C1       AIR RESOURCES BOARD  10+ years   \n",
       "4     12.69        67.79     B        B5  University Medical Group     1 year   \n",
       "\n",
       "  home_ownership  annual_inc verification_status   issue_d pymnt_plan  \\\n",
       "0           RENT     24000.0            Verified  Dec-2011          n   \n",
       "1           RENT     30000.0     Source Verified  Dec-2011          n   \n",
       "2           RENT     12252.0        Not Verified  Dec-2011          n   \n",
       "3           RENT     49200.0     Source Verified  Dec-2011          n   \n",
       "4           RENT     80000.0     Source Verified  Dec-2011          n   \n",
       "\n",
       "                                                desc         purpose  \\\n",
       "0    Borrower added on 12/22/11 > I need to upgra...     credit_card   \n",
       "1    Borrower added on 12/22/11 > I plan to use t...             car   \n",
       "2                                                NaN  small_business   \n",
       "3    Borrower added on 12/21/11 > to pay for prop...           other   \n",
       "4    Borrower added on 12/21/11 > I plan on combi...           other   \n",
       "\n",
       "                  title zip_code addr_state    dti  delinq_2yrs  \\\n",
       "0              Computer    860xx         AZ  27.65          0.0   \n",
       "1                  bike    309xx         GA   1.00          0.0   \n",
       "2  real estate business    606xx         IL   8.72          0.0   \n",
       "3              personel    917xx         CA  20.00          0.0   \n",
       "4              Personal    972xx         OR  17.94          0.0   \n",
       "\n",
       "  earliest_cr_line  inq_last_6mths  mths_since_last_delinq  \\\n",
       "0         Jan-1985             1.0                     NaN   \n",
       "1         Apr-1999             5.0                     NaN   \n",
       "2         Nov-2001             2.0                     NaN   \n",
       "3         Feb-1996             1.0                    35.0   \n",
       "4         Jan-1996             0.0                    38.0   \n",
       "\n",
       "   mths_since_last_record  open_acc  pub_rec  revol_bal  revol_util  \\\n",
       "0                     NaN       3.0      0.0    13648.0        83.7   \n",
       "1                     NaN       3.0      0.0     1687.0         9.4   \n",
       "2                     NaN       2.0      0.0     2956.0        98.5   \n",
       "3                     NaN      10.0      0.0     5598.0        21.0   \n",
       "4                     NaN      15.0      0.0    27783.0        53.9   \n",
       "\n",
       "   total_acc initial_list_status  out_prncp  out_prncp_inv   total_pymnt  \\\n",
       "0        9.0                   f        0.0            0.0   5861.071414   \n",
       "1        4.0                   f        0.0            0.0   1008.710000   \n",
       "2       10.0                   f        0.0            0.0   3003.653644   \n",
       "3       37.0                   f        0.0            0.0  12226.302212   \n",
       "4       38.0                   f      766.9          766.9   3242.170000   \n",
       "\n",
       "   total_pymnt_inv  total_rec_prncp  total_rec_int  total_rec_late_fee  \\\n",
       "0          5831.78          5000.00         861.07                0.00   \n",
       "1          1008.71           456.46         435.17                0.00   \n",
       "2          3003.65          2400.00         603.65                0.00   \n",
       "3         12226.30         10000.00        2209.33               16.97   \n",
       "4          3242.17          2233.10        1009.07                0.00   \n",
       "\n",
       "   recoveries  collection_recovery_fee last_pymnt_d  last_pymnt_amnt  \\\n",
       "0        0.00                     0.00     Jan-2015           171.62   \n",
       "1      117.08                     1.11     Apr-2013           119.66   \n",
       "2        0.00                     0.00     Jun-2014           649.91   \n",
       "3        0.00                     0.00     Jan-2015           357.48   \n",
       "4        0.00                     0.00     Jan-2016            67.79   \n",
       "\n",
       "  next_pymnt_d last_credit_pull_d  collections_12_mths_ex_med  \\\n",
       "0          NaN           Jan-2016                         0.0   \n",
       "1          NaN           Sep-2013                         0.0   \n",
       "2          NaN           Jan-2016                         0.0   \n",
       "3          NaN           Jan-2015                         0.0   \n",
       "4     Feb-2016           Jan-2016                         0.0   \n",
       "\n",
       "   mths_since_last_major_derog  policy_code application_type  \\\n",
       "0                          NaN          1.0       INDIVIDUAL   \n",
       "1                          NaN          1.0       INDIVIDUAL   \n",
       "2                          NaN          1.0       INDIVIDUAL   \n",
       "3                          NaN          1.0       INDIVIDUAL   \n",
       "4                          NaN          1.0       INDIVIDUAL   \n",
       "\n",
       "   annual_inc_joint  dti_joint verification_status_joint  acc_now_delinq  \\\n",
       "0               NaN        NaN                       NaN             0.0   \n",
       "1               NaN        NaN                       NaN             0.0   \n",
       "2               NaN        NaN                       NaN             0.0   \n",
       "3               NaN        NaN                       NaN             0.0   \n",
       "4               NaN        NaN                       NaN             0.0   \n",
       "\n",
       "   tot_coll_amt  tot_cur_bal  open_acc_6m  open_il_6m  open_il_12m  \\\n",
       "0           NaN          NaN          NaN         NaN          NaN   \n",
       "1           NaN          NaN          NaN         NaN          NaN   \n",
       "2           NaN          NaN          NaN         NaN          NaN   \n",
       "3           NaN          NaN          NaN         NaN          NaN   \n",
       "4           NaN          NaN          NaN         NaN          NaN   \n",
       "\n",
       "   open_il_24m  mths_since_rcnt_il  total_bal_il  il_util  open_rv_12m  \\\n",
       "0          NaN                 NaN           NaN      NaN          NaN   \n",
       "1          NaN                 NaN           NaN      NaN          NaN   \n",
       "2          NaN                 NaN           NaN      NaN          NaN   \n",
       "3          NaN                 NaN           NaN      NaN          NaN   \n",
       "4          NaN                 NaN           NaN      NaN          NaN   \n",
       "\n",
       "   open_rv_24m  max_bal_bc  all_util  total_rev_hi_lim  inq_fi  total_cu_tl  \\\n",
       "0          NaN         NaN       NaN               NaN     NaN          NaN   \n",
       "1          NaN         NaN       NaN               NaN     NaN          NaN   \n",
       "2          NaN         NaN       NaN               NaN     NaN          NaN   \n",
       "3          NaN         NaN       NaN               NaN     NaN          NaN   \n",
       "4          NaN         NaN       NaN               NaN     NaN          NaN   \n",
       "\n",
       "   inq_last_12m  default_ind  \n",
       "0           NaN            0  \n",
       "1           NaN            1  \n",
       "2           NaN            0  \n",
       "3           NaN            0  \n",
       "4           NaN            0  "
      ]
     },
     "execution_count": 4,
     "metadata": {},
     "output_type": "execute_result"
    }
   ],
   "source": [
    "\n",
    "data = pd.read_csv('XYZCorp_LendingData.txt',sep=\"\\t\",low_memory=False)\n",
    "data.head()"
   ]
  },
  {
   "cell_type": "code",
   "execution_count": 5,
   "metadata": {},
   "outputs": [
    {
     "data": {
      "text/plain": [
       "(855969, 73)"
      ]
     },
     "execution_count": 5,
     "metadata": {},
     "output_type": "execute_result"
    }
   ],
   "source": [
    "data.shape"
   ]
  },
  {
   "cell_type": "code",
   "execution_count": 6,
   "metadata": {},
   "outputs": [
    {
     "data": {
      "text/html": [
       "<div>\n",
       "<style scoped>\n",
       "    .dataframe tbody tr th:only-of-type {\n",
       "        vertical-align: middle;\n",
       "    }\n",
       "\n",
       "    .dataframe tbody tr th {\n",
       "        vertical-align: top;\n",
       "    }\n",
       "\n",
       "    .dataframe thead th {\n",
       "        text-align: right;\n",
       "    }\n",
       "</style>\n",
       "<table border=\"1\" class=\"dataframe\">\n",
       "  <thead>\n",
       "    <tr style=\"text-align: right;\">\n",
       "      <th></th>\n",
       "      <th>id</th>\n",
       "      <th>member_id</th>\n",
       "      <th>loan_amnt</th>\n",
       "      <th>funded_amnt</th>\n",
       "      <th>funded_amnt_inv</th>\n",
       "      <th>int_rate</th>\n",
       "      <th>installment</th>\n",
       "      <th>annual_inc</th>\n",
       "      <th>dti</th>\n",
       "      <th>delinq_2yrs</th>\n",
       "      <th>inq_last_6mths</th>\n",
       "      <th>mths_since_last_delinq</th>\n",
       "      <th>mths_since_last_record</th>\n",
       "      <th>open_acc</th>\n",
       "      <th>pub_rec</th>\n",
       "      <th>revol_bal</th>\n",
       "      <th>revol_util</th>\n",
       "      <th>total_acc</th>\n",
       "      <th>out_prncp</th>\n",
       "      <th>out_prncp_inv</th>\n",
       "      <th>total_pymnt</th>\n",
       "      <th>total_pymnt_inv</th>\n",
       "      <th>total_rec_prncp</th>\n",
       "      <th>total_rec_int</th>\n",
       "      <th>total_rec_late_fee</th>\n",
       "      <th>recoveries</th>\n",
       "      <th>collection_recovery_fee</th>\n",
       "      <th>last_pymnt_amnt</th>\n",
       "      <th>collections_12_mths_ex_med</th>\n",
       "      <th>mths_since_last_major_derog</th>\n",
       "      <th>policy_code</th>\n",
       "      <th>annual_inc_joint</th>\n",
       "      <th>dti_joint</th>\n",
       "      <th>acc_now_delinq</th>\n",
       "      <th>tot_coll_amt</th>\n",
       "      <th>tot_cur_bal</th>\n",
       "      <th>open_acc_6m</th>\n",
       "      <th>open_il_6m</th>\n",
       "      <th>open_il_12m</th>\n",
       "      <th>open_il_24m</th>\n",
       "      <th>mths_since_rcnt_il</th>\n",
       "      <th>total_bal_il</th>\n",
       "      <th>il_util</th>\n",
       "      <th>open_rv_12m</th>\n",
       "      <th>open_rv_24m</th>\n",
       "      <th>max_bal_bc</th>\n",
       "      <th>all_util</th>\n",
       "      <th>total_rev_hi_lim</th>\n",
       "      <th>inq_fi</th>\n",
       "      <th>total_cu_tl</th>\n",
       "      <th>inq_last_12m</th>\n",
       "      <th>default_ind</th>\n",
       "    </tr>\n",
       "  </thead>\n",
       "  <tbody>\n",
       "    <tr>\n",
       "      <th>count</th>\n",
       "      <td>8.559690e+05</td>\n",
       "      <td>8.559690e+05</td>\n",
       "      <td>855969.000000</td>\n",
       "      <td>855969.000000</td>\n",
       "      <td>855969.000000</td>\n",
       "      <td>855969.000000</td>\n",
       "      <td>855969.000000</td>\n",
       "      <td>8.559690e+05</td>\n",
       "      <td>855969.000000</td>\n",
       "      <td>855969.000000</td>\n",
       "      <td>855969.000000</td>\n",
       "      <td>416157.000000</td>\n",
       "      <td>131184.000000</td>\n",
       "      <td>855969.000000</td>\n",
       "      <td>855969.000000</td>\n",
       "      <td>8.559690e+05</td>\n",
       "      <td>855523.000000</td>\n",
       "      <td>855969.000000</td>\n",
       "      <td>855969.000000</td>\n",
       "      <td>855969.000000</td>\n",
       "      <td>855969.000000</td>\n",
       "      <td>855969.00000</td>\n",
       "      <td>855969.000000</td>\n",
       "      <td>855969.000000</td>\n",
       "      <td>855969.000000</td>\n",
       "      <td>855969.000000</td>\n",
       "      <td>855969.000000</td>\n",
       "      <td>855969.000000</td>\n",
       "      <td>855913.000000</td>\n",
       "      <td>213139.000000</td>\n",
       "      <td>855969.0</td>\n",
       "      <td>442.000000</td>\n",
       "      <td>440.000000</td>\n",
       "      <td>855969.000000</td>\n",
       "      <td>7.886560e+05</td>\n",
       "      <td>7.886560e+05</td>\n",
       "      <td>13288.000000</td>\n",
       "      <td>13288.000000</td>\n",
       "      <td>13288.000000</td>\n",
       "      <td>13288.000000</td>\n",
       "      <td>12934.000000</td>\n",
       "      <td>13288.000000</td>\n",
       "      <td>11609.000000</td>\n",
       "      <td>13288.000000</td>\n",
       "      <td>13288.000000</td>\n",
       "      <td>13288.000000</td>\n",
       "      <td>13288.000000</td>\n",
       "      <td>7.886560e+05</td>\n",
       "      <td>13288.000000</td>\n",
       "      <td>13288.000000</td>\n",
       "      <td>13288.000000</td>\n",
       "      <td>855969.000000</td>\n",
       "    </tr>\n",
       "    <tr>\n",
       "      <th>mean</th>\n",
       "      <td>3.224073e+07</td>\n",
       "      <td>3.476269e+07</td>\n",
       "      <td>14745.571335</td>\n",
       "      <td>14732.378305</td>\n",
       "      <td>14700.061226</td>\n",
       "      <td>13.192320</td>\n",
       "      <td>436.238072</td>\n",
       "      <td>7.507119e+04</td>\n",
       "      <td>18.122165</td>\n",
       "      <td>0.311621</td>\n",
       "      <td>0.680915</td>\n",
       "      <td>34.149943</td>\n",
       "      <td>70.463959</td>\n",
       "      <td>11.542447</td>\n",
       "      <td>0.194537</td>\n",
       "      <td>1.691053e+04</td>\n",
       "      <td>55.019405</td>\n",
       "      <td>25.269269</td>\n",
       "      <td>8284.830230</td>\n",
       "      <td>8281.449347</td>\n",
       "      <td>7653.296336</td>\n",
       "      <td>7622.22052</td>\n",
       "      <td>5850.841088</td>\n",
       "      <td>1755.046221</td>\n",
       "      <td>0.319530</td>\n",
       "      <td>47.089499</td>\n",
       "      <td>4.951227</td>\n",
       "      <td>2225.985295</td>\n",
       "      <td>0.014230</td>\n",
       "      <td>44.101450</td>\n",
       "      <td>1.0</td>\n",
       "      <td>107412.163982</td>\n",
       "      <td>18.318477</td>\n",
       "      <td>0.004944</td>\n",
       "      <td>2.254129e+02</td>\n",
       "      <td>1.397662e+05</td>\n",
       "      <td>1.072998</td>\n",
       "      <td>2.945665</td>\n",
       "      <td>0.749323</td>\n",
       "      <td>1.666767</td>\n",
       "      <td>20.833153</td>\n",
       "      <td>36511.541391</td>\n",
       "      <td>71.486993</td>\n",
       "      <td>1.354305</td>\n",
       "      <td>2.945515</td>\n",
       "      <td>5840.443332</td>\n",
       "      <td>61.024526</td>\n",
       "      <td>3.216357e+04</td>\n",
       "      <td>0.947772</td>\n",
       "      <td>1.524232</td>\n",
       "      <td>1.841963</td>\n",
       "      <td>0.054286</td>\n",
       "    </tr>\n",
       "    <tr>\n",
       "      <th>std</th>\n",
       "      <td>2.271969e+07</td>\n",
       "      <td>2.399418e+07</td>\n",
       "      <td>8425.340005</td>\n",
       "      <td>8419.471653</td>\n",
       "      <td>8425.805478</td>\n",
       "      <td>4.368365</td>\n",
       "      <td>243.726876</td>\n",
       "      <td>6.426447e+04</td>\n",
       "      <td>17.423629</td>\n",
       "      <td>0.857189</td>\n",
       "      <td>0.964033</td>\n",
       "      <td>21.868500</td>\n",
       "      <td>27.827120</td>\n",
       "      <td>5.308094</td>\n",
       "      <td>0.581585</td>\n",
       "      <td>2.222374e+04</td>\n",
       "      <td>23.811585</td>\n",
       "      <td>11.818841</td>\n",
       "      <td>8461.946669</td>\n",
       "      <td>8458.496422</td>\n",
       "      <td>7909.383591</td>\n",
       "      <td>7885.15640</td>\n",
       "      <td>6676.410888</td>\n",
       "      <td>2081.692980</td>\n",
       "      <td>3.609399</td>\n",
       "      <td>413.136043</td>\n",
       "      <td>62.478569</td>\n",
       "      <td>4864.966593</td>\n",
       "      <td>0.133712</td>\n",
       "      <td>22.164907</td>\n",
       "      <td>0.0</td>\n",
       "      <td>47987.608637</td>\n",
       "      <td>7.221855</td>\n",
       "      <td>0.077333</td>\n",
       "      <td>1.048945e+04</td>\n",
       "      <td>1.539385e+05</td>\n",
       "      <td>1.206939</td>\n",
       "      <td>3.080330</td>\n",
       "      <td>0.986169</td>\n",
       "      <td>1.685394</td>\n",
       "      <td>26.739237</td>\n",
       "      <td>42492.757796</td>\n",
       "      <td>23.015293</td>\n",
       "      <td>1.483710</td>\n",
       "      <td>2.595313</td>\n",
       "      <td>5108.500262</td>\n",
       "      <td>20.018117</td>\n",
       "      <td>3.769964e+04</td>\n",
       "      <td>1.441667</td>\n",
       "      <td>2.697601</td>\n",
       "      <td>2.975049</td>\n",
       "      <td>0.226581</td>\n",
       "    </tr>\n",
       "    <tr>\n",
       "      <th>min</th>\n",
       "      <td>5.473400e+04</td>\n",
       "      <td>7.069900e+04</td>\n",
       "      <td>500.000000</td>\n",
       "      <td>500.000000</td>\n",
       "      <td>0.000000</td>\n",
       "      <td>5.320000</td>\n",
       "      <td>15.690000</td>\n",
       "      <td>0.000000e+00</td>\n",
       "      <td>0.000000</td>\n",
       "      <td>0.000000</td>\n",
       "      <td>0.000000</td>\n",
       "      <td>0.000000</td>\n",
       "      <td>0.000000</td>\n",
       "      <td>0.000000</td>\n",
       "      <td>0.000000</td>\n",
       "      <td>0.000000e+00</td>\n",
       "      <td>0.000000</td>\n",
       "      <td>2.000000</td>\n",
       "      <td>0.000000</td>\n",
       "      <td>0.000000</td>\n",
       "      <td>0.000000</td>\n",
       "      <td>0.00000</td>\n",
       "      <td>0.000000</td>\n",
       "      <td>0.000000</td>\n",
       "      <td>0.000000</td>\n",
       "      <td>0.000000</td>\n",
       "      <td>0.000000</td>\n",
       "      <td>0.000000</td>\n",
       "      <td>0.000000</td>\n",
       "      <td>0.000000</td>\n",
       "      <td>1.0</td>\n",
       "      <td>17950.000000</td>\n",
       "      <td>3.050000</td>\n",
       "      <td>0.000000</td>\n",
       "      <td>0.000000e+00</td>\n",
       "      <td>0.000000e+00</td>\n",
       "      <td>0.000000</td>\n",
       "      <td>0.000000</td>\n",
       "      <td>0.000000</td>\n",
       "      <td>0.000000</td>\n",
       "      <td>0.000000</td>\n",
       "      <td>0.000000</td>\n",
       "      <td>0.000000</td>\n",
       "      <td>0.000000</td>\n",
       "      <td>0.000000</td>\n",
       "      <td>0.000000</td>\n",
       "      <td>0.000000</td>\n",
       "      <td>0.000000e+00</td>\n",
       "      <td>0.000000</td>\n",
       "      <td>0.000000</td>\n",
       "      <td>-4.000000</td>\n",
       "      <td>0.000000</td>\n",
       "    </tr>\n",
       "    <tr>\n",
       "      <th>25%</th>\n",
       "      <td>9.067986e+06</td>\n",
       "      <td>1.079273e+07</td>\n",
       "      <td>8000.000000</td>\n",
       "      <td>8000.000000</td>\n",
       "      <td>8000.000000</td>\n",
       "      <td>9.990000</td>\n",
       "      <td>260.550000</td>\n",
       "      <td>4.500000e+04</td>\n",
       "      <td>11.880000</td>\n",
       "      <td>0.000000</td>\n",
       "      <td>0.000000</td>\n",
       "      <td>15.000000</td>\n",
       "      <td>51.000000</td>\n",
       "      <td>8.000000</td>\n",
       "      <td>0.000000</td>\n",
       "      <td>6.469000e+03</td>\n",
       "      <td>37.600000</td>\n",
       "      <td>17.000000</td>\n",
       "      <td>0.000000</td>\n",
       "      <td>0.000000</td>\n",
       "      <td>1969.690000</td>\n",
       "      <td>1960.12000</td>\n",
       "      <td>1239.950000</td>\n",
       "      <td>451.270000</td>\n",
       "      <td>0.000000</td>\n",
       "      <td>0.000000</td>\n",
       "      <td>0.000000</td>\n",
       "      <td>285.420000</td>\n",
       "      <td>0.000000</td>\n",
       "      <td>27.000000</td>\n",
       "      <td>1.0</td>\n",
       "      <td>75000.250000</td>\n",
       "      <td>13.187500</td>\n",
       "      <td>0.000000</td>\n",
       "      <td>0.000000e+00</td>\n",
       "      <td>2.987000e+04</td>\n",
       "      <td>0.000000</td>\n",
       "      <td>1.000000</td>\n",
       "      <td>0.000000</td>\n",
       "      <td>0.000000</td>\n",
       "      <td>6.000000</td>\n",
       "      <td>10390.250000</td>\n",
       "      <td>58.500000</td>\n",
       "      <td>0.000000</td>\n",
       "      <td>1.000000</td>\n",
       "      <td>2405.000000</td>\n",
       "      <td>47.900000</td>\n",
       "      <td>1.400000e+04</td>\n",
       "      <td>0.000000</td>\n",
       "      <td>0.000000</td>\n",
       "      <td>0.000000</td>\n",
       "      <td>0.000000</td>\n",
       "    </tr>\n",
       "    <tr>\n",
       "      <th>50%</th>\n",
       "      <td>3.431355e+07</td>\n",
       "      <td>3.697532e+07</td>\n",
       "      <td>13000.000000</td>\n",
       "      <td>13000.000000</td>\n",
       "      <td>13000.000000</td>\n",
       "      <td>12.990000</td>\n",
       "      <td>382.550000</td>\n",
       "      <td>6.500000e+04</td>\n",
       "      <td>17.610000</td>\n",
       "      <td>0.000000</td>\n",
       "      <td>0.000000</td>\n",
       "      <td>31.000000</td>\n",
       "      <td>70.000000</td>\n",
       "      <td>11.000000</td>\n",
       "      <td>0.000000</td>\n",
       "      <td>1.190300e+04</td>\n",
       "      <td>55.900000</td>\n",
       "      <td>24.000000</td>\n",
       "      <td>6290.250000</td>\n",
       "      <td>6287.650000</td>\n",
       "      <td>4976.160000</td>\n",
       "      <td>4948.25000</td>\n",
       "      <td>3286.890000</td>\n",
       "      <td>1076.910000</td>\n",
       "      <td>0.000000</td>\n",
       "      <td>0.000000</td>\n",
       "      <td>0.000000</td>\n",
       "      <td>468.820000</td>\n",
       "      <td>0.000000</td>\n",
       "      <td>44.000000</td>\n",
       "      <td>1.0</td>\n",
       "      <td>100000.000000</td>\n",
       "      <td>17.735000</td>\n",
       "      <td>0.000000</td>\n",
       "      <td>0.000000e+00</td>\n",
       "      <td>8.100850e+04</td>\n",
       "      <td>1.000000</td>\n",
       "      <td>2.000000</td>\n",
       "      <td>0.000000</td>\n",
       "      <td>1.000000</td>\n",
       "      <td>12.000000</td>\n",
       "      <td>24959.500000</td>\n",
       "      <td>75.000000</td>\n",
       "      <td>1.000000</td>\n",
       "      <td>2.000000</td>\n",
       "      <td>4485.500000</td>\n",
       "      <td>62.100000</td>\n",
       "      <td>2.380000e+04</td>\n",
       "      <td>0.000000</td>\n",
       "      <td>0.000000</td>\n",
       "      <td>2.000000</td>\n",
       "      <td>0.000000</td>\n",
       "    </tr>\n",
       "    <tr>\n",
       "      <th>75%</th>\n",
       "      <td>5.446311e+07</td>\n",
       "      <td>5.803559e+07</td>\n",
       "      <td>20000.000000</td>\n",
       "      <td>20000.000000</td>\n",
       "      <td>20000.000000</td>\n",
       "      <td>15.990000</td>\n",
       "      <td>571.560000</td>\n",
       "      <td>9.000000e+04</td>\n",
       "      <td>23.900000</td>\n",
       "      <td>0.000000</td>\n",
       "      <td>1.000000</td>\n",
       "      <td>50.000000</td>\n",
       "      <td>92.000000</td>\n",
       "      <td>14.000000</td>\n",
       "      <td>0.000000</td>\n",
       "      <td>2.085700e+04</td>\n",
       "      <td>73.500000</td>\n",
       "      <td>32.000000</td>\n",
       "      <td>13528.800000</td>\n",
       "      <td>13522.510000</td>\n",
       "      <td>10744.803649</td>\n",
       "      <td>10697.33000</td>\n",
       "      <td>8000.000000</td>\n",
       "      <td>2233.980000</td>\n",
       "      <td>0.000000</td>\n",
       "      <td>0.000000</td>\n",
       "      <td>0.000000</td>\n",
       "      <td>849.160000</td>\n",
       "      <td>0.000000</td>\n",
       "      <td>61.000000</td>\n",
       "      <td>1.0</td>\n",
       "      <td>130750.000000</td>\n",
       "      <td>22.650000</td>\n",
       "      <td>0.000000</td>\n",
       "      <td>0.000000e+00</td>\n",
       "      <td>2.087032e+05</td>\n",
       "      <td>2.000000</td>\n",
       "      <td>4.000000</td>\n",
       "      <td>1.000000</td>\n",
       "      <td>2.000000</td>\n",
       "      <td>23.000000</td>\n",
       "      <td>47493.000000</td>\n",
       "      <td>87.500000</td>\n",
       "      <td>2.000000</td>\n",
       "      <td>4.000000</td>\n",
       "      <td>7701.250000</td>\n",
       "      <td>75.300000</td>\n",
       "      <td>3.990000e+04</td>\n",
       "      <td>1.000000</td>\n",
       "      <td>2.000000</td>\n",
       "      <td>3.000000</td>\n",
       "      <td>0.000000</td>\n",
       "    </tr>\n",
       "    <tr>\n",
       "      <th>max</th>\n",
       "      <td>6.861687e+07</td>\n",
       "      <td>7.351969e+07</td>\n",
       "      <td>35000.000000</td>\n",
       "      <td>35000.000000</td>\n",
       "      <td>35000.000000</td>\n",
       "      <td>28.990000</td>\n",
       "      <td>1445.460000</td>\n",
       "      <td>9.500000e+06</td>\n",
       "      <td>9999.000000</td>\n",
       "      <td>39.000000</td>\n",
       "      <td>8.000000</td>\n",
       "      <td>188.000000</td>\n",
       "      <td>129.000000</td>\n",
       "      <td>90.000000</td>\n",
       "      <td>86.000000</td>\n",
       "      <td>2.904836e+06</td>\n",
       "      <td>892.300000</td>\n",
       "      <td>169.000000</td>\n",
       "      <td>49372.860000</td>\n",
       "      <td>49372.860000</td>\n",
       "      <td>57777.579870</td>\n",
       "      <td>57777.58000</td>\n",
       "      <td>35000.030000</td>\n",
       "      <td>24205.620000</td>\n",
       "      <td>358.680000</td>\n",
       "      <td>33520.270000</td>\n",
       "      <td>7002.190000</td>\n",
       "      <td>36475.590000</td>\n",
       "      <td>20.000000</td>\n",
       "      <td>188.000000</td>\n",
       "      <td>1.0</td>\n",
       "      <td>410000.000000</td>\n",
       "      <td>43.860000</td>\n",
       "      <td>14.000000</td>\n",
       "      <td>9.152545e+06</td>\n",
       "      <td>8.000078e+06</td>\n",
       "      <td>12.000000</td>\n",
       "      <td>40.000000</td>\n",
       "      <td>12.000000</td>\n",
       "      <td>15.000000</td>\n",
       "      <td>300.000000</td>\n",
       "      <td>634217.000000</td>\n",
       "      <td>223.300000</td>\n",
       "      <td>22.000000</td>\n",
       "      <td>43.000000</td>\n",
       "      <td>83047.000000</td>\n",
       "      <td>151.400000</td>\n",
       "      <td>9.999999e+06</td>\n",
       "      <td>15.000000</td>\n",
       "      <td>33.000000</td>\n",
       "      <td>32.000000</td>\n",
       "      <td>1.000000</td>\n",
       "    </tr>\n",
       "  </tbody>\n",
       "</table>\n",
       "</div>"
      ],
      "text/plain": [
       "                 id     member_id      loan_amnt    funded_amnt  \\\n",
       "count  8.559690e+05  8.559690e+05  855969.000000  855969.000000   \n",
       "mean   3.224073e+07  3.476269e+07   14745.571335   14732.378305   \n",
       "std    2.271969e+07  2.399418e+07    8425.340005    8419.471653   \n",
       "min    5.473400e+04  7.069900e+04     500.000000     500.000000   \n",
       "25%    9.067986e+06  1.079273e+07    8000.000000    8000.000000   \n",
       "50%    3.431355e+07  3.697532e+07   13000.000000   13000.000000   \n",
       "75%    5.446311e+07  5.803559e+07   20000.000000   20000.000000   \n",
       "max    6.861687e+07  7.351969e+07   35000.000000   35000.000000   \n",
       "\n",
       "       funded_amnt_inv       int_rate    installment    annual_inc  \\\n",
       "count    855969.000000  855969.000000  855969.000000  8.559690e+05   \n",
       "mean      14700.061226      13.192320     436.238072  7.507119e+04   \n",
       "std        8425.805478       4.368365     243.726876  6.426447e+04   \n",
       "min           0.000000       5.320000      15.690000  0.000000e+00   \n",
       "25%        8000.000000       9.990000     260.550000  4.500000e+04   \n",
       "50%       13000.000000      12.990000     382.550000  6.500000e+04   \n",
       "75%       20000.000000      15.990000     571.560000  9.000000e+04   \n",
       "max       35000.000000      28.990000    1445.460000  9.500000e+06   \n",
       "\n",
       "                 dti    delinq_2yrs  inq_last_6mths  mths_since_last_delinq  \\\n",
       "count  855969.000000  855969.000000   855969.000000           416157.000000   \n",
       "mean       18.122165       0.311621        0.680915               34.149943   \n",
       "std        17.423629       0.857189        0.964033               21.868500   \n",
       "min         0.000000       0.000000        0.000000                0.000000   \n",
       "25%        11.880000       0.000000        0.000000               15.000000   \n",
       "50%        17.610000       0.000000        0.000000               31.000000   \n",
       "75%        23.900000       0.000000        1.000000               50.000000   \n",
       "max      9999.000000      39.000000        8.000000              188.000000   \n",
       "\n",
       "       mths_since_last_record       open_acc        pub_rec     revol_bal  \\\n",
       "count           131184.000000  855969.000000  855969.000000  8.559690e+05   \n",
       "mean                70.463959      11.542447       0.194537  1.691053e+04   \n",
       "std                 27.827120       5.308094       0.581585  2.222374e+04   \n",
       "min                  0.000000       0.000000       0.000000  0.000000e+00   \n",
       "25%                 51.000000       8.000000       0.000000  6.469000e+03   \n",
       "50%                 70.000000      11.000000       0.000000  1.190300e+04   \n",
       "75%                 92.000000      14.000000       0.000000  2.085700e+04   \n",
       "max                129.000000      90.000000      86.000000  2.904836e+06   \n",
       "\n",
       "          revol_util      total_acc      out_prncp  out_prncp_inv  \\\n",
       "count  855523.000000  855969.000000  855969.000000  855969.000000   \n",
       "mean       55.019405      25.269269    8284.830230    8281.449347   \n",
       "std        23.811585      11.818841    8461.946669    8458.496422   \n",
       "min         0.000000       2.000000       0.000000       0.000000   \n",
       "25%        37.600000      17.000000       0.000000       0.000000   \n",
       "50%        55.900000      24.000000    6290.250000    6287.650000   \n",
       "75%        73.500000      32.000000   13528.800000   13522.510000   \n",
       "max       892.300000     169.000000   49372.860000   49372.860000   \n",
       "\n",
       "         total_pymnt  total_pymnt_inv  total_rec_prncp  total_rec_int  \\\n",
       "count  855969.000000     855969.00000    855969.000000  855969.000000   \n",
       "mean     7653.296336       7622.22052      5850.841088    1755.046221   \n",
       "std      7909.383591       7885.15640      6676.410888    2081.692980   \n",
       "min         0.000000          0.00000         0.000000       0.000000   \n",
       "25%      1969.690000       1960.12000      1239.950000     451.270000   \n",
       "50%      4976.160000       4948.25000      3286.890000    1076.910000   \n",
       "75%     10744.803649      10697.33000      8000.000000    2233.980000   \n",
       "max     57777.579870      57777.58000     35000.030000   24205.620000   \n",
       "\n",
       "       total_rec_late_fee     recoveries  collection_recovery_fee  \\\n",
       "count       855969.000000  855969.000000            855969.000000   \n",
       "mean             0.319530      47.089499                 4.951227   \n",
       "std              3.609399     413.136043                62.478569   \n",
       "min              0.000000       0.000000                 0.000000   \n",
       "25%              0.000000       0.000000                 0.000000   \n",
       "50%              0.000000       0.000000                 0.000000   \n",
       "75%              0.000000       0.000000                 0.000000   \n",
       "max            358.680000   33520.270000              7002.190000   \n",
       "\n",
       "       last_pymnt_amnt  collections_12_mths_ex_med  \\\n",
       "count    855969.000000               855913.000000   \n",
       "mean       2225.985295                    0.014230   \n",
       "std        4864.966593                    0.133712   \n",
       "min           0.000000                    0.000000   \n",
       "25%         285.420000                    0.000000   \n",
       "50%         468.820000                    0.000000   \n",
       "75%         849.160000                    0.000000   \n",
       "max       36475.590000                   20.000000   \n",
       "\n",
       "       mths_since_last_major_derog  policy_code  annual_inc_joint   dti_joint  \\\n",
       "count                213139.000000     855969.0        442.000000  440.000000   \n",
       "mean                     44.101450          1.0     107412.163982   18.318477   \n",
       "std                      22.164907          0.0      47987.608637    7.221855   \n",
       "min                       0.000000          1.0      17950.000000    3.050000   \n",
       "25%                      27.000000          1.0      75000.250000   13.187500   \n",
       "50%                      44.000000          1.0     100000.000000   17.735000   \n",
       "75%                      61.000000          1.0     130750.000000   22.650000   \n",
       "max                     188.000000          1.0     410000.000000   43.860000   \n",
       "\n",
       "       acc_now_delinq  tot_coll_amt   tot_cur_bal   open_acc_6m    open_il_6m  \\\n",
       "count   855969.000000  7.886560e+05  7.886560e+05  13288.000000  13288.000000   \n",
       "mean         0.004944  2.254129e+02  1.397662e+05      1.072998      2.945665   \n",
       "std          0.077333  1.048945e+04  1.539385e+05      1.206939      3.080330   \n",
       "min          0.000000  0.000000e+00  0.000000e+00      0.000000      0.000000   \n",
       "25%          0.000000  0.000000e+00  2.987000e+04      0.000000      1.000000   \n",
       "50%          0.000000  0.000000e+00  8.100850e+04      1.000000      2.000000   \n",
       "75%          0.000000  0.000000e+00  2.087032e+05      2.000000      4.000000   \n",
       "max         14.000000  9.152545e+06  8.000078e+06     12.000000     40.000000   \n",
       "\n",
       "        open_il_12m   open_il_24m  mths_since_rcnt_il   total_bal_il  \\\n",
       "count  13288.000000  13288.000000        12934.000000   13288.000000   \n",
       "mean       0.749323      1.666767           20.833153   36511.541391   \n",
       "std        0.986169      1.685394           26.739237   42492.757796   \n",
       "min        0.000000      0.000000            0.000000       0.000000   \n",
       "25%        0.000000      0.000000            6.000000   10390.250000   \n",
       "50%        0.000000      1.000000           12.000000   24959.500000   \n",
       "75%        1.000000      2.000000           23.000000   47493.000000   \n",
       "max       12.000000     15.000000          300.000000  634217.000000   \n",
       "\n",
       "            il_util   open_rv_12m   open_rv_24m    max_bal_bc      all_util  \\\n",
       "count  11609.000000  13288.000000  13288.000000  13288.000000  13288.000000   \n",
       "mean      71.486993      1.354305      2.945515   5840.443332     61.024526   \n",
       "std       23.015293      1.483710      2.595313   5108.500262     20.018117   \n",
       "min        0.000000      0.000000      0.000000      0.000000      0.000000   \n",
       "25%       58.500000      0.000000      1.000000   2405.000000     47.900000   \n",
       "50%       75.000000      1.000000      2.000000   4485.500000     62.100000   \n",
       "75%       87.500000      2.000000      4.000000   7701.250000     75.300000   \n",
       "max      223.300000     22.000000     43.000000  83047.000000    151.400000   \n",
       "\n",
       "       total_rev_hi_lim        inq_fi   total_cu_tl  inq_last_12m  \\\n",
       "count      7.886560e+05  13288.000000  13288.000000  13288.000000   \n",
       "mean       3.216357e+04      0.947772      1.524232      1.841963   \n",
       "std        3.769964e+04      1.441667      2.697601      2.975049   \n",
       "min        0.000000e+00      0.000000      0.000000     -4.000000   \n",
       "25%        1.400000e+04      0.000000      0.000000      0.000000   \n",
       "50%        2.380000e+04      0.000000      0.000000      2.000000   \n",
       "75%        3.990000e+04      1.000000      2.000000      3.000000   \n",
       "max        9.999999e+06     15.000000     33.000000     32.000000   \n",
       "\n",
       "         default_ind  \n",
       "count  855969.000000  \n",
       "mean        0.054286  \n",
       "std         0.226581  \n",
       "min         0.000000  \n",
       "25%         0.000000  \n",
       "50%         0.000000  \n",
       "75%         0.000000  \n",
       "max         1.000000  "
      ]
     },
     "execution_count": 6,
     "metadata": {},
     "output_type": "execute_result"
    }
   ],
   "source": [
    "data.describe()"
   ]
  },
  {
   "cell_type": "code",
   "execution_count": 7,
   "metadata": {},
   "outputs": [
    {
     "name": "stdout",
     "output_type": "stream",
     "text": [
      "<class 'pandas.core.frame.DataFrame'>\n",
      "RangeIndex: 855969 entries, 0 to 855968\n",
      "Data columns (total 73 columns):\n",
      " #   Column                       Non-Null Count   Dtype  \n",
      "---  ------                       --------------   -----  \n",
      " 0   id                           855969 non-null  int64  \n",
      " 1   member_id                    855969 non-null  int64  \n",
      " 2   loan_amnt                    855969 non-null  float64\n",
      " 3   funded_amnt                  855969 non-null  float64\n",
      " 4   funded_amnt_inv              855969 non-null  float64\n",
      " 5   term                         855969 non-null  object \n",
      " 6   int_rate                     855969 non-null  float64\n",
      " 7   installment                  855969 non-null  float64\n",
      " 8   grade                        855969 non-null  object \n",
      " 9   sub_grade                    855969 non-null  object \n",
      " 10  emp_title                    806526 non-null  object \n",
      " 11  emp_length                   812908 non-null  object \n",
      " 12  home_ownership               855969 non-null  object \n",
      " 13  annual_inc                   855969 non-null  float64\n",
      " 14  verification_status          855969 non-null  object \n",
      " 15  issue_d                      855969 non-null  object \n",
      " 16  pymnt_plan                   855969 non-null  object \n",
      " 17  desc                         121812 non-null  object \n",
      " 18  purpose                      855969 non-null  object \n",
      " 19  title                        855936 non-null  object \n",
      " 20  zip_code                     855969 non-null  object \n",
      " 21  addr_state                   855969 non-null  object \n",
      " 22  dti                          855969 non-null  float64\n",
      " 23  delinq_2yrs                  855969 non-null  float64\n",
      " 24  earliest_cr_line             855969 non-null  object \n",
      " 25  inq_last_6mths               855969 non-null  float64\n",
      " 26  mths_since_last_delinq       416157 non-null  float64\n",
      " 27  mths_since_last_record       131184 non-null  float64\n",
      " 28  open_acc                     855969 non-null  float64\n",
      " 29  pub_rec                      855969 non-null  float64\n",
      " 30  revol_bal                    855969 non-null  float64\n",
      " 31  revol_util                   855523 non-null  float64\n",
      " 32  total_acc                    855969 non-null  float64\n",
      " 33  initial_list_status          855969 non-null  object \n",
      " 34  out_prncp                    855969 non-null  float64\n",
      " 35  out_prncp_inv                855969 non-null  float64\n",
      " 36  total_pymnt                  855969 non-null  float64\n",
      " 37  total_pymnt_inv              855969 non-null  float64\n",
      " 38  total_rec_prncp              855969 non-null  float64\n",
      " 39  total_rec_int                855969 non-null  float64\n",
      " 40  total_rec_late_fee           855969 non-null  float64\n",
      " 41  recoveries                   855969 non-null  float64\n",
      " 42  collection_recovery_fee      855969 non-null  float64\n",
      " 43  last_pymnt_d                 847107 non-null  object \n",
      " 44  last_pymnt_amnt              855969 non-null  float64\n",
      " 45  next_pymnt_d                 602998 non-null  object \n",
      " 46  last_credit_pull_d           855919 non-null  object \n",
      " 47  collections_12_mths_ex_med   855913 non-null  float64\n",
      " 48  mths_since_last_major_derog  213139 non-null  float64\n",
      " 49  policy_code                  855969 non-null  float64\n",
      " 50  application_type             855969 non-null  object \n",
      " 51  annual_inc_joint             442 non-null     float64\n",
      " 52  dti_joint                    440 non-null     float64\n",
      " 53  verification_status_joint    442 non-null     object \n",
      " 54  acc_now_delinq               855969 non-null  float64\n",
      " 55  tot_coll_amt                 788656 non-null  float64\n",
      " 56  tot_cur_bal                  788656 non-null  float64\n",
      " 57  open_acc_6m                  13288 non-null   float64\n",
      " 58  open_il_6m                   13288 non-null   float64\n",
      " 59  open_il_12m                  13288 non-null   float64\n",
      " 60  open_il_24m                  13288 non-null   float64\n",
      " 61  mths_since_rcnt_il           12934 non-null   float64\n",
      " 62  total_bal_il                 13288 non-null   float64\n",
      " 63  il_util                      11609 non-null   float64\n",
      " 64  open_rv_12m                  13288 non-null   float64\n",
      " 65  open_rv_24m                  13288 non-null   float64\n",
      " 66  max_bal_bc                   13288 non-null   float64\n",
      " 67  all_util                     13288 non-null   float64\n",
      " 68  total_rev_hi_lim             788656 non-null  float64\n",
      " 69  inq_fi                       13288 non-null   float64\n",
      " 70  total_cu_tl                  13288 non-null   float64\n",
      " 71  inq_last_12m                 13288 non-null   float64\n",
      " 72  default_ind                  855969 non-null  int64  \n",
      "dtypes: float64(49), int64(3), object(21)\n",
      "memory usage: 476.7+ MB\n"
     ]
    }
   ],
   "source": [
    "data.info()"
   ]
  },
  {
   "cell_type": "code",
   "execution_count": 8,
   "metadata": {},
   "outputs": [
    {
     "data": {
      "text/plain": [
       "id                               int64\n",
       "member_id                        int64\n",
       "loan_amnt                      float64\n",
       "funded_amnt                    float64\n",
       "funded_amnt_inv                float64\n",
       "term                            object\n",
       "int_rate                       float64\n",
       "installment                    float64\n",
       "grade                           object\n",
       "sub_grade                       object\n",
       "emp_title                       object\n",
       "emp_length                      object\n",
       "home_ownership                  object\n",
       "annual_inc                     float64\n",
       "verification_status             object\n",
       "issue_d                         object\n",
       "pymnt_plan                      object\n",
       "desc                            object\n",
       "purpose                         object\n",
       "title                           object\n",
       "zip_code                        object\n",
       "addr_state                      object\n",
       "dti                            float64\n",
       "delinq_2yrs                    float64\n",
       "earliest_cr_line                object\n",
       "inq_last_6mths                 float64\n",
       "mths_since_last_delinq         float64\n",
       "mths_since_last_record         float64\n",
       "open_acc                       float64\n",
       "pub_rec                        float64\n",
       "revol_bal                      float64\n",
       "revol_util                     float64\n",
       "total_acc                      float64\n",
       "initial_list_status             object\n",
       "out_prncp                      float64\n",
       "out_prncp_inv                  float64\n",
       "total_pymnt                    float64\n",
       "total_pymnt_inv                float64\n",
       "total_rec_prncp                float64\n",
       "total_rec_int                  float64\n",
       "total_rec_late_fee             float64\n",
       "recoveries                     float64\n",
       "collection_recovery_fee        float64\n",
       "last_pymnt_d                    object\n",
       "last_pymnt_amnt                float64\n",
       "next_pymnt_d                    object\n",
       "last_credit_pull_d              object\n",
       "collections_12_mths_ex_med     float64\n",
       "mths_since_last_major_derog    float64\n",
       "policy_code                    float64\n",
       "application_type                object\n",
       "annual_inc_joint               float64\n",
       "dti_joint                      float64\n",
       "verification_status_joint       object\n",
       "acc_now_delinq                 float64\n",
       "tot_coll_amt                   float64\n",
       "tot_cur_bal                    float64\n",
       "open_acc_6m                    float64\n",
       "open_il_6m                     float64\n",
       "open_il_12m                    float64\n",
       "open_il_24m                    float64\n",
       "mths_since_rcnt_il             float64\n",
       "total_bal_il                   float64\n",
       "il_util                        float64\n",
       "open_rv_12m                    float64\n",
       "open_rv_24m                    float64\n",
       "max_bal_bc                     float64\n",
       "all_util                       float64\n",
       "total_rev_hi_lim               float64\n",
       "inq_fi                         float64\n",
       "total_cu_tl                    float64\n",
       "inq_last_12m                   float64\n",
       "default_ind                      int64\n",
       "dtype: object"
      ]
     },
     "execution_count": 8,
     "metadata": {},
     "output_type": "execute_result"
    }
   ],
   "source": [
    "data.dtypes"
   ]
  },
  {
   "cell_type": "code",
   "execution_count": 9,
   "metadata": {},
   "outputs": [],
   "source": [
    "#Creating copy of dataset\n",
    "data1 = pd.DataFrame.copy(data)"
   ]
  },
  {
   "cell_type": "markdown",
   "metadata": {},
   "source": [
    "# Exploratory Data Analysis"
   ]
  },
  {
   "cell_type": "code",
   "execution_count": 10,
   "metadata": {},
   "outputs": [
    {
     "data": {
      "text/plain": [
       "id                                  0\n",
       "member_id                           0\n",
       "loan_amnt                           0\n",
       "funded_amnt                         0\n",
       "funded_amnt_inv                     0\n",
       "term                                0\n",
       "int_rate                            0\n",
       "installment                         0\n",
       "grade                               0\n",
       "sub_grade                           0\n",
       "emp_title                       49443\n",
       "emp_length                      43061\n",
       "home_ownership                      0\n",
       "annual_inc                          0\n",
       "verification_status                 0\n",
       "issue_d                             0\n",
       "pymnt_plan                          0\n",
       "desc                           734157\n",
       "purpose                             0\n",
       "title                              33\n",
       "zip_code                            0\n",
       "addr_state                          0\n",
       "dti                                 0\n",
       "delinq_2yrs                         0\n",
       "earliest_cr_line                    0\n",
       "inq_last_6mths                      0\n",
       "mths_since_last_delinq         439812\n",
       "mths_since_last_record         724785\n",
       "open_acc                            0\n",
       "pub_rec                             0\n",
       "revol_bal                           0\n",
       "revol_util                        446\n",
       "total_acc                           0\n",
       "initial_list_status                 0\n",
       "out_prncp                           0\n",
       "out_prncp_inv                       0\n",
       "total_pymnt                         0\n",
       "total_pymnt_inv                     0\n",
       "total_rec_prncp                     0\n",
       "total_rec_int                       0\n",
       "total_rec_late_fee                  0\n",
       "recoveries                          0\n",
       "collection_recovery_fee             0\n",
       "last_pymnt_d                     8862\n",
       "last_pymnt_amnt                     0\n",
       "next_pymnt_d                   252971\n",
       "last_credit_pull_d                 50\n",
       "collections_12_mths_ex_med         56\n",
       "mths_since_last_major_derog    642830\n",
       "policy_code                         0\n",
       "application_type                    0\n",
       "annual_inc_joint               855527\n",
       "dti_joint                      855529\n",
       "verification_status_joint      855527\n",
       "acc_now_delinq                      0\n",
       "tot_coll_amt                    67313\n",
       "tot_cur_bal                     67313\n",
       "open_acc_6m                    842681\n",
       "open_il_6m                     842681\n",
       "open_il_12m                    842681\n",
       "open_il_24m                    842681\n",
       "mths_since_rcnt_il             843035\n",
       "total_bal_il                   842681\n",
       "il_util                        844360\n",
       "open_rv_12m                    842681\n",
       "open_rv_24m                    842681\n",
       "max_bal_bc                     842681\n",
       "all_util                       842681\n",
       "total_rev_hi_lim                67313\n",
       "inq_fi                         842681\n",
       "total_cu_tl                    842681\n",
       "inq_last_12m                   842681\n",
       "default_ind                         0\n",
       "dtype: int64"
      ]
     },
     "execution_count": 10,
     "metadata": {},
     "output_type": "execute_result"
    }
   ],
   "source": [
    "#Checking the null values in the data.\n",
    "data1.isnull().sum()"
   ]
  },
  {
   "cell_type": "markdown",
   "metadata": {},
   "source": [
    "## Visualising the missing values in each column"
   ]
  },
  {
   "cell_type": "code",
   "execution_count": 11,
   "metadata": {
    "scrolled": true
   },
   "outputs": [
    {
     "data": {
      "text/plain": [
       "<AxesSubplot:>"
      ]
     },
     "execution_count": 11,
     "metadata": {},
     "output_type": "execute_result"
    },
    {
     "data": {
      "image/png": "[encoded data removed]",
      "text/plain": [
       "<Figure size 1080x360 with 1 Axes>"
      ]
     },
     "metadata": {
      "needs_background": "light"
     },
     "output_type": "display_data"
    }
   ],
   "source": [
    "plt.figure(figsize=(15,5))\n",
    "sns.heatmap(data1.isnull(), cbar = False, yticklabels=False, cmap=\"magma\" )"
   ]
  },
  {
   "cell_type": "markdown",
   "metadata": {},
   "source": [
    "### percentagewise missing values in the data\n"
   ]
  },
  {
   "cell_type": "code",
   "execution_count": 12,
   "metadata": {
    "scrolled": true
   },
   "outputs": [
    {
     "data": {
      "text/html": [
       "<div>\n",
       "<style scoped>\n",
       "    .dataframe tbody tr th:only-of-type {\n",
       "        vertical-align: middle;\n",
       "    }\n",
       "\n",
       "    .dataframe tbody tr th {\n",
       "        vertical-align: top;\n",
       "    }\n",
       "\n",
       "    .dataframe thead th {\n",
       "        text-align: right;\n",
       "    }\n",
       "</style>\n",
       "<table border=\"1\" class=\"dataframe\">\n",
       "  <thead>\n",
       "    <tr style=\"text-align: right;\">\n",
       "      <th></th>\n",
       "      <th>Total</th>\n",
       "      <th>Percent</th>\n",
       "    </tr>\n",
       "  </thead>\n",
       "  <tbody>\n",
       "    <tr>\n",
       "      <th>dti_joint</th>\n",
       "      <td>855529</td>\n",
       "      <td>99.948596</td>\n",
       "    </tr>\n",
       "    <tr>\n",
       "      <th>verification_status_joint</th>\n",
       "      <td>855527</td>\n",
       "      <td>99.948363</td>\n",
       "    </tr>\n",
       "    <tr>\n",
       "      <th>annual_inc_joint</th>\n",
       "      <td>855527</td>\n",
       "      <td>99.948363</td>\n",
       "    </tr>\n",
       "    <tr>\n",
       "      <th>il_util</th>\n",
       "      <td>844360</td>\n",
       "      <td>98.643759</td>\n",
       "    </tr>\n",
       "    <tr>\n",
       "      <th>mths_since_rcnt_il</th>\n",
       "      <td>843035</td>\n",
       "      <td>98.488964</td>\n",
       "    </tr>\n",
       "    <tr>\n",
       "      <th>total_bal_il</th>\n",
       "      <td>842681</td>\n",
       "      <td>98.447607</td>\n",
       "    </tr>\n",
       "    <tr>\n",
       "      <th>inq_last_12m</th>\n",
       "      <td>842681</td>\n",
       "      <td>98.447607</td>\n",
       "    </tr>\n",
       "    <tr>\n",
       "      <th>open_acc_6m</th>\n",
       "      <td>842681</td>\n",
       "      <td>98.447607</td>\n",
       "    </tr>\n",
       "    <tr>\n",
       "      <th>open_il_6m</th>\n",
       "      <td>842681</td>\n",
       "      <td>98.447607</td>\n",
       "    </tr>\n",
       "    <tr>\n",
       "      <th>open_il_24m</th>\n",
       "      <td>842681</td>\n",
       "      <td>98.447607</td>\n",
       "    </tr>\n",
       "    <tr>\n",
       "      <th>open_il_12m</th>\n",
       "      <td>842681</td>\n",
       "      <td>98.447607</td>\n",
       "    </tr>\n",
       "    <tr>\n",
       "      <th>open_rv_12m</th>\n",
       "      <td>842681</td>\n",
       "      <td>98.447607</td>\n",
       "    </tr>\n",
       "    <tr>\n",
       "      <th>open_rv_24m</th>\n",
       "      <td>842681</td>\n",
       "      <td>98.447607</td>\n",
       "    </tr>\n",
       "    <tr>\n",
       "      <th>max_bal_bc</th>\n",
       "      <td>842681</td>\n",
       "      <td>98.447607</td>\n",
       "    </tr>\n",
       "    <tr>\n",
       "      <th>all_util</th>\n",
       "      <td>842681</td>\n",
       "      <td>98.447607</td>\n",
       "    </tr>\n",
       "    <tr>\n",
       "      <th>inq_fi</th>\n",
       "      <td>842681</td>\n",
       "      <td>98.447607</td>\n",
       "    </tr>\n",
       "    <tr>\n",
       "      <th>total_cu_tl</th>\n",
       "      <td>842681</td>\n",
       "      <td>98.447607</td>\n",
       "    </tr>\n",
       "    <tr>\n",
       "      <th>desc</th>\n",
       "      <td>734157</td>\n",
       "      <td>85.769111</td>\n",
       "    </tr>\n",
       "    <tr>\n",
       "      <th>mths_since_last_record</th>\n",
       "      <td>724785</td>\n",
       "      <td>84.674211</td>\n",
       "    </tr>\n",
       "    <tr>\n",
       "      <th>mths_since_last_major_derog</th>\n",
       "      <td>642830</td>\n",
       "      <td>75.099682</td>\n",
       "    </tr>\n",
       "    <tr>\n",
       "      <th>mths_since_last_delinq</th>\n",
       "      <td>439812</td>\n",
       "      <td>51.381767</td>\n",
       "    </tr>\n",
       "    <tr>\n",
       "      <th>next_pymnt_d</th>\n",
       "      <td>252971</td>\n",
       "      <td>29.553757</td>\n",
       "    </tr>\n",
       "    <tr>\n",
       "      <th>tot_cur_bal</th>\n",
       "      <td>67313</td>\n",
       "      <td>7.863953</td>\n",
       "    </tr>\n",
       "    <tr>\n",
       "      <th>tot_coll_amt</th>\n",
       "      <td>67313</td>\n",
       "      <td>7.863953</td>\n",
       "    </tr>\n",
       "    <tr>\n",
       "      <th>total_rev_hi_lim</th>\n",
       "      <td>67313</td>\n",
       "      <td>7.863953</td>\n",
       "    </tr>\n",
       "    <tr>\n",
       "      <th>emp_title</th>\n",
       "      <td>49443</td>\n",
       "      <td>5.776261</td>\n",
       "    </tr>\n",
       "    <tr>\n",
       "      <th>emp_length</th>\n",
       "      <td>43061</td>\n",
       "      <td>5.030673</td>\n",
       "    </tr>\n",
       "    <tr>\n",
       "      <th>last_pymnt_d</th>\n",
       "      <td>8862</td>\n",
       "      <td>1.035318</td>\n",
       "    </tr>\n",
       "    <tr>\n",
       "      <th>revol_util</th>\n",
       "      <td>446</td>\n",
       "      <td>0.052105</td>\n",
       "    </tr>\n",
       "    <tr>\n",
       "      <th>collections_12_mths_ex_med</th>\n",
       "      <td>56</td>\n",
       "      <td>0.006542</td>\n",
       "    </tr>\n",
       "  </tbody>\n",
       "</table>\n",
       "</div>"
      ],
      "text/plain": [
       "                              Total    Percent\n",
       "dti_joint                    855529  99.948596\n",
       "verification_status_joint    855527  99.948363\n",
       "annual_inc_joint             855527  99.948363\n",
       "il_util                      844360  98.643759\n",
       "mths_since_rcnt_il           843035  98.488964\n",
       "total_bal_il                 842681  98.447607\n",
       "inq_last_12m                 842681  98.447607\n",
       "open_acc_6m                  842681  98.447607\n",
       "open_il_6m                   842681  98.447607\n",
       "open_il_24m                  842681  98.447607\n",
       "open_il_12m                  842681  98.447607\n",
       "open_rv_12m                  842681  98.447607\n",
       "open_rv_24m                  842681  98.447607\n",
       "max_bal_bc                   842681  98.447607\n",
       "all_util                     842681  98.447607\n",
       "inq_fi                       842681  98.447607\n",
       "total_cu_tl                  842681  98.447607\n",
       "desc                         734157  85.769111\n",
       "mths_since_last_record       724785  84.674211\n",
       "mths_since_last_major_derog  642830  75.099682\n",
       "mths_since_last_delinq       439812  51.381767\n",
       "next_pymnt_d                 252971  29.553757\n",
       "tot_cur_bal                   67313   7.863953\n",
       "tot_coll_amt                  67313   7.863953\n",
       "total_rev_hi_lim              67313   7.863953\n",
       "emp_title                     49443   5.776261\n",
       "emp_length                    43061   5.030673\n",
       "last_pymnt_d                   8862   1.035318\n",
       "revol_util                      446   0.052105\n",
       "collections_12_mths_ex_med       56   0.006542"
      ]
     },
     "execution_count": 12,
     "metadata": {},
     "output_type": "execute_result"
    }
   ],
   "source": [
    "total = data1.isnull().sum().sort_values(ascending=False)\n",
    "percent= (data1.isnull().sum()/data1.isnull().count()  * 100).sort_values(ascending=False)\n",
    "missing_data = pd.concat([total,percent],axis=1,keys=['Total','Percent'])\n",
    "missing_data.head(30)"
   ]
  },
  {
   "cell_type": "markdown",
   "metadata": {},
   "source": [
    "## Drop missing value Over 75%"
   ]
  },
  {
   "cell_type": "code",
   "execution_count": 13,
   "metadata": {},
   "outputs": [],
   "source": [
    "for i in data1.columns:\n",
    "    if missing_data.loc[i,'Percent'] >= 75:\n",
    "        data1=data1.drop(i,axis=1)"
   ]
  },
  {
   "cell_type": "code",
   "execution_count": 14,
   "metadata": {},
   "outputs": [
    {
     "data": {
      "text/plain": [
       "<AxesSubplot:>"
      ]
     },
     "execution_count": 14,
     "metadata": {},
     "output_type": "execute_result"
    },
    {
     "data": {
      "image/png": "[encoded data removed]",
      "text/plain": [
       "<Figure size 1080x360 with 1 Axes>"
      ]
     },
     "metadata": {
      "needs_background": "light"
     },
     "output_type": "display_data"
    }
   ],
   "source": [
    "# Visualizing the missing value in each column after dropping the above 75% missing value variables\n",
    "plt.figure(figsize=(15,5))\n",
    "sns.heatmap(data1.isnull(), cbar = False, yticklabels=False, cmap=\"magma\" )"
   ]
  },
  {
   "cell_type": "markdown",
   "metadata": {},
   "source": [
    "We observe 20 columns are dropped which had more than 75% NAN values of the total datapoint, hence they would not have contributed towards prediction. For the remaining columns which have null values we will check and treat them using various methods"
   ]
  },
  {
   "cell_type": "code",
   "execution_count": 15,
   "metadata": {},
   "outputs": [
    {
     "data": {
      "text/plain": [
       "Index(['id', 'member_id', 'loan_amnt', 'funded_amnt', 'funded_amnt_inv',\n",
       "       'term', 'int_rate', 'installment', 'grade', 'sub_grade', 'emp_title',\n",
       "       'emp_length', 'home_ownership', 'annual_inc', 'verification_status',\n",
       "       'issue_d', 'pymnt_plan', 'purpose', 'title', 'zip_code', 'addr_state',\n",
       "       'dti', 'delinq_2yrs', 'earliest_cr_line', 'inq_last_6mths',\n",
       "       'mths_since_last_delinq', 'open_acc', 'pub_rec', 'revol_bal',\n",
       "       'revol_util', 'total_acc', 'initial_list_status', 'out_prncp',\n",
       "       'out_prncp_inv', 'total_pymnt', 'total_pymnt_inv', 'total_rec_prncp',\n",
       "       'total_rec_int', 'total_rec_late_fee', 'recoveries',\n",
       "       'collection_recovery_fee', 'last_pymnt_d', 'last_pymnt_amnt',\n",
       "       'next_pymnt_d', 'last_credit_pull_d', 'collections_12_mths_ex_med',\n",
       "       'policy_code', 'application_type', 'acc_now_delinq', 'tot_coll_amt',\n",
       "       'tot_cur_bal', 'total_rev_hi_lim', 'default_ind'],\n",
       "      dtype='object')"
      ]
     },
     "execution_count": 15,
     "metadata": {},
     "output_type": "execute_result"
    }
   ],
   "source": [
    "data1.columns"
   ]
  },
  {
   "cell_type": "code",
   "execution_count": 16,
   "metadata": {},
   "outputs": [
    {
     "data": {
      "text/plain": [
       "(855969, 53)"
      ]
     },
     "execution_count": 16,
     "metadata": {},
     "output_type": "execute_result"
    }
   ],
   "source": [
    "data1.shape"
   ]
  },
  {
   "cell_type": "markdown",
   "metadata": {},
   "source": [
    "## Duplicate observations"
   ]
  },
  {
   "cell_type": "code",
   "execution_count": 17,
   "metadata": {},
   "outputs": [
    {
     "data": {
      "text/plain": [
       "False    855969\n",
       "dtype: int64"
      ]
     },
     "execution_count": 17,
     "metadata": {},
     "output_type": "execute_result"
    }
   ],
   "source": [
    "data.duplicated().value_counts()"
   ]
  },
  {
   "cell_type": "markdown",
   "metadata": {},
   "source": [
    "## drop irrelevant variables"
   ]
  },
  {
   "cell_type": "code",
   "execution_count": 18,
   "metadata": {},
   "outputs": [
    {
     "name": "stdout",
     "output_type": "stream",
     "text": [
      "INDIVIDUAL    855527\n",
      "JOINT            442\n",
      "Name: application_type, dtype: int64\n"
     ]
    }
   ],
   "source": [
    "print(data.application_type.value_counts())"
   ]
  },
  {
   "cell_type": "code",
   "execution_count": 19,
   "metadata": {},
   "outputs": [
    {
     "name": "stdout",
     "output_type": "stream",
     "text": [
      "0.0     852039\n",
      "1.0       3693\n",
      "2.0        198\n",
      "3.0         28\n",
      "4.0          6\n",
      "5.0          3\n",
      "6.0          1\n",
      "14.0         1\n",
      "Name: acc_now_delinq, dtype: int64\n"
     ]
    }
   ],
   "source": [
    "print(data.acc_now_delinq.value_counts())"
   ]
  },
  {
   "cell_type": "code",
   "execution_count": 20,
   "metadata": {},
   "outputs": [
    {
     "name": "stdout",
     "output_type": "stream",
     "text": [
      "Aug-2001    6433\n",
      "Aug-2000    6322\n",
      "Oct-2000    6117\n",
      "Oct-2001    5924\n",
      "Aug-2002    5858\n",
      "Sep-2000    5712\n",
      "Nov-1999    5654\n",
      "Oct-1999    5630\n",
      "Nov-2000    5610\n",
      "Sep-2002    5604\n",
      "Oct-2002    5493\n",
      "Sep-2001    5485\n",
      "Sep-2003    5419\n",
      "Aug-1999    5418\n",
      "Sep-1999    5398\n",
      "Jul-2001    5168\n",
      "Nov-2001    5044\n",
      "Aug-2003    5022\n",
      "Oct-2003    5012\n",
      "Mar-2001    5007\n",
      "Sep-1998    4979\n",
      "Dec-2000    4934\n",
      "May-2001    4875\n",
      "Dec-2001    4863\n",
      "Dec-1999    4855\n",
      "Sep-2004    4849\n",
      "Jul-2000    4838\n",
      "Oct-1998    4767\n",
      "Jun-2001    4765\n",
      "Mar-2000    4735\n",
      "Jul-2002    4681\n",
      "May-2000    4681\n",
      "Jun-2000    4655\n",
      "Jan-2001    4616\n",
      "Dec-1998    4583\n",
      "Jul-2003    4570\n",
      "Nov-1998    4567\n",
      "Apr-2001    4529\n",
      "Aug-1998    4501\n",
      "Feb-2000    4450\n",
      "Aug-2004    4448\n",
      "May-2002    4399\n",
      "Nov-2002    4382\n",
      "Jul-1999    4343\n",
      "Mar-1999    4327\n",
      "Jan-2000    4325\n",
      "Oct-2004    4291\n",
      "Jan-2002    4282\n",
      "Oct-1997    4260\n",
      "Mar-2002    4248\n",
      "Feb-2001    4242\n",
      "May-2003    4217\n",
      "Apr-2002    4202\n",
      "Nov-2003    4165\n",
      "Apr-2000    4157\n",
      "Feb-2002    4128\n",
      "Dec-2002    4072\n",
      "Jun-1999    4029\n",
      "Jun-2002    3986\n",
      "May-1999    3980\n",
      "Sep-2005    3978\n",
      "Sep-1997    3957\n",
      "Oct-1995    3942\n",
      "Mar-2003    3938\n",
      "Nov-1997    3934\n",
      "Oct-1996    3922\n",
      "Sep-1995    3858\n",
      "Dec-1997    3824\n",
      "Nov-1996    3809\n",
      "Apr-2003    3797\n",
      "Apr-1999    3797\n",
      "Feb-1999    3792\n",
      "Jun-2003    3789\n",
      "Mar-2004    3784\n",
      "Jul-2004    3751\n",
      "Nov-2004    3746\n",
      "Dec-2003    3715\n",
      "Aug-2005    3712\n",
      "Jan-2003    3702\n",
      "Sep-1996    3645\n",
      "Nov-1995    3643\n",
      "Jan-1999    3633\n",
      "Aug-2006    3632\n",
      "Jul-1998    3611\n",
      "May-2004    3553\n",
      "Aug-1997    3536\n",
      "Jun-1998    3521\n",
      "Aug-1996    3512\n",
      "Jun-2004    3504\n",
      "Apr-2004    3424\n",
      "May-1998    3399\n",
      "Feb-2003    3399\n",
      "Aug-1995    3379\n",
      "Dec-2004    3378\n",
      "Feb-2004    3366\n",
      "Oct-2005    3338\n",
      "Dec-1996    3313\n",
      "Mar-1998    3303\n",
      "Oct-1994    3297\n",
      "Apr-1998    3295\n",
      "Mar-1996    3272\n",
      "Jan-1998    3242\n",
      "Nov-1994    3236\n",
      "Sep-1994    3202\n",
      "Jan-2004    3161\n",
      "Sep-2006    3156\n",
      "May-1996    3133\n",
      "Jun-2005    3123\n",
      "Dec-1994    3117\n",
      "Dec-1995    3084\n",
      "Nov-1993    3073\n",
      "Jun-1996    3045\n",
      "Mar-2005    3017\n",
      "Jan-2005    3010\n",
      "Feb-1998    3008\n",
      "Aug-1994    3004\n",
      "Jun-1997    2959\n",
      "Nov-2005    2955\n",
      "Dec-1993    2948\n",
      "Jan-1996    2931\n",
      "Mar-1997    2914\n",
      "Apr-1997    2910\n",
      "Jun-1995    2897\n",
      "Feb-1996    2885\n",
      "Jul-1997    2885\n",
      "Jul-2005    2882\n",
      "Feb-2005    2865\n",
      "May-1997    2864\n",
      "Jul-1996    2848\n",
      "Mar-1994    2842\n",
      "May-2005    2836\n",
      "Aug-2007    2835\n",
      "Apr-1996    2823\n",
      "Mar-1995    2805\n",
      "Feb-1997    2802\n",
      "Jan-1997    2768\n",
      "Apr-2005    2764\n",
      "May-1995    2749\n",
      "Jul-1995    2675\n",
      "Oct-2006    2643\n",
      "Jun-1994    2622\n",
      "Oct-1993    2598\n",
      "Dec-2005    2578\n",
      "Sep-1993    2557\n",
      "Feb-1995    2553\n",
      "Jul-2006    2542\n",
      "Jul-1994    2521\n",
      "Jan-1995    2507\n",
      "Mar-2006    2502\n",
      "Apr-1995    2495\n",
      "Jun-2006    2458\n",
      "May-2006    2448\n",
      "Feb-1994    2414\n",
      "May-1994    2394\n",
      "Apr-2006    2385\n",
      "Jan-2006    2372\n",
      "Sep-2007    2360\n",
      "Jan-1994    2350\n",
      "Apr-1994    2345\n",
      "Nov-2006    2343\n",
      "Aug-1993    2294\n",
      "Feb-2006    2289\n",
      "Dec-2006    2199\n",
      "Jul-1993    2160\n",
      "Jan-2007    2137\n",
      "Jul-2007    2136\n",
      "May-1993    2058\n",
      "Mar-2007    2040\n",
      "Feb-2007    2037\n",
      "Mar-1993    2030\n",
      "Jun-1993    2013\n",
      "Dec-1992    1997\n",
      "Apr-1993    1978\n",
      "May-2007    1959\n",
      "Oct-2007    1955\n",
      "Oct-1992    1944\n",
      "Jun-2007    1919\n",
      "Nov-1992    1900\n",
      "Apr-2007    1888\n",
      "Sep-1992    1861\n",
      "Oct-1990    1781\n",
      "Oct-1991    1779\n",
      "Aug-1990    1733\n",
      "Aug-2008    1721\n",
      "Oct-1989    1712\n",
      "Feb-1993    1699\n",
      "Mar-1990    1693\n",
      "Nov-2007    1651\n",
      "Jan-1993    1649\n",
      "Aug-1992    1636\n",
      "Sep-1990    1622\n",
      "Sep-1991    1608\n",
      "Nov-1991    1608\n",
      "Nov-1990    1593\n",
      "May-1990    1582\n",
      "Aug-1991    1573\n",
      "Apr-1990    1569\n",
      "Jul-1992    1564\n",
      "Jul-1990    1556\n",
      "Aug-1989    1554\n",
      "Sep-2008    1534\n",
      "Mar-1992    1521\n",
      "Dec-1990    1519\n",
      "Nov-1989    1516\n",
      "Mar-1991    1498\n",
      "Dec-2007    1495\n",
      "Jun-1990    1494\n",
      "Mar-1989    1492\n",
      "Feb-1992    1491\n",
      "Dec-1991    1468\n",
      "Jan-1990    1464\n",
      "Jan-1991    1451\n",
      "Jan-2008    1447\n",
      "Jun-1989    1447\n",
      "Dec-1989    1446\n",
      "May-1989    1431\n",
      "Feb-1990    1422\n",
      "Feb-2008    1422\n",
      "May-1991    1415\n",
      "Apr-1991    1408\n",
      "Apr-1989    1404\n",
      "Jun-1991    1400\n",
      "Jul-1989    1394\n",
      "Mar-2008    1393\n",
      "Apr-1992    1389\n",
      "Feb-1991    1388\n",
      "Apr-2008    1376\n",
      "Jul-1991    1376\n",
      "Jul-2008    1363\n",
      "Jun-1992    1362\n",
      "Nov-1988    1347\n",
      "Jan-1992    1343\n",
      "Sep-1989    1328\n",
      "Jan-1989    1309\n",
      "Apr-1988    1308\n",
      "Oct-1988    1298\n",
      "Mar-1988    1294\n",
      "May-1992    1286\n",
      "Sep-1988    1267\n",
      "May-2008    1246\n",
      "Aug-1988    1225\n",
      "Jun-2008    1217\n",
      "Oct-1987    1200\n",
      "Feb-1989    1192\n",
      "Aug-2009    1192\n",
      "Dec-1988    1187\n",
      "Jul-1988    1184\n",
      "Jul-1987    1180\n",
      "Nov-1987    1157\n",
      "Jun-1988    1143\n",
      "May-1988    1136\n",
      "Oct-2008    1128\n",
      "Jun-1987    1115\n",
      "Sep-1987    1110\n",
      "Aug-1987    1087\n",
      "Feb-1988    1064\n",
      "Mar-1987    1051\n",
      "Oct-1986    1045\n",
      "Dec-1987    1038\n",
      "Sep-1986    1024\n",
      "Apr-1987    1012\n",
      "Jan-1988    1002\n",
      "Feb-1987     987\n",
      "Apr-1986     977\n",
      "Sep-2009     977\n",
      "Oct-1985     964\n",
      "Jan-1987     954\n",
      "Aug-1986     953\n",
      "May-1987     936\n",
      "Dec-1986     932\n",
      "Aug-2010     929\n",
      "Oct-2009     924\n",
      "May-1986     919\n",
      "Nov-2008     915\n",
      "Sep-2010     911\n",
      "Jul-1986     909\n",
      "Mar-1985     888\n",
      "Nov-1986     887\n",
      "Mar-1986     876\n",
      "Aug-1984     864\n",
      "Oct-1984     832\n",
      "Jun-1986     827\n",
      "Jul-1985     820\n",
      "May-1985     816\n",
      "Sep-1985     809\n",
      "May-1984     798\n",
      "Dec-2008     792\n",
      "Aug-1985     790\n",
      "Jan-1986     789\n",
      "Jan-1985     788\n",
      "Dec-1985     779\n",
      "Mar-1984     769\n",
      "Sep-1984     768\n",
      "Apr-1985     764\n",
      "Nov-1984     763\n",
      "Nov-1985     762\n",
      "Jun-1985     750\n",
      "Jul-1984     750\n",
      "Feb-1986     742\n",
      "Jan-2009     725\n",
      "Dec-1984     724\n",
      "Feb-1985     717\n",
      "Apr-1984     716\n",
      "Oct-2010     709\n",
      "Dec-2009     703\n",
      "May-2009     697\n",
      "Jul-2009     693\n",
      "Jun-1984     693\n",
      "Oct-1983     684\n",
      "Apr-2009     676\n",
      "Nov-1983     675\n",
      "Nov-2009     675\n",
      "May-1983     662\n",
      "Mar-1983     658\n",
      "Aug-2011     649\n",
      "Feb-1984     647\n",
      "Nov-2010     640\n",
      "Mar-2009     637\n",
      "Sep-1983     637\n",
      "Jan-2010     634\n",
      "Mar-2011     627\n",
      "Jul-2010     623\n",
      "Feb-2009     621\n",
      "Aug-1983     618\n",
      "Mar-2010     616\n",
      "Jun-1983     613\n",
      "Jan-1984     609\n",
      "Apr-1983     599\n",
      "Jun-2009     592\n",
      "Jan-1983     569\n",
      "Dec-2010     567\n",
      "Dec-1983     566\n",
      "Sep-2011     566\n",
      "Jun-2010     559\n",
      "Oct-1982     555\n",
      "May-2010     548\n",
      "Jul-1983     541\n",
      "Feb-2010     539\n",
      "Jun-2011     534\n",
      "Apr-2010     525\n",
      "Dec-1982     521\n",
      "Mar-1982     521\n",
      "Feb-2011     519\n",
      "Jan-2011     510\n",
      "Feb-1983     505\n",
      "May-2011     502\n",
      "Apr-2011     487\n",
      "Nov-1982     487\n",
      "Sep-1982     474\n",
      "Oct-2011     461\n",
      "Jul-2011     461\n",
      "Apr-1982     458\n",
      "Aug-1982     451\n",
      "Jul-1982     433\n",
      "Jun-1982     430\n",
      "May-1982     412\n",
      "Jan-1982     401\n",
      "Oct-1981     397\n",
      "Mar-1981     387\n",
      "Sep-1981     385\n",
      "Nov-2011     384\n",
      "Feb-1982     377\n",
      "Jan-1981     376\n",
      "Aug-1981     357\n",
      "Apr-1981     351\n",
      "Mar-1979     346\n",
      "Jan-1980     346\n",
      "Nov-1981     345\n",
      "Oct-1979     336\n",
      "Nov-1979     336\n",
      "Mar-1978     335\n",
      "Dec-1980     333\n",
      "Dec-1981     332\n",
      "Oct-1978     331\n",
      "Jun-1981     329\n",
      "Apr-1979     325\n",
      "Jul-1981     325\n",
      "Mar-1980     320\n",
      "Sep-1978     314\n",
      "Oct-1980     313\n",
      "May-1978     308\n",
      "Sep-1979     307\n",
      "Feb-1981     307\n",
      "Dec-2011     305\n",
      "Feb-2012     303\n",
      "Sep-1980     298\n",
      "Jan-1978     296\n",
      "May-1981     295\n",
      "Jan-2012     290\n",
      "Apr-1980     287\n",
      "Jul-1979     287\n",
      "Aug-1978     285\n",
      "Nov-1980     284\n",
      "Aug-1980     284\n",
      "Mar-2012     284\n",
      "Sep-1977     283\n",
      "May-1979     279\n",
      "Feb-1980     278\n",
      "Aug-1979     277\n",
      "Jun-1979     277\n",
      "Feb-1979     277\n",
      "Apr-1978     276\n",
      "Dec-1977     275\n",
      "Nov-1978     272\n",
      "Jul-1978     271\n",
      "Feb-1978     268\n",
      "Jan-1979     268\n",
      "Dec-1979     264\n",
      "Nov-1977     262\n",
      "Jul-1977     259\n",
      "Oct-1977     252\n",
      "Mar-1977     251\n",
      "Jun-1978     247\n",
      "Dec-1978     245\n",
      "May-1980     245\n",
      "Jul-1980     243\n",
      "Aug-1977     242\n",
      "Jan-1977     237\n",
      "Apr-2012     232\n",
      "Apr-1977     226\n",
      "Jun-1977     217\n",
      "Nov-1976     216\n",
      "Dec-1976     214\n",
      "Jan-1976     208\n",
      "May-1977     207\n",
      "Jun-1976     197\n",
      "Aug-1976     197\n",
      "Jun-1980     192\n",
      "Oct-1976     191\n",
      "Apr-1976     191\n",
      "Feb-1977     185\n",
      "Sep-1976     185\n",
      "May-2012     183\n",
      "May-1976     182\n",
      "Mar-1976     178\n",
      "Jun-2012     174\n",
      "Oct-1975     174\n",
      "Oct-1974     168\n",
      "Sep-1975     165\n",
      "Jul-1976     165\n",
      "Jun-1975     152\n",
      "Mar-1975     146\n",
      "Dec-1975     145\n",
      "Apr-1975     143\n",
      "Nov-1975     139\n",
      "Mar-1973     138\n",
      "Jan-1975     137\n",
      "Aug-2012     136\n",
      "Feb-1975     136\n",
      "Jul-2012     135\n",
      "Feb-1976     135\n",
      "Sep-1974     133\n",
      "Oct-1973     132\n",
      "Mar-1974     129\n",
      "Aug-1974     129\n",
      "Oct-1972     127\n",
      "Jan-1974     124\n",
      "Jan-1973     123\n",
      "May-1975     123\n",
      "Aug-1975     123\n",
      "Jul-1975     123\n",
      "Nov-1973     123\n",
      "May-1973     121\n",
      "Nov-1974     121\n",
      "Apr-1974     120\n",
      "Dec-1974     118\n",
      "Jun-1974     116\n",
      "May-1974     115\n",
      "Nov-1972     115\n",
      "Apr-1973     111\n",
      "Dec-1973     109\n",
      "Jul-1974     107\n",
      "Feb-1972     107\n",
      "Jul-1973     101\n",
      "Sep-1973     101\n",
      "Feb-1974     101\n",
      "Jan-1972      98\n",
      "Aug-1972      97\n",
      "Sep-1972      97\n",
      "Mar-1972      97\n",
      "Sep-2012      96\n",
      "Aug-1973      94\n",
      "Feb-1973      91\n",
      "Jun-1973      91\n",
      "Jul-1972      90\n",
      "Apr-1972      89\n",
      "Dec-1972      88\n",
      "Jun-1972      87\n",
      "May-1972      86\n",
      "Jan-1970      84\n",
      "Nov-1971      79\n",
      "Jan-1971      79\n",
      "Oct-1970      75\n",
      "Mar-1970      73\n",
      "Apr-1970      73\n",
      "Jun-1971      72\n",
      "Dec-1971      71\n",
      "Apr-1971      68\n",
      "Oct-1971      65\n",
      "Nov-1969      65\n",
      "Jun-1970      64\n",
      "Jan-1969      64\n",
      "May-1970      63\n",
      "Aug-1970      63\n",
      "Jul-1971      62\n",
      "Mar-1969      62\n",
      "Jan-1967      62\n",
      "Jun-1969      61\n",
      "May-1971      60\n",
      "Mar-1971      59\n",
      "Dec-1970      58\n",
      "Oct-1969      57\n",
      "Feb-1968      56\n",
      "Jan-1968      55\n",
      "Sep-1970      55\n",
      "Apr-1969      54\n",
      "Sep-1971      54\n",
      "Dec-1969      54\n",
      "Feb-1969      52\n",
      "Feb-1970      51\n",
      "Nov-1970      50\n",
      "Aug-1971      50\n",
      "Jul-1970      49\n",
      "Jul-1968      48\n",
      "Sep-1967      48\n",
      "Jul-1969      47\n",
      "Mar-1968      46\n",
      "Aug-1969      46\n",
      "Sep-1969      46\n",
      "May-1969      46\n",
      "Aug-1967      43\n",
      "Apr-1967      43\n",
      "Jul-1967      43\n",
      "Feb-1971      42\n",
      "Nov-1967      41\n",
      "Jan-1966      41\n",
      "Apr-1968      40\n",
      "Jan-1963      40\n",
      "Oct-1968      39\n",
      "Sep-1968      38\n",
      "Dec-1968      38\n",
      "Jan-1965      37\n",
      "Oct-2012      37\n",
      "May-1968      37\n",
      "May-1967      37\n",
      "Oct-1967      36\n",
      "Apr-1966      34\n",
      "Jun-1967      33\n",
      "Jun-1966      33\n",
      "Sep-1966      32\n",
      "Aug-1968      31\n",
      "Jun-1968      31\n",
      "Jul-1965      28\n",
      "Aug-1966      28\n",
      "Jan-1960      27\n",
      "Mar-1967      27\n",
      "Oct-1965      27\n",
      "Dec-1967      26\n",
      "Nov-1966      26\n",
      "May-1966      26\n",
      "Jan-1964      25\n",
      "Dec-1966      25\n",
      "Jan-1962      25\n",
      "Oct-1964      24\n",
      "Nov-1968      24\n",
      "Dec-1965      24\n",
      "Feb-1967      24\n",
      "Sep-1964      23\n",
      "Aug-1965      22\n",
      "Jul-1966      22\n",
      "Jun-1965      22\n",
      "Jan-1961      22\n",
      "Mar-1966      21\n",
      "Apr-1965      20\n",
      "Sep-1965      20\n",
      "Nov-1965      19\n",
      "Feb-1965      18\n",
      "May-1964      17\n",
      "Oct-1966      17\n",
      "Mar-1965      16\n",
      "Dec-1964      15\n",
      "Jun-1963      14\n",
      "Oct-1963      14\n",
      "May-1965      14\n",
      "Nov-1964      14\n",
      "Apr-1963      14\n",
      "Apr-1964      14\n",
      "Oct-1962      14\n",
      "Jul-1963      14\n",
      "Feb-1966      13\n",
      "Mar-1964      13\n",
      "Dec-1963      12\n",
      "Feb-1964      11\n",
      "Sep-1962      10\n",
      "Sep-1963      10\n",
      "Mar-1963      10\n",
      "Jun-1964      10\n",
      "Jul-1964       9\n",
      "Nov-2012       8\n",
      "Oct-1960       8\n",
      "Jan-1959       8\n",
      "Jan-1958       7\n",
      "Dec-1962       7\n",
      "Jan-1956       7\n",
      "May-1963       7\n",
      "Oct-1959       7\n",
      "Aug-1964       7\n",
      "Jan-1957       6\n",
      "Aug-1963       6\n",
      "Oct-1961       6\n",
      "May-1959       6\n",
      "Mar-1962       5\n",
      "Dec-1960       5\n",
      "Mar-1960       5\n",
      "Jan-1955       5\n",
      "Jun-1962       5\n",
      "May-1962       5\n",
      "Apr-1962       5\n",
      "Jun-1958       5\n",
      "Nov-1963       5\n",
      "Aug-1960       5\n",
      "Dec-1961       5\n",
      "Aug-1959       5\n",
      "Nov-1960       4\n",
      "Jul-1962       4\n",
      "Nov-1962       4\n",
      "Feb-1961       4\n",
      "Sep-1959       4\n",
      "Oct-1958       4\n",
      "Jul-1959       3\n",
      "Mar-1961       3\n",
      "Dec-1956       3\n",
      "Nov-1961       3\n",
      "Jan-1952       3\n",
      "Nov-1959       3\n",
      "Jun-1957       3\n",
      "Dec-1958       3\n",
      "Jun-1960       3\n",
      "Apr-1961       3\n",
      "Jan-1951       3\n",
      "Nov-1958       3\n",
      "Jul-1960       3\n",
      "Jun-1959       3\n",
      "Aug-1962       3\n",
      "Aug-1961       3\n",
      "Sep-1961       3\n",
      "Nov-1954       2\n",
      "Feb-1959       2\n",
      "Feb-1963       2\n",
      "Sep-1960       2\n",
      "Jun-1961       2\n",
      "May-1955       2\n",
      "Apr-1955       2\n",
      "Jul-1958       2\n",
      "Nov-1956       2\n",
      "Jan-1944       2\n",
      "Sep-1956       2\n",
      "May-1960       2\n",
      "Jan-1950       2\n",
      "Jan-1953       2\n",
      "Jan-1954       2\n",
      "Aug-1950       2\n",
      "Jun-1955       1\n",
      "Sep-1953       1\n",
      "Apr-1958       1\n",
      "May-1961       1\n",
      "Jul-1961       1\n",
      "Sep-1957       1\n",
      "Feb-1957       1\n",
      "May-1950       1\n",
      "Mar-1958       1\n",
      "May-1958       1\n",
      "Oct-1950       1\n",
      "Mar-1959       1\n",
      "Aug-1946       1\n",
      "Feb-1960       1\n",
      "Jun-1949       1\n",
      "Apr-1960       1\n",
      "Nov-1957       1\n",
      "Jan-1948       1\n",
      "Oct-1957       1\n",
      "May-1953       1\n",
      "Nov-1953       1\n",
      "Oct-1954       1\n",
      "May-1957       1\n",
      "Jul-1951       1\n",
      "Dec-1951       1\n",
      "Mar-1955       1\n",
      "Aug-1951       1\n",
      "Nov-1950       1\n",
      "Jan-1946       1\n",
      "Aug-1955       1\n",
      "Jul-1955       1\n",
      "Aug-1958       1\n",
      "Dec-1959       1\n",
      "Dec-1950       1\n",
      "Nov-1955       1\n",
      "Name: earliest_cr_line, dtype: int64\n"
     ]
    }
   ],
   "source": [
    "print(data.earliest_cr_line.value_counts())"
   ]
  },
  {
   "cell_type": "code",
   "execution_count": 21,
   "metadata": {},
   "outputs": [
    {
     "name": "stderr",
     "output_type": "stream",
     "text": [
      "IOPub data rate exceeded.\n",
      "The notebook server will temporarily stop sending output\n",
      "to the client in order to avoid crashing it.\n",
      "To change this limit, set the config variable\n",
      "`--NotebookApp.iopub_data_rate_limit`.\n",
      "\n",
      "Current values:\n",
      "NotebookApp.iopub_data_rate_limit=1000000.0 (bytes/sec)\n",
      "NotebookApp.rate_limit_window=3.0 (secs)\n",
      "\n"
     ]
    }
   ],
   "source": [
    "print(data.title.value_counts())"
   ]
  },
  {
   "cell_type": "markdown",
   "metadata": {},
   "source": [
    "- id and member_id ==> id and member_id are all unique which is a bit misleading. So every record is a unique customer \n",
    "- application_type ==> application_type is 'INDIVIDUAL' having 855527 records which is  99.94% of the records\n",
    "- acc_now_delinq ==> acc_now_delinq is 0 having 852039 records which is  99.5% of the records\n",
    "- emp_title ==> emp_title not needed here\n",
    "- zip_code ==> zip_code not needed for this level of analysis\n",
    "- title ==> title variable because it's a categorical varibale with (60991 level)\n",
    "- earliest_cr_line ==> earliest_cr_line variable because it's a date varibale with (697 level)\n",
    "- next_pymnt_d ==> as per the domain knowledge it is also not imp variable\n",
    "- other few variables we deleted according to domain knowledge"
   ]
  },
  {
   "cell_type": "code",
   "execution_count": 22,
   "metadata": {},
   "outputs": [],
   "source": [
    "data1 = data1.drop(['id' ,'member_id', 'sub_grade' , \n",
    "                    'emp_title' , 'title' , 'zip_code' , \n",
    "                    'addr_state' ,\n",
    "                    'earliest_cr_line',\n",
    "                   'inq_last_6mths' , 'pub_rec' ,\n",
    "                    'initial_list_status' ,\n",
    "                    'recoveries' ,'next_pymnt_d',\n",
    "                    'collection_recovery_fee' , \n",
    "                    'acc_now_delinq',\n",
    "                   'policy_code' , 'tot_coll_amt' , \n",
    "                    'collections_12_mths_ex_med']\n",
    "                   ,axis = 1)"
   ]
  },
  {
   "cell_type": "code",
   "execution_count": 23,
   "metadata": {},
   "outputs": [
    {
     "data": {
      "text/plain": [
       "Index(['loan_amnt', 'funded_amnt', 'funded_amnt_inv', 'term', 'int_rate',\n",
       "       'installment', 'grade', 'emp_length', 'home_ownership', 'annual_inc',\n",
       "       'verification_status', 'issue_d', 'pymnt_plan', 'purpose', 'dti',\n",
       "       'delinq_2yrs', 'mths_since_last_delinq', 'open_acc', 'revol_bal',\n",
       "       'revol_util', 'total_acc', 'out_prncp', 'out_prncp_inv', 'total_pymnt',\n",
       "       'total_pymnt_inv', 'total_rec_prncp', 'total_rec_int',\n",
       "       'total_rec_late_fee', 'last_pymnt_d', 'last_pymnt_amnt',\n",
       "       'last_credit_pull_d', 'application_type', 'tot_cur_bal',\n",
       "       'total_rev_hi_lim', 'default_ind'],\n",
       "      dtype='object')"
      ]
     },
     "execution_count": 23,
     "metadata": {},
     "output_type": "execute_result"
    }
   ],
   "source": [
    "data1.columns"
   ]
  },
  {
   "cell_type": "code",
   "execution_count": 24,
   "metadata": {},
   "outputs": [
    {
     "data": {
      "text/plain": [
       "(855969, 35)"
      ]
     },
     "execution_count": 24,
     "metadata": {},
     "output_type": "execute_result"
    }
   ],
   "source": [
    "data1.shape"
   ]
  },
  {
   "cell_type": "markdown",
   "metadata": {},
   "source": [
    "### Variable Transformations"
   ]
  },
  {
   "cell_type": "markdown",
   "metadata": {},
   "source": [
    "- Extract numbers from emp_length and fill missing values with the mode. If emp_length == 10+ years then leave it as 10"
   ]
  },
  {
   "cell_type": "code",
   "execution_count": 25,
   "metadata": {},
   "outputs": [],
   "source": [
    "def emplen(row):\n",
    "    return str(row.replace('10+ years' , '10').replace('9 years' , '9').replace('8 years' , '8').replace('7 years' , '7')\n",
    "          .replace('6 years' , '6').replace('5 years' , '5').replace('4 years' , '4').replace('3 years' , '3')\n",
    "          .replace('2 years' , '2').replace('1 year' , '1').replace('< 1 year' , '< 1'))\n",
    "\n",
    "data1['emp_length'] = data1['emp_length'].astype(str).apply(emplen)\n",
    "data1['emp_length'] = data1['emp_length'].replace('< 1' , '0' , regex = True)\n",
    "\n",
    "data1['emp_length'] = data1['emp_length'].replace('nan' , '10' , regex = True) #replacing with mode value."
   ]
  },
  {
   "cell_type": "markdown",
   "metadata": {},
   "source": [
    "# Outliers Checking."
   ]
  },
  {
   "cell_type": "code",
   "execution_count": 26,
   "metadata": {},
   "outputs": [
    {
     "data": {
      "image/png": "[encoded data removed]",
      "text/plain": [
       "<Figure size 432x288 with 1 Axes>"
      ]
     },
     "metadata": {
      "needs_background": "light"
     },
     "output_type": "display_data"
    },
    {
     "data": {
      "image/png": "[encoded data removed]",
      "text/plain": [
       "<Figure size 432x288 with 1 Axes>"
      ]
     },
     "metadata": {
      "needs_background": "light"
     },
     "output_type": "display_data"
    },
    {
     "data": {
      "image/png": "[encoded data removed]",
      "text/plain": [
       "<Figure size 432x288 with 1 Axes>"
      ]
     },
     "metadata": {
      "needs_background": "light"
     },
     "output_type": "display_data"
    },
    {
     "data": {
      "image/png": "[encoded data removed]",
      "text/plain": [
       "<Figure size 432x288 with 1 Axes>"
      ]
     },
     "metadata": {
      "needs_background": "light"
     },
     "output_type": "display_data"
    },
    {
     "data": {
      "image/png": "[encoded data removed]",
      "text/plain": [
       "<Figure size 432x288 with 1 Axes>"
      ]
     },
     "metadata": {
      "needs_background": "light"
     },
     "output_type": "display_data"
    },
    {
     "data": {
      "image/png": "[encoded data removed]",
      "text/plain": [
       "<Figure size 432x288 with 1 Axes>"
      ]
     },
     "metadata": {
      "needs_background": "light"
     },
     "output_type": "display_data"
    },
    {
     "data": {
      "image/png": "[encoded data removed]",
      "text/plain": [
       "<Figure size 432x288 with 1 Axes>"
      ]
     },
     "metadata": {
      "needs_background": "light"
     },
     "output_type": "display_data"
    },
    {
     "data": {
      "image/png": "[encoded data removed]",
      "text/plain": [
       "<Figure size 432x288 with 1 Axes>"
      ]
     },
     "metadata": {
      "needs_background": "light"
     },
     "output_type": "display_data"
    },
    {
     "data": {
      "image/png": "[encoded data removed]",
      "text/plain": [
       "<Figure size 432x288 with 1 Axes>"
      ]
     },
     "metadata": {
      "needs_background": "light"
     },
     "output_type": "display_data"
    },
    {
     "data": {
      "image/png": "[encoded data removed]",
      "text/plain": [
       "<Figure size 432x288 with 1 Axes>"
      ]
     },
     "metadata": {
      "needs_background": "light"
     },
     "output_type": "display_data"
    },
    {
     "data": {
      "image/png": "[encoded data removed]",
      "text/plain": [
       "<Figure size 432x288 with 1 Axes>"
      ]
     },
     "metadata": {
      "needs_background": "light"
     },
     "output_type": "display_data"
    },
    {
     "data": {
      "image/png": "[encoded data removed]",
      "text/plain": [
       "<Figure size 432x288 with 1 Axes>"
      ]
     },
     "metadata": {
      "needs_background": "light"
     },
     "output_type": "display_data"
    },
    {
     "data": {
      "image/png": "[encoded data removed]",
      "text/plain": [
       "<Figure size 432x288 with 1 Axes>"
      ]
     },
     "metadata": {
      "needs_background": "light"
     },
     "output_type": "display_data"
    },
    {
     "data": {
      "image/png": "[encoded data removed]",
      "text/plain": [
       "<Figure size 432x288 with 1 Axes>"
      ]
     },
     "metadata": {
      "needs_background": "light"
     },
     "output_type": "display_data"
    },
    {
     "data": {
      "image/png": "[encoded data removed]",
      "text/plain": [
       "<Figure size 432x288 with 1 Axes>"
      ]
     },
     "metadata": {
      "needs_background": "light"
     },
     "output_type": "display_data"
    },
    {
     "data": {
      "image/png": "[encoded data removed]",
      "text/plain": [
       "<Figure size 432x288 with 1 Axes>"
      ]
     },
     "metadata": {
      "needs_background": "light"
     },
     "output_type": "display_data"
    },
    {
     "data": {
      "image/png": "[encoded data removed]",
      "text/plain": [
       "<Figure size 432x288 with 1 Axes>"
      ]
     },
     "metadata": {
      "needs_background": "light"
     },
     "output_type": "display_data"
    },
    {
     "data": {
      "image/png": "[encoded data removed]",
      "text/plain": [
       "<Figure size 432x288 with 1 Axes>"
      ]
     },
     "metadata": {
      "needs_background": "light"
     },
     "output_type": "display_data"
    },
    {
     "data": {
      "image/png": "[encoded data removed]",
      "text/plain": [
       "<Figure size 432x288 with 1 Axes>"
      ]
     },
     "metadata": {
      "needs_background": "light"
     },
     "output_type": "display_data"
    },
    {
     "data": {
      "image/png": "[encoded data removed]",
      "text/plain": [
       "<Figure size 432x288 with 1 Axes>"
      ]
     },
     "metadata": {
      "needs_background": "light"
     },
     "output_type": "display_data"
    },
    {
     "data": {
      "image/png": "[encoded data removed]",
      "text/plain": [
       "<Figure size 432x288 with 1 Axes>"
      ]
     },
     "metadata": {
      "needs_background": "light"
     },
     "output_type": "display_data"
    },
    {
     "data": {
      "image/png": "[encoded data removed]",
      "text/plain": [
       "<Figure size 432x288 with 1 Axes>"
      ]
     },
     "metadata": {
      "needs_background": "light"
     },
     "output_type": "display_data"
    },
    {
     "data": {
      "image/png": "[encoded data removed]",
      "text/plain": [
       "<Figure size 432x288 with 1 Axes>"
      ]
     },
     "metadata": {
      "needs_background": "light"
     },
     "output_type": "display_data"
    }
   ],
   "source": [
    "# to generate boxplot for all numerical varibales\n",
    "\n",
    "import matplotlib.pyplot as plt\n",
    "colname=[]\n",
    "for x in data1.columns[:-1]:\n",
    "    if data1[x].dtype==\"int64\" or data1[x].dtype==\"float64\":\n",
    "        colname.append(x)\n",
    "\n",
    "for x in colname:\n",
    "    data1.boxplot(column=x)\n",
    "    plt.show()"
   ]
  },
  {
   "cell_type": "code",
   "execution_count": 27,
   "metadata": {},
   "outputs": [
    {
     "name": "stdout",
     "output_type": "stream",
     "text": [
      "count    855523.000000\n",
      "mean         55.019405\n",
      "std          23.811585\n",
      "min           0.000000\n",
      "25%          37.600000\n",
      "50%          55.900000\n",
      "75%          73.500000\n",
      "max         892.300000\n",
      "Name: revol_util, dtype: float64\n",
      "count    855969.000000\n",
      "mean         18.122165\n",
      "std          17.423629\n",
      "min           0.000000\n",
      "25%          11.880000\n",
      "50%          17.610000\n",
      "75%          23.900000\n",
      "max        9999.000000\n",
      "Name: dti, dtype: float64\n"
     ]
    }
   ],
   "source": [
    "print(data['revol_util'].describe())\n",
    "print(data['dti'].describe())"
   ]
  },
  {
   "cell_type": "markdown",
   "metadata": {},
   "source": [
    "revol_util  has only one variable above 193 and that is 892 and dti has only one variable above 1093 which is 9999. So,we are removing those 2 observations"
   ]
  },
  {
   "cell_type": "code",
   "execution_count": 28,
   "metadata": {},
   "outputs": [],
   "source": [
    "data1.drop(data1.index[data1['revol_util'] == 892.300000], inplace = True)\n",
    "data1.drop(data1.index[data1['dti'] == 9999.000000], inplace = True)"
   ]
  },
  {
   "cell_type": "code",
   "execution_count": 29,
   "metadata": {},
   "outputs": [
    {
     "name": "stdout",
     "output_type": "stream",
     "text": [
      "count    855520.000000\n",
      "mean         55.018385\n",
      "std          23.794386\n",
      "min           0.000000\n",
      "25%          37.600000\n",
      "50%          55.900000\n",
      "75%          73.500000\n",
      "max         193.000000\n",
      "Name: revol_util, dtype: float64\n",
      "count    855966.000000\n",
      "mean         18.098848\n",
      "std           8.415562\n",
      "min           0.000000\n",
      "25%          11.880000\n",
      "50%          17.610000\n",
      "75%          23.900000\n",
      "max        1092.520000\n",
      "Name: dti, dtype: float64\n"
     ]
    }
   ],
   "source": [
    "print(data1['revol_util'].describe())\n",
    "print(data1['dti'].describe())"
   ]
  },
  {
   "cell_type": "markdown",
   "metadata": {},
   "source": [
    "## plots to study trends"
   ]
  },
  {
   "cell_type": "markdown",
   "metadata": {},
   "source": [
    "#### Categorical variables"
   ]
  },
  {
   "cell_type": "code",
   "execution_count": 30,
   "metadata": {},
   "outputs": [],
   "source": [
    "def make_bar(attr, title, ylabel):\n",
    "    heights = data1[attr].value_counts().tolist()\n",
    "    names = []\n",
    "    for k, v in data1[attr].value_counts().items():\n",
    "        names.append(k)\n",
    "        \n",
    "    for ii, height in enumerate(heights):\n",
    "        color = np.random.random_sample(3)\n",
    "        plt.bar(ii, height, color=color)\n",
    "        \n",
    "    plt.title(title)\n",
    "    plt.ylabel(ylabel)\n",
    "    plt.gca().set_xticklabels(names)\n",
    "    plt.gca().set_xticks(np.arange(len(names)) + .4)\n",
    "    \n",
    "    if len(names) > 5:\n",
    "        plt.xticks(rotation=90)\n",
    "    plt.show()\n",
    "    "
   ]
  },
  {
   "cell_type": "code",
   "execution_count": 31,
   "metadata": {},
   "outputs": [
    {
     "data": {
      "image/png": "[encoded data removed]",
      "text/plain": [
       "<Figure size 432x288 with 1 Axes>"
      ]
     },
     "metadata": {
      "needs_background": "light"
     },
     "output_type": "display_data"
    },
    {
     "data": {
      "image/png": "[encoded data removed]",
      "text/plain": [
       "<Figure size 432x288 with 1 Axes>"
      ]
     },
     "metadata": {
      "needs_background": "light"
     },
     "output_type": "display_data"
    },
    {
     "data": {
      "image/png": "[encoded data removed]",
      "text/plain": [
       "<Figure size 432x288 with 1 Axes>"
      ]
     },
     "metadata": {
      "needs_background": "light"
     },
     "output_type": "display_data"
    },
    {
     "data": {
      "image/png": "[encoded data removed]",
      "text/plain": [
       "<Figure size 432x288 with 1 Axes>"
      ]
     },
     "metadata": {
      "needs_background": "light"
     },
     "output_type": "display_data"
    }
   ],
   "source": [
    "# We plot different variables to visualize them\n",
    "make_bar('emp_length', 'Length of Employment of Borrowers', 'Borrowers')\n",
    "make_bar('grade', 'Grades of Loans', 'Loans')\n",
    "make_bar('term', 'Terms of Loans', 'Loans')\n",
    "make_bar('purpose', 'Purpose of Loans', 'Loans')"
   ]
  },
  {
   "cell_type": "markdown",
   "metadata": {},
   "source": [
    "###### default_ind "
   ]
  },
  {
   "cell_type": "code",
   "execution_count": 32,
   "metadata": {},
   "outputs": [
    {
     "name": "stdout",
     "output_type": "stream",
     "text": [
      "Non_Default Customer : 94.57 % of the dataset\n",
      "Default Customer : 5.43 % of the dataset\n"
     ]
    }
   ],
   "source": [
    "Non_Default = round(data1['default_ind'].value_counts()[0]/len(data1) * 100, 2)\n",
    "\n",
    "Default = round(data1['default_ind'].value_counts()[1]/len(data1) * 100, 2)\n",
    "\n",
    "print('Non_Default Customer : {} % of the dataset'.format(Non_Default))\n",
    "print('Default Customer : {} % of the dataset'.format(Default))"
   ]
  },
  {
   "cell_type": "code",
   "execution_count": 33,
   "metadata": {},
   "outputs": [
    {
     "data": {
      "text/plain": [
       "Text(0.5, 1.0, 'Class Distribution \\n (0 : Non_Default Customer    ||    1 : Default Customer)')"
      ]
     },
     "execution_count": 33,
     "metadata": {},
     "output_type": "execute_result"
    },
    {
     "data": {
      "image/png": "[encoded data removed]",
      "text/plain": [
       "<Figure size 432x288 with 1 Axes>"
      ]
     },
     "metadata": {
      "needs_background": "light"
     },
     "output_type": "display_data"
    }
   ],
   "source": [
    "sns.countplot('default_ind', data=data1)\n",
    "plt.title('Class Distribution \\n (0 : Non_Default Customer    ||    1 : Default Customer)')"
   ]
  },
  {
   "cell_type": "markdown",
   "metadata": {},
   "source": [
    "###### issue_d"
   ]
  },
  {
   "cell_type": "markdown",
   "metadata": {},
   "source": [
    "Create a function that will split the issue_d varibale which is nothing but the The month which the loan was funded"
   ]
  },
  {
   "cell_type": "code",
   "execution_count": 34,
   "metadata": {},
   "outputs": [],
   "source": [
    "def getMonth(x):\n",
    "    return x.split('-')[0]\n",
    "\n",
    "\n",
    "def getYear(x):\n",
    "    return x.split('-')[1]\n",
    "\n",
    "\n",
    "data1['Month'] = data1.issue_d.apply(getMonth)\n",
    "data1['Year'] = data1.issue_d.apply(getYear)"
   ]
  },
  {
   "cell_type": "code",
   "execution_count": 35,
   "metadata": {},
   "outputs": [
    {
     "data": {
      "text/plain": [
       "<AxesSubplot:xlabel='Year', ylabel='count'>"
      ]
     },
     "execution_count": 35,
     "metadata": {},
     "output_type": "execute_result"
    },
    {
     "data": {
      "image/png": "[encoded data removed]",
      "text/plain": [
       "<Figure size 1080x288 with 1 Axes>"
      ]
     },
     "metadata": {
      "needs_background": "light"
     },
     "output_type": "display_data"
    }
   ],
   "source": [
    "plt.figure(figsize=(15, 4))\n",
    "\n",
    "sns.countplot(x=\"Year\", data=data1, edgecolor=sns.color_palette(\"dark\", 6))"
   ]
  },
  {
   "cell_type": "markdown",
   "metadata": {},
   "source": [
    " an exponential rise in the number of applications over a period of years"
   ]
  },
  {
   "cell_type": "code",
   "execution_count": 36,
   "metadata": {},
   "outputs": [
    {
     "data": {
      "text/plain": [
       "<AxesSubplot:xlabel='Month', ylabel='count'>"
      ]
     },
     "execution_count": 36,
     "metadata": {},
     "output_type": "execute_result"
    },
    {
     "data": {
      "image/png": "[encoded data removed]",
      "text/plain": [
       "<Figure size 1008x432 with 1 Axes>"
      ]
     },
     "metadata": {
      "needs_background": "light"
     },
     "output_type": "display_data"
    }
   ],
   "source": [
    "orderby = ['Jan', 'Feb', 'Mar', 'Apr', 'May', 'Jun', 'Jul', 'Aug', 'Sep', 'Oct', 'Nov', 'Dec']\n",
    "\n",
    "plt.figure(figsize=(14, 6))\n",
    "\n",
    "sns.countplot(x=\"Month\", data=data1, edgecolor=sns.color_palette(\"dark\", 6), order=orderby)"
   ]
  },
  {
   "cell_type": "code",
   "execution_count": 37,
   "metadata": {},
   "outputs": [],
   "source": [
    "vars_to_be_removed = ['Month','Year']\n",
    "data1.drop( vars_to_be_removed , axis = 1, inplace = True )"
   ]
  },
  {
   "cell_type": "code",
   "execution_count": 38,
   "metadata": {},
   "outputs": [
    {
     "data": {
      "text/plain": [
       "(855966, 35)"
      ]
     },
     "execution_count": 38,
     "metadata": {},
     "output_type": "execute_result"
    }
   ],
   "source": [
    "data1.shape"
   ]
  },
  {
   "cell_type": "markdown",
   "metadata": {},
   "source": [
    "Seems that October and July have the highest number of applications"
   ]
  },
  {
   "cell_type": "markdown",
   "metadata": {},
   "source": [
    "#### Numerical variables"
   ]
  },
  {
   "cell_type": "code",
   "execution_count": 39,
   "metadata": {},
   "outputs": [
    {
     "data": {
      "image/png": "[encoded data removed]",
      "text/plain": [
       "<Figure size 432x288 with 1 Axes>"
      ]
     },
     "metadata": {
      "needs_background": "light"
     },
     "output_type": "display_data"
    },
    {
     "data": {
      "image/png": "[encoded data removed]",
      "text/plain": [
       "<Figure size 432x288 with 1 Axes>"
      ]
     },
     "metadata": {
      "needs_background": "light"
     },
     "output_type": "display_data"
    },
    {
     "data": {
      "image/png": "[encoded data removed]",
      "text/plain": [
       "<Figure size 432x288 with 1 Axes>"
      ]
     },
     "metadata": {
      "needs_background": "light"
     },
     "output_type": "display_data"
    }
   ],
   "source": [
    "plt.hist(data['int_rate'], bins=30)\n",
    "plt.title('Distribution of Interest Rates')\n",
    "plt.xlabel(\"Interest Rates\")\n",
    "plt.show()\n",
    "\n",
    "plt.hist(data['loan_amnt'], bins=15, color='red')\n",
    "plt.title('Distribution of Loan Amounts')\n",
    "plt.xlabel(\"Loan Amounts\")\n",
    "plt.show()\n",
    "\n",
    "plt.hist(data['installment'], bins=15, color='green')\n",
    "plt.title('Distribution of Installments')\n",
    "plt.xlabel(\"Installments\")\n",
    "plt.show()"
   ]
  },
  {
   "cell_type": "code",
   "execution_count": 40,
   "metadata": {},
   "outputs": [
    {
     "name": "stdout",
     "output_type": "stream",
     "text": [
      "94.57\n"
     ]
    }
   ],
   "source": [
    "Non_Default = round(data1['default_ind'].value_counts()[0]/len(data1) * 100, 2)\n",
    "print(Non_Default)"
   ]
  },
  {
   "cell_type": "markdown",
   "metadata": {},
   "source": [
    "## Imputing missing values"
   ]
  },
  {
   "cell_type": "code",
   "execution_count": 41,
   "metadata": {},
   "outputs": [
    {
     "data": {
      "text/plain": [
       "loan_amnt                      0\n",
       "funded_amnt                    0\n",
       "funded_amnt_inv                0\n",
       "term                           0\n",
       "int_rate                       0\n",
       "installment                    0\n",
       "grade                          0\n",
       "emp_length                     0\n",
       "home_ownership                 0\n",
       "annual_inc                     0\n",
       "verification_status            0\n",
       "issue_d                        0\n",
       "pymnt_plan                     0\n",
       "purpose                        0\n",
       "dti                            0\n",
       "delinq_2yrs                    0\n",
       "mths_since_last_delinq    439811\n",
       "open_acc                       0\n",
       "revol_bal                      0\n",
       "revol_util                   446\n",
       "total_acc                      0\n",
       "out_prncp                      0\n",
       "out_prncp_inv                  0\n",
       "total_pymnt                    0\n",
       "total_pymnt_inv                0\n",
       "total_rec_prncp                0\n",
       "total_rec_int                  0\n",
       "total_rec_late_fee             0\n",
       "last_pymnt_d                8862\n",
       "last_pymnt_amnt                0\n",
       "last_credit_pull_d            50\n",
       "application_type               0\n",
       "tot_cur_bal                67313\n",
       "total_rev_hi_lim           67313\n",
       "default_ind                    0\n",
       "dtype: int64"
      ]
     },
     "execution_count": 41,
     "metadata": {},
     "output_type": "execute_result"
    }
   ],
   "source": [
    "data1.isnull().sum()"
   ]
  },
  {
   "cell_type": "code",
   "execution_count": 42,
   "metadata": {
    "scrolled": true
   },
   "outputs": [
    {
     "data": {
      "text/plain": [
       "count    416155.000000\n",
       "mean         34.149923\n",
       "std          21.868461\n",
       "min           0.000000\n",
       "25%          15.000000\n",
       "50%          31.000000\n",
       "75%          50.000000\n",
       "max         188.000000\n",
       "Name: mths_since_last_delinq, dtype: float64"
      ]
     },
     "execution_count": 42,
     "metadata": {},
     "output_type": "execute_result"
    }
   ],
   "source": [
    "data1['mths_since_last_delinq'].describe()"
   ]
  },
  {
   "cell_type": "code",
   "execution_count": 43,
   "metadata": {},
   "outputs": [],
   "source": [
    "data1['mths_since_last_delinq']=data1['mths_since_last_delinq'].fillna(data1['mths_since_last_delinq'].median())"
   ]
  },
  {
   "cell_type": "code",
   "execution_count": 44,
   "metadata": {},
   "outputs": [],
   "source": [
    "data1.revol_util = data1.revol_util.fillna(data1.revol_util.mean())\n",
    "data1.tot_cur_bal = data1.tot_cur_bal.fillna(data1.tot_cur_bal.mean())\n",
    "data1.total_rev_hi_lim = data1.total_rev_hi_lim.fillna(data1.total_rev_hi_lim.mean())"
   ]
  },
  {
   "cell_type": "code",
   "execution_count": 45,
   "metadata": {},
   "outputs": [],
   "source": [
    "# Since these are dates we will fill the null values with previous values using ffill() function\n",
    "# Pandas dataframe.ffill() function is used to fill the missing value in the dataframe. ‘ffill’ stands for ‘forward fill’ and will propagate last valid observation forward.\n",
    "\n",
    "data1[\"last_credit_pull_d\"].fillna( method ='ffill', inplace = True)\n",
    "data1[\"last_pymnt_d\"].fillna( method ='ffill', inplace = True) "
   ]
  },
  {
   "cell_type": "code",
   "execution_count": 46,
   "metadata": {},
   "outputs": [
    {
     "data": {
      "text/plain": [
       "loan_amnt                 0\n",
       "funded_amnt               0\n",
       "funded_amnt_inv           0\n",
       "term                      0\n",
       "int_rate                  0\n",
       "installment               0\n",
       "grade                     0\n",
       "emp_length                0\n",
       "home_ownership            0\n",
       "annual_inc                0\n",
       "verification_status       0\n",
       "issue_d                   0\n",
       "pymnt_plan                0\n",
       "purpose                   0\n",
       "dti                       0\n",
       "delinq_2yrs               0\n",
       "mths_since_last_delinq    0\n",
       "open_acc                  0\n",
       "revol_bal                 0\n",
       "revol_util                0\n",
       "total_acc                 0\n",
       "out_prncp                 0\n",
       "out_prncp_inv             0\n",
       "total_pymnt               0\n",
       "total_pymnt_inv           0\n",
       "total_rec_prncp           0\n",
       "total_rec_int             0\n",
       "total_rec_late_fee        0\n",
       "last_pymnt_d              0\n",
       "last_pymnt_amnt           0\n",
       "last_credit_pull_d        0\n",
       "application_type          0\n",
       "tot_cur_bal               0\n",
       "total_rev_hi_lim          0\n",
       "default_ind               0\n",
       "dtype: int64"
      ]
     },
     "execution_count": 46,
     "metadata": {},
     "output_type": "execute_result"
    }
   ],
   "source": [
    "data1.isnull().sum()"
   ]
  },
  {
   "cell_type": "code",
   "execution_count": 47,
   "metadata": {},
   "outputs": [
    {
     "data": {
      "text/plain": [
       "(855966, 35)"
      ]
     },
     "execution_count": 47,
     "metadata": {},
     "output_type": "execute_result"
    }
   ],
   "source": [
    "data1.shape"
   ]
  },
  {
   "cell_type": "code",
   "execution_count": 48,
   "metadata": {},
   "outputs": [
    {
     "data": {
      "text/plain": [
       "<AxesSubplot:>"
      ]
     },
     "execution_count": 48,
     "metadata": {},
     "output_type": "execute_result"
    },
    {
     "data": {
      "image/png": "[encoded data removed]",
      "text/plain": [
       "<Figure size 1080x360 with 1 Axes>"
      ]
     },
     "metadata": {
      "needs_background": "light"
     },
     "output_type": "display_data"
    }
   ],
   "source": [
    "# Visualizing the missing value in each column after imputing missing values\n",
    "plt.figure(figsize=(15,5))\n",
    "sns.heatmap(data1.isnull(), cbar = False, yticklabels=False, cmap=\"magma\" )"
   ]
  },
  {
   "cell_type": "code",
   "execution_count": 49,
   "metadata": {},
   "outputs": [],
   "source": [
    "data1['issue_d'] = pd.to_datetime(data1['issue_d'])"
   ]
  },
  {
   "cell_type": "markdown",
   "metadata": {},
   "source": [
    "## Feature Engineering and Variable Selection"
   ]
  },
  {
   "cell_type": "markdown",
   "metadata": {},
   "source": [
    "- Keeping the loan_amount, and  creating a metric which indicates that the total amount committed by investors for that loan at that point in time (funded_amnt_inv) is less than what the borrower requested.\n",
    "- Then we computed the ratio of the number of open credit lines in the borrower's credit file divided by the total number of credit lines currently in the borrower's credit file."
   ]
  },
  {
   "cell_type": "code",
   "execution_count": 50,
   "metadata": {},
   "outputs": [],
   "source": [
    "data1['amt_difference'] = 'eq'\n",
    "data1.loc[ ( data1['funded_amnt'] - data1['funded_amnt_inv']) > 0, 'amt_difference' ] = 'less'\n",
    "\n",
    "#---------------------\n",
    "\n",
    "# Create new metric\n",
    "data1['acc_ratio'] = data1.open_acc / data1.total_acc"
   ]
  },
  {
   "cell_type": "markdown",
   "metadata": {},
   "source": [
    "as we convert funded_amnt and funded_amnt_inv into a single variable amt_difference similarly we convert open_acc and total_acc into a single variable acc_ratio.\n",
    "now we are removing those 4 variables"
   ]
  },
  {
   "cell_type": "code",
   "execution_count": 51,
   "metadata": {},
   "outputs": [],
   "source": [
    "vars_to_be_removed = ['funded_amnt','funded_amnt_inv',\n",
    "                     'open_acc','total_acc']\n",
    "data1.drop( vars_to_be_removed , axis = 1, inplace = True )"
   ]
  },
  {
   "cell_type": "code",
   "execution_count": 52,
   "metadata": {},
   "outputs": [],
   "source": [
    "data1=data1[['loan_amnt','amt_difference', 'term', 'int_rate',\n",
    "       'installment', 'grade', 'emp_length', 'home_ownership', 'annual_inc',\n",
    "       'verification_status', 'issue_d', 'pymnt_plan', 'purpose', 'dti',\n",
    "       'delinq_2yrs', 'mths_since_last_delinq', 'revol_bal',\n",
    "       'revol_util','acc_ratio', 'out_prncp', 'out_prncp_inv', 'total_pymnt',\n",
    "       'total_pymnt_inv', 'total_rec_prncp', 'total_rec_int',\n",
    "       'total_rec_late_fee', 'last_pymnt_d', 'last_pymnt_amnt',\n",
    "       'last_credit_pull_d', 'application_type', 'tot_cur_bal',\n",
    "       'total_rev_hi_lim', 'default_ind']]"
   ]
  },
  {
   "cell_type": "markdown",
   "metadata": {},
   "source": [
    "## Label Encoding"
   ]
  },
  {
   "cell_type": "code",
   "execution_count": 53,
   "metadata": {},
   "outputs": [
    {
     "data": {
      "text/plain": [
       "['amt_difference',\n",
       " 'term',\n",
       " 'grade',\n",
       " 'emp_length',\n",
       " 'home_ownership',\n",
       " 'verification_status',\n",
       " 'pymnt_plan',\n",
       " 'purpose',\n",
       " 'last_pymnt_d',\n",
       " 'last_credit_pull_d',\n",
       " 'application_type']"
      ]
     },
     "execution_count": 53,
     "metadata": {},
     "output_type": "execute_result"
    }
   ],
   "source": [
    "colname=[]    \n",
    "for x in data1.columns[:]:\n",
    "    if data1[x].dtype=='object':\n",
    "        colname.append(x)   #append(x) for X increament\n",
    "colname"
   ]
  },
  {
   "cell_type": "code",
   "execution_count": 54,
   "metadata": {
    "scrolled": true
   },
   "outputs": [
    {
     "data": {
      "text/plain": [
       "Index(['loan_amnt', 'amt_difference', 'term', 'int_rate', 'installment',\n",
       "       'grade', 'emp_length', 'home_ownership', 'annual_inc',\n",
       "       'verification_status', 'issue_d', 'pymnt_plan', 'purpose', 'dti',\n",
       "       'delinq_2yrs', 'mths_since_last_delinq', 'revol_bal', 'revol_util',\n",
       "       'acc_ratio', 'out_prncp', 'out_prncp_inv', 'total_pymnt',\n",
       "       'total_pymnt_inv', 'total_rec_prncp', 'total_rec_int',\n",
       "       'total_rec_late_fee', 'last_pymnt_d', 'last_pymnt_amnt',\n",
       "       'last_credit_pull_d', 'application_type', 'tot_cur_bal',\n",
       "       'total_rev_hi_lim', 'default_ind'],\n",
       "      dtype='object')"
      ]
     },
     "execution_count": 54,
     "metadata": {},
     "output_type": "execute_result"
    }
   ],
   "source": [
    "data1.columns"
   ]
  },
  {
   "cell_type": "code",
   "execution_count": 55,
   "metadata": {},
   "outputs": [],
   "source": [
    "from sklearn import preprocessing\n",
    "\n",
    "le=preprocessing.LabelEncoder()\n",
    "\n",
    "for x in colname:\n",
    "    data1[x]=le.fit_transform(data1[x])"
   ]
  },
  {
   "cell_type": "code",
   "execution_count": 56,
   "metadata": {},
   "outputs": [
    {
     "data": {
      "text/plain": [
       "loan_amnt                        float64\n",
       "amt_difference                     int32\n",
       "term                               int32\n",
       "int_rate                         float64\n",
       "installment                      float64\n",
       "grade                              int32\n",
       "emp_length                         int32\n",
       "home_ownership                     int32\n",
       "annual_inc                       float64\n",
       "verification_status                int32\n",
       "issue_d                   datetime64[ns]\n",
       "pymnt_plan                         int32\n",
       "purpose                            int32\n",
       "dti                              float64\n",
       "delinq_2yrs                      float64\n",
       "mths_since_last_delinq           float64\n",
       "revol_bal                        float64\n",
       "revol_util                       float64\n",
       "acc_ratio                        float64\n",
       "out_prncp                        float64\n",
       "out_prncp_inv                    float64\n",
       "total_pymnt                      float64\n",
       "total_pymnt_inv                  float64\n",
       "total_rec_prncp                  float64\n",
       "total_rec_int                    float64\n",
       "total_rec_late_fee               float64\n",
       "last_pymnt_d                       int32\n",
       "last_pymnt_amnt                  float64\n",
       "last_credit_pull_d                 int32\n",
       "application_type                   int32\n",
       "tot_cur_bal                      float64\n",
       "total_rev_hi_lim                 float64\n",
       "default_ind                        int64\n",
       "dtype: object"
      ]
     },
     "execution_count": 56,
     "metadata": {},
     "output_type": "execute_result"
    }
   ],
   "source": [
    "data1.dtypes"
   ]
  },
  {
   "cell_type": "markdown",
   "metadata": {},
   "source": [
    "###### Divide the data into model training dataset and test dataset.\n",
    "The model training dataset should be used to train and build models and the final performance should be on Test data"
   ]
  },
  {
   "cell_type": "code",
   "execution_count": 57,
   "metadata": {},
   "outputs": [
    {
     "data": {
      "text/plain": [
       "(598977, 33)"
      ]
     },
     "execution_count": 57,
     "metadata": {},
     "output_type": "execute_result"
    }
   ],
   "source": [
    "to_date=pd.to_datetime('06/01/2015')\n",
    "train_data=data1.loc[(data1.issue_d < to_date)]\n",
    "train_data.shape"
   ]
  },
  {
   "cell_type": "code",
   "execution_count": 58,
   "metadata": {},
   "outputs": [
    {
     "data": {
      "text/plain": [
       "(256989, 33)"
      ]
     },
     "execution_count": 58,
     "metadata": {},
     "output_type": "execute_result"
    }
   ],
   "source": [
    "test_data=data1.loc[(data1.issue_d >= to_date)]\n",
    "test_data.shape"
   ]
  },
  {
   "cell_type": "code",
   "execution_count": 59,
   "metadata": {},
   "outputs": [],
   "source": [
    "train_data=train_data.drop(['issue_d'], axis=1)\n",
    "test_data=test_data.drop(['issue_d'], axis=1)"
   ]
  },
  {
   "cell_type": "code",
   "execution_count": 60,
   "metadata": {},
   "outputs": [],
   "source": [
    "X_train= train_data.values[:,:-1]\n",
    "Y_train= train_data.values[:,-1]"
   ]
  },
  {
   "cell_type": "code",
   "execution_count": 61,
   "metadata": {},
   "outputs": [],
   "source": [
    "X_test= test_data.values[:,:-1]\n",
    "Y_test= test_data.values[:,-1]"
   ]
  },
  {
   "cell_type": "code",
   "execution_count": 62,
   "metadata": {},
   "outputs": [
    {
     "name": "stdout",
     "output_type": "stream",
     "text": [
      "(598977, 31)\n",
      "(598977,)\n",
      "(256989, 31)\n",
      "(256989,)\n"
     ]
    }
   ],
   "source": [
    "print(X_train.shape)\n",
    "print(Y_train.shape)\n",
    "print(X_test.shape)\n",
    "print(Y_test.shape)"
   ]
  },
  {
   "cell_type": "markdown",
   "metadata": {},
   "source": [
    "### Scaling X_train X_test"
   ]
  },
  {
   "cell_type": "code",
   "execution_count": 63,
   "metadata": {},
   "outputs": [],
   "source": [
    "\n",
    "from sklearn.preprocessing import StandardScaler\n",
    "\n",
    "scaler = StandardScaler()\n",
    "\n",
    "scaler.fit(X_train)\n",
    "\n",
    "X_train = scaler.transform(X_train)\n",
    "\n",
    "X_test = scaler.transform (X_test)"
   ]
  },
  {
   "cell_type": "code",
   "execution_count": 64,
   "metadata": {},
   "outputs": [],
   "source": [
    "import matplotlib.pyplot as plt\n",
    "from sklearn.metrics import confusion_matrix\n",
    "from sklearn.utils.multiclass import unique_labels\n",
    "import itertools\n",
    "\n",
    "\n",
    "def plot_confusion_metrix(cm,classes,\n",
    "                         normalize=False,\n",
    "                         title='Confusion Matrix',\n",
    "                         cmap=plt.cm.Blues):\n",
    "    \"\"\"this function prints and plot the confusion matirx\n",
    "    Normalization can be applied by setting 'normalize=True'\n",
    "    \"\"\"\n",
    "    if normalize:\n",
    "        cm = cm.astype('float') / cm.sum(axis=1)[:, np.newaxis]\n",
    "        print(\"Normalized Confusion Matrix\")\n",
    "    else:\n",
    "        print(\"Confusion Matrix, Without Normalisation\")\n",
    "        \n",
    "    print(cm)\n",
    "    \n",
    "    plt.imshow(cm, interpolation='nearest',cmap=cmap)\n",
    "    plt.title(title)\n",
    "    plt.colorbar()\n",
    "    tick_marks = np.arange(len(classes))\n",
    "    plt.xticks(tick_marks,classes,rotation=35)\n",
    "    plt.yticks(tick_marks,classes)\n",
    "    \n",
    "    fmt = '.2f' if normalize else 'd'\n",
    "    thresh = cm.max() /2.\n",
    "    \n",
    "    for i , j in itertools.product(range(cm.shape[0]), range(cm.shape[0])):\n",
    "        plt.text(j, i, format(cm[i,j], fmt),\n",
    "                 horizontalalignment='center',\n",
    "                 color='white' if cm[i, j] > thresh else 'black')\n",
    "    \n",
    "    plt.ylabel('True label')\n",
    "    plt.xlabel('Predicted label')\n",
    "    plt.tight_layout()"
   ]
  },
  {
   "cell_type": "markdown",
   "metadata": {},
   "source": [
    "# Model Building and Validation"
   ]
  },
  {
   "cell_type": "markdown",
   "metadata": {},
   "source": [
    "## LogisticRegression"
   ]
  },
  {
   "cell_type": "code",
   "execution_count": 65,
   "metadata": {},
   "outputs": [
    {
     "data": {
      "text/plain": [
       "'from sklearn.linear_model import LogisticRegression\\n#create a model\\nclassifier = LogisticRegression()\\n#fitting training data to the model\\nclassifier.fit(X_train,Y_train)\\n\\nY_pred=classifier.predict(X_test)\\n'"
      ]
     },
     "execution_count": 65,
     "metadata": {},
     "output_type": "execute_result"
    }
   ],
   "source": [
    "\"\"\"from sklearn.linear_model import LogisticRegression\n",
    "#create a model\n",
    "classifier = LogisticRegression()\n",
    "#fitting training data to the model\n",
    "classifier.fit(X_train,Y_train)\n",
    "\n",
    "Y_pred=classifier.predict(X_test)\n",
    "\"\"\""
   ]
  },
  {
   "cell_type": "code",
   "execution_count": 66,
   "metadata": {},
   "outputs": [
    {
     "data": {
      "text/plain": [
       "'\\nfrom sklearn.metrics import confusion_matrix, accuracy_score, classification_report\\n\\nconf_matrix = confusion_matrix(Y_test,Y_pred)\\nplot_confusion_metrix(conf_matrix,classes=[\\'Non-Default   :  0\\',\\'Default  :1\\'])\\nplt.show()\\n\\nprint(\"Classification report: \")\\n\\nprint(classification_report(Y_test,Y_pred))\\n\\nacc=accuracy_score(Y_test, Y_pred)\\nprint(\"Accuracy of the model: \",acc)\\n'"
      ]
     },
     "execution_count": 66,
     "metadata": {},
     "output_type": "execute_result"
    }
   ],
   "source": [
    "\"\"\"\n",
    "from sklearn.metrics import confusion_matrix, accuracy_score, classification_report\n",
    "\n",
    "conf_matrix = confusion_matrix(Y_test,Y_pred)\n",
    "plot_confusion_metrix(conf_matrix,classes=['Non-Default   :  0','Default  :1'])\n",
    "plt.show()\n",
    "\n",
    "print(\"Classification report: \")\n",
    "\n",
    "print(classification_report(Y_test,Y_pred))\n",
    "\n",
    "acc=accuracy_score(Y_test, Y_pred)\n",
    "print(\"Accuracy of the model: \",acc)\n",
    "\"\"\""
   ]
  },
  {
   "cell_type": "markdown",
   "metadata": {},
   "source": [
    "## Adjusting Threshold"
   ]
  },
  {
   "cell_type": "code",
   "execution_count": 67,
   "metadata": {},
   "outputs": [
    {
     "data": {
      "text/plain": [
       "'\\ny_pred_prob = classifier.predict_proba(X_test)\\n'"
      ]
     },
     "execution_count": 67,
     "metadata": {},
     "output_type": "execute_result"
    }
   ],
   "source": [
    "# store the predicted  probabilities\n",
    "\"\"\"\n",
    "y_pred_prob = classifier.predict_proba(X_test)\n",
    "\"\"\"\n",
    "#print(y_pred_prob)"
   ]
  },
  {
   "cell_type": "code",
   "execution_count": 68,
   "metadata": {},
   "outputs": [
    {
     "data": {
      "text/plain": [
       "'\\nfor a in np.arange(0.4,0.61,0.01):\\n    predict_mine = np.where(y_pred_prob[:,1] > a, 1, 0)\\n    cfm=confusion_matrix(Y_test, predict_mine)\\n    total_err=cfm[0,1]+cfm[1,0]\\n    # cfm[0,1] = type I error  and cfm[1,0] is type II error\\n    print(\"Errors at threshold \", a, \":\",total_err, \" , type 2 error :\", \\n          cfm[1,0],\" , type 1 error:\", cfm[0,1])\\n          '"
      ]
     },
     "execution_count": 68,
     "metadata": {},
     "output_type": "execute_result"
    }
   ],
   "source": [
    "\"\"\"\n",
    "for a in np.arange(0.4,0.61,0.01):\n",
    "    predict_mine = np.where(y_pred_prob[:,1] > a, 1, 0)\n",
    "    cfm=confusion_matrix(Y_test, predict_mine)\n",
    "    total_err=cfm[0,1]+cfm[1,0]\n",
    "    # cfm[0,1] = type I error  and cfm[1,0] is type II error\n",
    "    print(\"Errors at threshold \", a, \":\",total_err, \" , type 2 error :\", \n",
    "          cfm[1,0],\" , type 1 error:\", cfm[0,1])\n",
    "          \"\"\""
   ]
  },
  {
   "cell_type": "code",
   "execution_count": 69,
   "metadata": {},
   "outputs": [
    {
     "data": {
      "text/plain": [
       "'\\ny_pred_class=[]\\nfor value in y_pred_prob[:,1]:\\n    if value > 0.60:\\n        y_pred_class.append(1)\\n    else:\\n        y_pred_class.append(0)\\n#print(y_pred_class)\\n'"
      ]
     },
     "execution_count": 69,
     "metadata": {},
     "output_type": "execute_result"
    }
   ],
   "source": [
    "# we select the 0.56 as a threshold because total error is also less and type II error is also less \n",
    "\"\"\"\n",
    "y_pred_class=[]\n",
    "for value in y_pred_prob[:,1]:\n",
    "    if value > 0.60:\n",
    "        y_pred_class.append(1)\n",
    "    else:\n",
    "        y_pred_class.append(0)\n",
    "#print(y_pred_class)\n",
    "\"\"\""
   ]
  },
  {
   "cell_type": "code",
   "execution_count": 70,
   "metadata": {},
   "outputs": [
    {
     "data": {
      "text/plain": [
       "'\\nfrom sklearn.metrics import confusion_matrix, accuracy_score, classification_report\\n\\nconf_matrix = confusion_matrix(Y_test,y_pred_class)\\nplot_confusion_metrix(conf_matrix,classes=[\\'Non-Default   :  0\\',\\'Default  :1\\'])\\nplt.show()\\n\\nprint(\"Classification report :\")\\n\\nprint(classification_report(Y_test,y_pred_class))\\n\\nacc=accuracy_score(Y_test,y_pred_class)\\nprint(\"Accuracy of the model :\",acc)\\n'"
      ]
     },
     "execution_count": 70,
     "metadata": {},
     "output_type": "execute_result"
    }
   ],
   "source": [
    "\"\"\"\n",
    "from sklearn.metrics import confusion_matrix, accuracy_score, classification_report\n",
    "\n",
    "conf_matrix = confusion_matrix(Y_test,y_pred_class)\n",
    "plot_confusion_metrix(conf_matrix,classes=['Non-Default   :  0','Default  :1'])\n",
    "plt.show()\n",
    "\n",
    "print(\"Classification report :\")\n",
    "\n",
    "print(classification_report(Y_test,y_pred_class))\n",
    "\n",
    "acc=accuracy_score(Y_test,y_pred_class)\n",
    "print(\"Accuracy of the model :\",acc)\n",
    "\"\"\""
   ]
  },
  {
   "cell_type": "markdown",
   "metadata": {},
   "source": [
    "## DecisionTreeClassifier"
   ]
  },
  {
   "cell_type": "code",
   "execution_count": 71,
   "metadata": {},
   "outputs": [
    {
     "data": {
      "text/plain": [
       "'\\nfrom sklearn.tree import DecisionTreeClassifier\\n\\nmodel_DecisionTree=DecisionTreeClassifier(random_state=10)\\n\\n#fit the model on the data and predict the values\\nmodel_DecisionTree.fit(X_train,Y_train)\\n\\n\\nY_pred = model_DecisionTree.predict(X_test)\\nprint(Y_pred)\\n'"
      ]
     },
     "execution_count": 71,
     "metadata": {},
     "output_type": "execute_result"
    }
   ],
   "source": [
    "\"\"\"\n",
    "from sklearn.tree import DecisionTreeClassifier\n",
    "\n",
    "model_DecisionTree=DecisionTreeClassifier(random_state=10)\n",
    "\n",
    "#fit the model on the data and predict the values\n",
    "model_DecisionTree.fit(X_train,Y_train)\n",
    "\n",
    "\n",
    "Y_pred = model_DecisionTree.predict(X_test)\n",
    "print(Y_pred)\n",
    "\"\"\""
   ]
  },
  {
   "cell_type": "code",
   "execution_count": 72,
   "metadata": {},
   "outputs": [
    {
     "data": {
      "text/plain": [
       "'\\nfrom sklearn.metrics import confusion_matrix, accuracy_score, classification_report\\n\\nconf_matrix = confusion_matrix(Y_test,Y_pred)\\nplot_confusion_metrix(conf_matrix,classes=[\\'Non-Default   :  0\\',\\'Default  :1\\'])\\nplt.show()\\n\\nprint(\"Classification report: \")\\n\\nprint(classification_report(Y_test,Y_pred))\\n\\nacc=accuracy_score(Y_test, Y_pred)\\nprint(\"Accuracy of the model: \",acc)\\n'"
      ]
     },
     "execution_count": 72,
     "metadata": {},
     "output_type": "execute_result"
    }
   ],
   "source": [
    "\"\"\"\n",
    "from sklearn.metrics import confusion_matrix, accuracy_score, classification_report\n",
    "\n",
    "conf_matrix = confusion_matrix(Y_test,Y_pred)\n",
    "plot_confusion_metrix(conf_matrix,classes=['Non-Default   :  0','Default  :1'])\n",
    "plt.show()\n",
    "\n",
    "print(\"Classification report: \")\n",
    "\n",
    "print(classification_report(Y_test,Y_pred))\n",
    "\n",
    "acc=accuracy_score(Y_test, Y_pred)\n",
    "print(\"Accuracy of the model: \",acc)\n",
    "\"\"\""
   ]
  },
  {
   "cell_type": "markdown",
   "metadata": {},
   "source": [
    "# Grid Search CV on Decision Tree"
   ]
  },
  {
   "cell_type": "code",
   "execution_count": 73,
   "metadata": {},
   "outputs": [
    {
     "data": {
      "text/plain": [
       "\"\\nfrom sklearn.tree import DecisionTreeClassifier\\nfrom sklearn.model_selection import GridSearchCV\\nparams = {'criterion':['gini','entropy'],\\n          'max_leaf_nodes': list(range(2, 100)),\\n          'min_samples_split': [2, 3, 4]}\\ngrid_search_cv_dt = GridSearchCV(DecisionTreeClassifier(random_state=10), params, verbose=1, cv=3)\\n\""
      ]
     },
     "execution_count": 73,
     "metadata": {},
     "output_type": "execute_result"
    }
   ],
   "source": [
    "\"\"\"\n",
    "from sklearn.tree import DecisionTreeClassifier\n",
    "from sklearn.model_selection import GridSearchCV\n",
    "params = {'criterion':['gini','entropy'],\n",
    "          'max_leaf_nodes': list(range(2, 100)),\n",
    "          'min_samples_split': [2, 3, 4]}\n",
    "grid_search_cv_dt = GridSearchCV(DecisionTreeClassifier(random_state=10), params, verbose=1, cv=3)\n",
    "\"\"\""
   ]
  },
  {
   "cell_type": "code",
   "execution_count": 74,
   "metadata": {},
   "outputs": [],
   "source": [
    "#grid_search_cv_dt.fit(X_train, Y_train)"
   ]
  },
  {
   "cell_type": "code",
   "execution_count": 75,
   "metadata": {},
   "outputs": [],
   "source": [
    "#grid_search_cv_dt.best_estimator_"
   ]
  },
  {
   "cell_type": "markdown",
   "metadata": {},
   "source": [
    "### Tunned Decision Tree"
   ]
  },
  {
   "cell_type": "code",
   "execution_count": 76,
   "metadata": {},
   "outputs": [
    {
     "data": {
      "text/plain": [
       "\"\\nfrom sklearn.tree import DecisionTreeClassifier\\n\\nmodel_DecisionTree_Tuned=DecisionTreeClassifier(ccp_alpha=0.0, class_weight=None, criterion='entropy',\\n                       max_depth=None, max_features=None, max_leaf_nodes=40,\\n                       min_impurity_decrease=0.0, min_impurity_split=None,\\n                       min_samples_leaf=1, min_samples_split=2,\\n                       min_weight_fraction_leaf=0.0, presort='deprecated',\\n                       random_state=10, splitter='best')\\n\\n#fit the model on the data and predict the values\\nmodel_DecisionTree_Tuned.fit(X_train,Y_train)\\n\\n\\nY_pred = model_DecisionTree_Tuned.predict(X_test)\\nprint(Y_pred)\\n\""
      ]
     },
     "execution_count": 76,
     "metadata": {},
     "output_type": "execute_result"
    }
   ],
   "source": [
    "\"\"\"\n",
    "from sklearn.tree import DecisionTreeClassifier\n",
    "\n",
    "model_DecisionTree_Tuned=DecisionTreeClassifier(ccp_alpha=0.0, class_weight=None, criterion='entropy',\n",
    "                       max_depth=None, max_features=None, max_leaf_nodes=40,\n",
    "                       min_impurity_decrease=0.0, min_impurity_split=None,\n",
    "                       min_samples_leaf=1, min_samples_split=2,\n",
    "                       min_weight_fraction_leaf=0.0, presort='deprecated',\n",
    "                       random_state=10, splitter='best')\n",
    "\n",
    "#fit the model on the data and predict the values\n",
    "model_DecisionTree_Tuned.fit(X_train,Y_train)\n",
    "\n",
    "\n",
    "Y_pred = model_DecisionTree_Tuned.predict(X_test)\n",
    "print(Y_pred)\n",
    "\"\"\""
   ]
  },
  {
   "cell_type": "code",
   "execution_count": 77,
   "metadata": {},
   "outputs": [
    {
     "data": {
      "text/plain": [
       "'\\nfrom sklearn.metrics import confusion_matrix, accuracy_score, classification_report\\n\\nconf_matrix = confusion_matrix(Y_test,Y_pred)\\nplot_confusion_metrix(conf_matrix,classes=[\\'Non-Default   :  0\\',\\'Default  :1\\'])\\nplt.show()\\n\\nprint(\"Classification report: \")\\n\\nprint(classification_report(Y_test,Y_pred))\\n\\nacc=accuracy_score(Y_test, Y_pred)\\nprint(\"Accuracy of the model: \",acc)\\n'"
      ]
     },
     "execution_count": 77,
     "metadata": {},
     "output_type": "execute_result"
    }
   ],
   "source": [
    "\"\"\"\n",
    "from sklearn.metrics import confusion_matrix, accuracy_score, classification_report\n",
    "\n",
    "conf_matrix = confusion_matrix(Y_test,Y_pred)\n",
    "plot_confusion_metrix(conf_matrix,classes=['Non-Default   :  0','Default  :1'])\n",
    "plt.show()\n",
    "\n",
    "print(\"Classification report: \")\n",
    "\n",
    "print(classification_report(Y_test,Y_pred))\n",
    "\n",
    "acc=accuracy_score(Y_test, Y_pred)\n",
    "print(\"Accuracy of the model: \",acc)\n",
    "\"\"\""
   ]
  },
  {
   "cell_type": "markdown",
   "metadata": {},
   "source": [
    "## RandomForestClassifier"
   ]
  },
  {
   "cell_type": "code",
   "execution_count": 78,
   "metadata": {},
   "outputs": [
    {
     "data": {
      "text/plain": [
       "'\\nfrom sklearn.ensemble import RandomForestClassifier\\n\\nmodel_Random = RandomForestClassifier(random_state= 10)\\n\\nmodel_Random = model_Random.fit(X_train , Y_train)\\n\\nY_pred = model_Random.predict(X_test)\\n'"
      ]
     },
     "execution_count": 78,
     "metadata": {},
     "output_type": "execute_result"
    }
   ],
   "source": [
    "\"\"\"\n",
    "from sklearn.ensemble import RandomForestClassifier\n",
    "\n",
    "model_Random = RandomForestClassifier(random_state= 10)\n",
    "\n",
    "model_Random = model_Random.fit(X_train , Y_train)\n",
    "\n",
    "Y_pred = model_Random.predict(X_test)\n",
    "\"\"\""
   ]
  },
  {
   "cell_type": "code",
   "execution_count": 79,
   "metadata": {},
   "outputs": [
    {
     "data": {
      "text/plain": [
       "'\\nfrom sklearn.metrics import confusion_matrix , accuracy_score , classification_report\\n\\nconf_matrix = confusion_matrix(Y_test,Y_pred)\\nplot_confusion_metrix(conf_matrix,classes=[\\'Non-Default   :  0\\',\\'Default  :1\\'])\\nplt.show()\\n\\nprint(\"Classification report :\")\\n\\nprint(classification_report(Y_test , Y_pred))\\n\\nacc = accuracy_score(Y_test , Y_pred)\\nprint(\"Accuracy of the model:\" , acc)\\n'"
      ]
     },
     "execution_count": 79,
     "metadata": {},
     "output_type": "execute_result"
    }
   ],
   "source": [
    "\"\"\"\n",
    "from sklearn.metrics import confusion_matrix , accuracy_score , classification_report\n",
    "\n",
    "conf_matrix = confusion_matrix(Y_test,Y_pred)\n",
    "plot_confusion_metrix(conf_matrix,classes=['Non-Default   :  0','Default  :1'])\n",
    "plt.show()\n",
    "\n",
    "print(\"Classification report :\")\n",
    "\n",
    "print(classification_report(Y_test , Y_pred))\n",
    "\n",
    "acc = accuracy_score(Y_test , Y_pred)\n",
    "print(\"Accuracy of the model:\" , acc)\n",
    "\"\"\""
   ]
  },
  {
   "cell_type": "markdown",
   "metadata": {},
   "source": [
    "## Grid Search CV on Random Forest"
   ]
  },
  {
   "cell_type": "code",
   "execution_count": 80,
   "metadata": {},
   "outputs": [
    {
     "data": {
      "text/plain": [
       "\"\\nfrom sklearn.ensemble import RandomForestClassifier\\n\\nrfc=RandomForestClassifier(random_state=10)\\n\\nparam_grid_rf = { \\n    'n_estimators': [100,200, 500],\\n    'max_features': ['auto', 'sqrt', 'log2'],\\n    'max_depth' : [4,5,6,7,8],\\n    'criterion' :['gini', 'entropy']\\n}\\n\\nCV_rfc = GridSearchCV(estimator=rfc, param_grid=param_grid_rf, cv= 3)\\n\""
      ]
     },
     "execution_count": 80,
     "metadata": {},
     "output_type": "execute_result"
    }
   ],
   "source": [
    "\"\"\"\n",
    "from sklearn.ensemble import RandomForestClassifier\n",
    "\n",
    "rfc=RandomForestClassifier(random_state=10)\n",
    "\n",
    "param_grid_rf = { \n",
    "    'n_estimators': [100,200, 500],\n",
    "    'max_features': ['auto', 'sqrt', 'log2'],\n",
    "    'max_depth' : [4,5,6,7,8],\n",
    "    'criterion' :['gini', 'entropy']\n",
    "}\n",
    "\n",
    "CV_rfc = GridSearchCV(estimator=rfc, param_grid=param_grid_rf, cv= 3)\n",
    "\"\"\""
   ]
  },
  {
   "cell_type": "code",
   "execution_count": 81,
   "metadata": {},
   "outputs": [],
   "source": [
    "#CV_rfc.fit(X_train, Y_train)"
   ]
  },
  {
   "cell_type": "markdown",
   "metadata": {},
   "source": [
    "## GradientBoostingClassifier"
   ]
  },
  {
   "cell_type": "code",
   "execution_count": 82,
   "metadata": {},
   "outputs": [
    {
     "data": {
      "text/plain": [
       "'\\nfrom sklearn.ensemble import GradientBoostingClassifier\\n\\nmodel_GradientBoosting=GradientBoostingClassifier(n_estimators=130,)\\n\\n#fit the model on the data and predict the values\\nmodel_GradientBoosting.fit(X_train,Y_train)\\n\\nY_pred=model_GradientBoosting.predict(X_test) \\n'"
      ]
     },
     "execution_count": 82,
     "metadata": {},
     "output_type": "execute_result"
    }
   ],
   "source": [
    "\"\"\"\n",
    "from sklearn.ensemble import GradientBoostingClassifier\n",
    "\n",
    "model_GradientBoosting=GradientBoostingClassifier(n_estimators=130,)\n",
    "\n",
    "#fit the model on the data and predict the values\n",
    "model_GradientBoosting.fit(X_train,Y_train)\n",
    "\n",
    "Y_pred=model_GradientBoosting.predict(X_test) \n",
    "\"\"\""
   ]
  },
  {
   "cell_type": "code",
   "execution_count": 83,
   "metadata": {},
   "outputs": [
    {
     "data": {
      "text/plain": [
       "'\\nfrom sklearn.metrics import confusion_matrix , accuracy_score , classification_report\\n\\nconf_matrix = confusion_matrix(Y_test,Y_pred)\\nplot_confusion_metrix(conf_matrix,classes=[\\'Non-Default   :  0\\',\\'Default  :1\\'])\\nplt.show()\\n\\nprint(\"Classification report :\")\\n\\nprint(classification_report(Y_test , Y_pred))\\n\\nacc = accuracy_score(Y_test , Y_pred)\\nprint(\"Accuracy of the model:\" , acc)\\n'"
      ]
     },
     "execution_count": 83,
     "metadata": {},
     "output_type": "execute_result"
    }
   ],
   "source": [
    "\"\"\"\n",
    "from sklearn.metrics import confusion_matrix , accuracy_score , classification_report\n",
    "\n",
    "conf_matrix = confusion_matrix(Y_test,Y_pred)\n",
    "plot_confusion_metrix(conf_matrix,classes=['Non-Default   :  0','Default  :1'])\n",
    "plt.show()\n",
    "\n",
    "print(\"Classification report :\")\n",
    "\n",
    "print(classification_report(Y_test , Y_pred))\n",
    "\n",
    "acc = accuracy_score(Y_test , Y_pred)\n",
    "print(\"Accuracy of the model:\" , acc)\n",
    "\"\"\""
   ]
  },
  {
   "cell_type": "code",
   "execution_count": 84,
   "metadata": {},
   "outputs": [
    {
     "data": {
      "text/plain": [
       "'\\nfrom sklearn.ensemble import GradientBoostingClassifier\\nfrom sklearn.model_selection import GridSearchCV\\n\\ngbc = GradientBoostingClassifier()\\n\\nparameters = {\\n    \"n_estimators\":[5,50,250,500],\\n    \"max_depth\":[1,3,5,7,9],\\n    \"learning_rate\":[0.01,0.1,1,10,100]\\n}\\ngbc_cv = GridSearchCV(gbc,parameters,cv=3)\\n'"
      ]
     },
     "execution_count": 84,
     "metadata": {},
     "output_type": "execute_result"
    }
   ],
   "source": [
    "\"\"\"\n",
    "from sklearn.ensemble import GradientBoostingClassifier\n",
    "from sklearn.model_selection import GridSearchCV\n",
    "\n",
    "gbc = GradientBoostingClassifier()\n",
    "\n",
    "parameters = {\n",
    "    \"n_estimators\":[5,50,250,500],\n",
    "    \"max_depth\":[1,3,5,7,9],\n",
    "    \"learning_rate\":[0.01,0.1,1,10,100]\n",
    "}\n",
    "gbc_cv = GridSearchCV(gbc,parameters,cv=3)\n",
    "\"\"\""
   ]
  },
  {
   "cell_type": "code",
   "execution_count": 85,
   "metadata": {},
   "outputs": [],
   "source": [
    "# gbc_cv.fit(X_train,Y_train)"
   ]
  },
  {
   "cell_type": "markdown",
   "metadata": {},
   "source": [
    "# Neural Network"
   ]
  },
  {
   "cell_type": "code",
   "execution_count": 86,
   "metadata": {},
   "outputs": [
    {
     "data": {
      "text/plain": [
       "'\\nfrom sklearn.neural_network import MLPClassifier\\n\\nmlp = MLPClassifier(hidden_layer_sizes=(100),max_iter=100, early_stopping=True,n_iter_no_change=5,\\n                    random_state=10, activation=\"relu\", solver=\"adam\",learning_rate=\"constant\",\\n                    learning_rate_init=0.01,verbose=True)\\nmlp.fit(X_train,Y_train)\\nY_pred = mlp.predict(X_test)\\n'"
      ]
     },
     "execution_count": 86,
     "metadata": {},
     "output_type": "execute_result"
    }
   ],
   "source": [
    "\"\"\"\n",
    "from sklearn.neural_network import MLPClassifier\n",
    "\n",
    "mlp = MLPClassifier(hidden_layer_sizes=(100),max_iter=100, early_stopping=True,n_iter_no_change=5,\n",
    "                    random_state=10, activation=\"relu\", solver=\"adam\",learning_rate=\"constant\",\n",
    "                    learning_rate_init=0.01,verbose=True)\n",
    "mlp.fit(X_train,Y_train)\n",
    "Y_pred = mlp.predict(X_test)\n",
    "\"\"\"\n"
   ]
  },
  {
   "cell_type": "code",
   "execution_count": 87,
   "metadata": {},
   "outputs": [
    {
     "data": {
      "text/plain": [
       "'\\nfrom sklearn.metrics import confusion_matrix , accuracy_score , classification_report\\n\\nconf_matrix = confusion_matrix(Y_test,Y_pred)\\nplot_confusion_metrix(conf_matrix,classes=[\\'Non-Default   :  0\\',\\'Default  :1\\'])\\nplt.show()\\n\\nprint(\"Classification report :\")\\n\\nprint(classification_report(Y_test , Y_pred))\\n\\nacc = accuracy_score(Y_test , Y_pred)\\nprint(\"Accuracy of the model:\" , acc)\\n'"
      ]
     },
     "execution_count": 87,
     "metadata": {},
     "output_type": "execute_result"
    }
   ],
   "source": [
    "\"\"\"\n",
    "from sklearn.metrics import confusion_matrix , accuracy_score , classification_report\n",
    "\n",
    "conf_matrix = confusion_matrix(Y_test,Y_pred)\n",
    "plot_confusion_metrix(conf_matrix,classes=['Non-Default   :  0','Default  :1'])\n",
    "plt.show()\n",
    "\n",
    "print(\"Classification report :\")\n",
    "\n",
    "print(classification_report(Y_test , Y_pred))\n",
    "\n",
    "acc = accuracy_score(Y_test , Y_pred)\n",
    "print(\"Accuracy of the model:\" , acc)\n",
    "\"\"\""
   ]
  },
  {
   "cell_type": "markdown",
   "metadata": {},
   "source": [
    "# Grid Search CV on Neural Network"
   ]
  },
  {
   "cell_type": "code",
   "execution_count": 88,
   "metadata": {},
   "outputs": [
    {
     "data": {
      "text/plain": [
       "\"\\nfrom sklearn.neural_network import MLPClassifier\\n\\nmlp_gs = MLPClassifier(max_iter=100,early_stopping=True,n_iter_no_change=5,\\n                    random_state=10,learning_rate_init=0.01,learning_rate='constant',\\n                    verbose=True )\\nparameter_space = {\\n    'hidden_layer_sizes': [(12,12,12),(10,10),(100)],\\n    'activation': ['tanh', 'relu'],\\n    'solver': ['sgd', 'adam'], # sgd = stochastic gradient descent\\n    'alpha': [0.0001, 0.01]\\n}\\nfrom sklearn.model_selection import GridSearchCV\\nclf = GridSearchCV(mlp_gs, parameter_space, n_jobs=-1, cv=5)\\n\""
      ]
     },
     "execution_count": 88,
     "metadata": {},
     "output_type": "execute_result"
    }
   ],
   "source": [
    "\"\"\"\n",
    "from sklearn.neural_network import MLPClassifier\n",
    "\n",
    "mlp_gs = MLPClassifier(max_iter=100,early_stopping=True,n_iter_no_change=5,\n",
    "                    random_state=10,learning_rate_init=0.01,learning_rate='constant',\n",
    "                    verbose=True )\n",
    "parameter_space = {\n",
    "    'hidden_layer_sizes': [(12,12,12),(10,10),(100)],\n",
    "    'activation': ['tanh', 'relu'],\n",
    "    'solver': ['sgd', 'adam'], # sgd = stochastic gradient descent\n",
    "    'alpha': [0.0001, 0.01]\n",
    "}\n",
    "from sklearn.model_selection import GridSearchCV\n",
    "clf = GridSearchCV(mlp_gs, parameter_space, n_jobs=-1, cv=5)\n",
    "\"\"\""
   ]
  },
  {
   "cell_type": "code",
   "execution_count": 89,
   "metadata": {},
   "outputs": [],
   "source": [
    "#clf.fit(X_train,Y_train)"
   ]
  },
  {
   "cell_type": "code",
   "execution_count": 90,
   "metadata": {},
   "outputs": [],
   "source": [
    "#print('Best parameters found:\\n', clf.best_params_)"
   ]
  },
  {
   "cell_type": "code",
   "execution_count": 91,
   "metadata": {},
   "outputs": [],
   "source": [
    "#clf.best_estimator_"
   ]
  },
  {
   "cell_type": "markdown",
   "metadata": {},
   "source": [
    "### Tuned Neural Network"
   ]
  },
  {
   "cell_type": "code",
   "execution_count": 92,
   "metadata": {},
   "outputs": [
    {
     "data": {
      "text/plain": [
       "\"\\nfrom sklearn.neural_network import MLPClassifier\\n\\nmlp_tuned = MLPClassifier(activation='tanh', alpha=0.01, batch_size='auto', beta_1=0.9,\\n              beta_2=0.999, early_stopping=True, epsilon=1e-08,\\n              hidden_layer_sizes=(12, 12, 12), learning_rate='constant',\\n              learning_rate_init=0.01, max_fun=15000, max_iter=100,\\n              momentum=0.9, n_iter_no_change=5, nesterovs_momentum=True,\\n              power_t=0.5, random_state=10, shuffle=True, solver='adam',\\n              tol=0.0001, validation_fraction=0.1, verbose=True,\\n              warm_start=False)\\nmlp_tuned.fit(X_train,Y_train)\\nY_pred = mlp_tuned.predict(X_test)\\n\""
      ]
     },
     "execution_count": 92,
     "metadata": {},
     "output_type": "execute_result"
    }
   ],
   "source": [
    "\"\"\"\n",
    "from sklearn.neural_network import MLPClassifier\n",
    "\n",
    "mlp_tuned = MLPClassifier(activation='tanh', alpha=0.01, batch_size='auto', beta_1=0.9,\n",
    "              beta_2=0.999, early_stopping=True, epsilon=1e-08,\n",
    "              hidden_layer_sizes=(12, 12, 12), learning_rate='constant',\n",
    "              learning_rate_init=0.01, max_fun=15000, max_iter=100,\n",
    "              momentum=0.9, n_iter_no_change=5, nesterovs_momentum=True,\n",
    "              power_t=0.5, random_state=10, shuffle=True, solver='adam',\n",
    "              tol=0.0001, validation_fraction=0.1, verbose=True,\n",
    "              warm_start=False)\n",
    "mlp_tuned.fit(X_train,Y_train)\n",
    "Y_pred = mlp_tuned.predict(X_test)\n",
    "\"\"\""
   ]
  },
  {
   "cell_type": "code",
   "execution_count": 93,
   "metadata": {},
   "outputs": [
    {
     "data": {
      "text/plain": [
       "'\\nfrom sklearn.metrics import confusion_matrix , accuracy_score , classification_report\\n\\nconf_matrix = confusion_matrix(Y_test,Y_pred)\\nplot_confusion_metrix(conf_matrix,classes=[\\'Non-Default   :  0\\',\\'Default  :1\\'])\\nplt.show()\\n\\nprint(\"Classification report :\")\\n\\nprint(classification_report(Y_test , Y_pred))\\n\\nacc = accuracy_score(Y_test , Y_pred)\\nprint(\"Accuracy of the model:\" , acc)\\n'"
      ]
     },
     "execution_count": 93,
     "metadata": {},
     "output_type": "execute_result"
    }
   ],
   "source": [
    "\"\"\"\n",
    "from sklearn.metrics import confusion_matrix , accuracy_score , classification_report\n",
    "\n",
    "conf_matrix = confusion_matrix(Y_test,Y_pred)\n",
    "plot_confusion_metrix(conf_matrix,classes=['Non-Default   :  0','Default  :1'])\n",
    "plt.show()\n",
    "\n",
    "print(\"Classification report :\")\n",
    "\n",
    "print(classification_report(Y_test , Y_pred))\n",
    "\n",
    "acc = accuracy_score(Y_test , Y_pred)\n",
    "print(\"Accuracy of the model:\" , acc)\n",
    "\"\"\""
   ]
  },
  {
   "cell_type": "markdown",
   "metadata": {},
   "source": [
    "#  Final Model"
   ]
  },
  {
   "cell_type": "markdown",
   "metadata": {},
   "source": [
    "##  Decision Tree"
   ]
  },
  {
   "cell_type": "code",
   "execution_count": 94,
   "metadata": {},
   "outputs": [],
   "source": [
    "data1 = data1.drop('issue_d', axis=1)"
   ]
  },
  {
   "cell_type": "code",
   "execution_count": 95,
   "metadata": {},
   "outputs": [],
   "source": [
    "x = data1.iloc[:,:-1]\n",
    "y = data1.iloc[:,-1]"
   ]
  },
  {
   "cell_type": "code",
   "execution_count": 96,
   "metadata": {},
   "outputs": [
    {
     "data": {
      "text/html": [
       "<div>\n",
       "<style scoped>\n",
       "    .dataframe tbody tr th:only-of-type {\n",
       "        vertical-align: middle;\n",
       "    }\n",
       "\n",
       "    .dataframe tbody tr th {\n",
       "        vertical-align: top;\n",
       "    }\n",
       "\n",
       "    .dataframe thead th {\n",
       "        text-align: right;\n",
       "    }\n",
       "</style>\n",
       "<table border=\"1\" class=\"dataframe\">\n",
       "  <thead>\n",
       "    <tr style=\"text-align: right;\">\n",
       "      <th></th>\n",
       "      <th>loan_amnt</th>\n",
       "      <th>amt_difference</th>\n",
       "      <th>term</th>\n",
       "      <th>int_rate</th>\n",
       "      <th>installment</th>\n",
       "      <th>grade</th>\n",
       "      <th>emp_length</th>\n",
       "      <th>home_ownership</th>\n",
       "      <th>annual_inc</th>\n",
       "      <th>verification_status</th>\n",
       "      <th>pymnt_plan</th>\n",
       "      <th>purpose</th>\n",
       "      <th>dti</th>\n",
       "      <th>delinq_2yrs</th>\n",
       "      <th>mths_since_last_delinq</th>\n",
       "      <th>revol_bal</th>\n",
       "      <th>revol_util</th>\n",
       "      <th>acc_ratio</th>\n",
       "      <th>out_prncp</th>\n",
       "      <th>out_prncp_inv</th>\n",
       "      <th>total_pymnt</th>\n",
       "      <th>total_pymnt_inv</th>\n",
       "      <th>total_rec_prncp</th>\n",
       "      <th>total_rec_int</th>\n",
       "      <th>total_rec_late_fee</th>\n",
       "      <th>last_pymnt_d</th>\n",
       "      <th>last_pymnt_amnt</th>\n",
       "      <th>last_credit_pull_d</th>\n",
       "      <th>application_type</th>\n",
       "      <th>tot_cur_bal</th>\n",
       "      <th>total_rev_hi_lim</th>\n",
       "    </tr>\n",
       "  </thead>\n",
       "  <tbody>\n",
       "    <tr>\n",
       "      <th>0</th>\n",
       "      <td>5000.0</td>\n",
       "      <td>1</td>\n",
       "      <td>0</td>\n",
       "      <td>10.65</td>\n",
       "      <td>162.87</td>\n",
       "      <td>1</td>\n",
       "      <td>2</td>\n",
       "      <td>5</td>\n",
       "      <td>24000.0</td>\n",
       "      <td>2</td>\n",
       "      <td>0</td>\n",
       "      <td>1</td>\n",
       "      <td>27.65</td>\n",
       "      <td>0.0</td>\n",
       "      <td>31.0</td>\n",
       "      <td>13648.0</td>\n",
       "      <td>83.7</td>\n",
       "      <td>0.333333</td>\n",
       "      <td>0.0</td>\n",
       "      <td>0.0</td>\n",
       "      <td>5861.071414</td>\n",
       "      <td>5831.78</td>\n",
       "      <td>5000.00</td>\n",
       "      <td>861.07</td>\n",
       "      <td>0.00</td>\n",
       "      <td>39</td>\n",
       "      <td>171.62</td>\n",
       "      <td>41</td>\n",
       "      <td>0</td>\n",
       "      <td>139766.729863</td>\n",
       "      <td>32163.662512</td>\n",
       "    </tr>\n",
       "    <tr>\n",
       "      <th>1</th>\n",
       "      <td>2500.0</td>\n",
       "      <td>0</td>\n",
       "      <td>1</td>\n",
       "      <td>15.27</td>\n",
       "      <td>59.83</td>\n",
       "      <td>2</td>\n",
       "      <td>0</td>\n",
       "      <td>5</td>\n",
       "      <td>30000.0</td>\n",
       "      <td>1</td>\n",
       "      <td>0</td>\n",
       "      <td>0</td>\n",
       "      <td>1.00</td>\n",
       "      <td>0.0</td>\n",
       "      <td>31.0</td>\n",
       "      <td>1687.0</td>\n",
       "      <td>9.4</td>\n",
       "      <td>0.750000</td>\n",
       "      <td>0.0</td>\n",
       "      <td>0.0</td>\n",
       "      <td>1008.710000</td>\n",
       "      <td>1008.71</td>\n",
       "      <td>456.46</td>\n",
       "      <td>435.17</td>\n",
       "      <td>0.00</td>\n",
       "      <td>5</td>\n",
       "      <td>119.66</td>\n",
       "      <td>99</td>\n",
       "      <td>0</td>\n",
       "      <td>139766.729863</td>\n",
       "      <td>32163.662512</td>\n",
       "    </tr>\n",
       "    <tr>\n",
       "      <th>2</th>\n",
       "      <td>2400.0</td>\n",
       "      <td>0</td>\n",
       "      <td>0</td>\n",
       "      <td>15.96</td>\n",
       "      <td>84.33</td>\n",
       "      <td>2</td>\n",
       "      <td>2</td>\n",
       "      <td>5</td>\n",
       "      <td>12252.0</td>\n",
       "      <td>0</td>\n",
       "      <td>0</td>\n",
       "      <td>11</td>\n",
       "      <td>8.72</td>\n",
       "      <td>0.0</td>\n",
       "      <td>31.0</td>\n",
       "      <td>2956.0</td>\n",
       "      <td>98.5</td>\n",
       "      <td>0.200000</td>\n",
       "      <td>0.0</td>\n",
       "      <td>0.0</td>\n",
       "      <td>3003.653644</td>\n",
       "      <td>3003.65</td>\n",
       "      <td>2400.00</td>\n",
       "      <td>603.65</td>\n",
       "      <td>0.00</td>\n",
       "      <td>55</td>\n",
       "      <td>649.91</td>\n",
       "      <td>41</td>\n",
       "      <td>0</td>\n",
       "      <td>139766.729863</td>\n",
       "      <td>32163.662512</td>\n",
       "    </tr>\n",
       "    <tr>\n",
       "      <th>3</th>\n",
       "      <td>10000.0</td>\n",
       "      <td>0</td>\n",
       "      <td>0</td>\n",
       "      <td>13.49</td>\n",
       "      <td>339.31</td>\n",
       "      <td>2</td>\n",
       "      <td>2</td>\n",
       "      <td>5</td>\n",
       "      <td>49200.0</td>\n",
       "      <td>1</td>\n",
       "      <td>0</td>\n",
       "      <td>9</td>\n",
       "      <td>20.00</td>\n",
       "      <td>0.0</td>\n",
       "      <td>35.0</td>\n",
       "      <td>5598.0</td>\n",
       "      <td>21.0</td>\n",
       "      <td>0.270270</td>\n",
       "      <td>0.0</td>\n",
       "      <td>0.0</td>\n",
       "      <td>12226.302212</td>\n",
       "      <td>12226.30</td>\n",
       "      <td>10000.00</td>\n",
       "      <td>2209.33</td>\n",
       "      <td>16.97</td>\n",
       "      <td>39</td>\n",
       "      <td>357.48</td>\n",
       "      <td>40</td>\n",
       "      <td>0</td>\n",
       "      <td>139766.729863</td>\n",
       "      <td>32163.662512</td>\n",
       "    </tr>\n",
       "    <tr>\n",
       "      <th>4</th>\n",
       "      <td>3000.0</td>\n",
       "      <td>0</td>\n",
       "      <td>1</td>\n",
       "      <td>12.69</td>\n",
       "      <td>67.79</td>\n",
       "      <td>1</td>\n",
       "      <td>1</td>\n",
       "      <td>5</td>\n",
       "      <td>80000.0</td>\n",
       "      <td>1</td>\n",
       "      <td>0</td>\n",
       "      <td>9</td>\n",
       "      <td>17.94</td>\n",
       "      <td>0.0</td>\n",
       "      <td>38.0</td>\n",
       "      <td>27783.0</td>\n",
       "      <td>53.9</td>\n",
       "      <td>0.394737</td>\n",
       "      <td>766.9</td>\n",
       "      <td>766.9</td>\n",
       "      <td>3242.170000</td>\n",
       "      <td>3242.17</td>\n",
       "      <td>2233.10</td>\n",
       "      <td>1009.07</td>\n",
       "      <td>0.00</td>\n",
       "      <td>40</td>\n",
       "      <td>67.79</td>\n",
       "      <td>41</td>\n",
       "      <td>0</td>\n",
       "      <td>139766.729863</td>\n",
       "      <td>32163.662512</td>\n",
       "    </tr>\n",
       "  </tbody>\n",
       "</table>\n",
       "</div>"
      ],
      "text/plain": [
       "   loan_amnt  amt_difference  term  int_rate  installment  grade  emp_length  \\\n",
       "0     5000.0               1     0     10.65       162.87      1           2   \n",
       "1     2500.0               0     1     15.27        59.83      2           0   \n",
       "2     2400.0               0     0     15.96        84.33      2           2   \n",
       "3    10000.0               0     0     13.49       339.31      2           2   \n",
       "4     3000.0               0     1     12.69        67.79      1           1   \n",
       "\n",
       "   home_ownership  annual_inc  verification_status  pymnt_plan  purpose  \\\n",
       "0               5     24000.0                    2           0        1   \n",
       "1               5     30000.0                    1           0        0   \n",
       "2               5     12252.0                    0           0       11   \n",
       "3               5     49200.0                    1           0        9   \n",
       "4               5     80000.0                    1           0        9   \n",
       "\n",
       "     dti  delinq_2yrs  mths_since_last_delinq  revol_bal  revol_util  \\\n",
       "0  27.65          0.0                    31.0    13648.0        83.7   \n",
       "1   1.00          0.0                    31.0     1687.0         9.4   \n",
       "2   8.72          0.0                    31.0     2956.0        98.5   \n",
       "3  20.00          0.0                    35.0     5598.0        21.0   \n",
       "4  17.94          0.0                    38.0    27783.0        53.9   \n",
       "\n",
       "   acc_ratio  out_prncp  out_prncp_inv   total_pymnt  total_pymnt_inv  \\\n",
       "0   0.333333        0.0            0.0   5861.071414          5831.78   \n",
       "1   0.750000        0.0            0.0   1008.710000          1008.71   \n",
       "2   0.200000        0.0            0.0   3003.653644          3003.65   \n",
       "3   0.270270        0.0            0.0  12226.302212         12226.30   \n",
       "4   0.394737      766.9          766.9   3242.170000          3242.17   \n",
       "\n",
       "   total_rec_prncp  total_rec_int  total_rec_late_fee  last_pymnt_d  \\\n",
       "0          5000.00         861.07                0.00            39   \n",
       "1           456.46         435.17                0.00             5   \n",
       "2          2400.00         603.65                0.00            55   \n",
       "3         10000.00        2209.33               16.97            39   \n",
       "4          2233.10        1009.07                0.00            40   \n",
       "\n",
       "   last_pymnt_amnt  last_credit_pull_d  application_type    tot_cur_bal  \\\n",
       "0           171.62                  41                 0  139766.729863   \n",
       "1           119.66                  99                 0  139766.729863   \n",
       "2           649.91                  41                 0  139766.729863   \n",
       "3           357.48                  40                 0  139766.729863   \n",
       "4            67.79                  41                 0  139766.729863   \n",
       "\n",
       "   total_rev_hi_lim  \n",
       "0      32163.662512  \n",
       "1      32163.662512  \n",
       "2      32163.662512  \n",
       "3      32163.662512  \n",
       "4      32163.662512  "
      ]
     },
     "execution_count": 96,
     "metadata": {},
     "output_type": "execute_result"
    }
   ],
   "source": [
    "x.head()"
   ]
  },
  {
   "cell_type": "code",
   "execution_count": 97,
   "metadata": {},
   "outputs": [
    {
     "data": {
      "text/plain": [
       "0    0\n",
       "1    1\n",
       "2    0\n",
       "3    0\n",
       "4    0\n",
       "Name: default_ind, dtype: int64"
      ]
     },
     "execution_count": 97,
     "metadata": {},
     "output_type": "execute_result"
    }
   ],
   "source": [
    "y.head()"
   ]
  },
  {
   "cell_type": "code",
   "execution_count": 98,
   "metadata": {},
   "outputs": [
    {
     "data": {
      "text/plain": [
       "DecisionTreeClassifier(ccp_alpha=0.0, class_weight=None, criterion='entropy',\n",
       "                       max_depth=None, max_features=None, max_leaf_nodes=40,\n",
       "                       min_impurity_decrease=0.0, min_impurity_split=None,\n",
       "                       min_samples_leaf=1, min_samples_split=2,\n",
       "                       min_weight_fraction_leaf=0.0, presort='deprecated',\n",
       "                       random_state=10, splitter='best')"
      ]
     },
     "execution_count": 98,
     "metadata": {},
     "output_type": "execute_result"
    }
   ],
   "source": [
    "from sklearn.tree import DecisionTreeClassifier\n",
    "\n",
    "model_DecisionTree_Tuned=DecisionTreeClassifier(ccp_alpha=0.0, class_weight=None, criterion='entropy',\n",
    "                       max_depth=None, max_features=None, max_leaf_nodes=40,\n",
    "                       min_impurity_decrease=0.0, min_impurity_split=None,\n",
    "                       min_samples_leaf=1, min_samples_split=2,\n",
    "                       min_weight_fraction_leaf=0.0, presort='deprecated',\n",
    "                       random_state=10, splitter='best')\n",
    "\n",
    "#fit the model on the data and predict the values\n",
    "model_DecisionTree_Tuned.fit(X_train,Y_train)\n",
    "\n",
    "\n"
   ]
  },
  {
   "cell_type": "markdown",
   "metadata": {},
   "source": [
    "## Prediction on Full data set"
   ]
  },
  {
   "cell_type": "code",
   "execution_count": 99,
   "metadata": {},
   "outputs": [],
   "source": [
    "Y_pred = model_DecisionTree_Tuned.predict(x)"
   ]
  },
  {
   "cell_type": "code",
   "execution_count": 100,
   "metadata": {},
   "outputs": [],
   "source": [
    "final_df = pd.DataFrame()"
   ]
  },
  {
   "cell_type": "code",
   "execution_count": 101,
   "metadata": {},
   "outputs": [],
   "source": [
    "final_df = pd.concat([x,y],axis=1)"
   ]
  },
  {
   "cell_type": "code",
   "execution_count": 102,
   "metadata": {},
   "outputs": [
    {
     "data": {
      "text/html": [
       "<div>\n",
       "<style scoped>\n",
       "    .dataframe tbody tr th:only-of-type {\n",
       "        vertical-align: middle;\n",
       "    }\n",
       "\n",
       "    .dataframe tbody tr th {\n",
       "        vertical-align: top;\n",
       "    }\n",
       "\n",
       "    .dataframe thead th {\n",
       "        text-align: right;\n",
       "    }\n",
       "</style>\n",
       "<table border=\"1\" class=\"dataframe\">\n",
       "  <thead>\n",
       "    <tr style=\"text-align: right;\">\n",
       "      <th></th>\n",
       "      <th>loan_amnt</th>\n",
       "      <th>amt_difference</th>\n",
       "      <th>term</th>\n",
       "      <th>int_rate</th>\n",
       "      <th>installment</th>\n",
       "      <th>grade</th>\n",
       "      <th>emp_length</th>\n",
       "      <th>home_ownership</th>\n",
       "      <th>annual_inc</th>\n",
       "      <th>verification_status</th>\n",
       "      <th>pymnt_plan</th>\n",
       "      <th>purpose</th>\n",
       "      <th>dti</th>\n",
       "      <th>delinq_2yrs</th>\n",
       "      <th>mths_since_last_delinq</th>\n",
       "      <th>revol_bal</th>\n",
       "      <th>revol_util</th>\n",
       "      <th>acc_ratio</th>\n",
       "      <th>out_prncp</th>\n",
       "      <th>out_prncp_inv</th>\n",
       "      <th>total_pymnt</th>\n",
       "      <th>total_pymnt_inv</th>\n",
       "      <th>total_rec_prncp</th>\n",
       "      <th>total_rec_int</th>\n",
       "      <th>total_rec_late_fee</th>\n",
       "      <th>last_pymnt_d</th>\n",
       "      <th>last_pymnt_amnt</th>\n",
       "      <th>last_credit_pull_d</th>\n",
       "      <th>application_type</th>\n",
       "      <th>tot_cur_bal</th>\n",
       "      <th>total_rev_hi_lim</th>\n",
       "      <th>default_ind</th>\n",
       "    </tr>\n",
       "  </thead>\n",
       "  <tbody>\n",
       "    <tr>\n",
       "      <th>0</th>\n",
       "      <td>5000.0</td>\n",
       "      <td>1</td>\n",
       "      <td>0</td>\n",
       "      <td>10.65</td>\n",
       "      <td>162.87</td>\n",
       "      <td>1</td>\n",
       "      <td>2</td>\n",
       "      <td>5</td>\n",
       "      <td>24000.0</td>\n",
       "      <td>2</td>\n",
       "      <td>0</td>\n",
       "      <td>1</td>\n",
       "      <td>27.65</td>\n",
       "      <td>0.0</td>\n",
       "      <td>31.0</td>\n",
       "      <td>13648.0</td>\n",
       "      <td>83.7</td>\n",
       "      <td>0.333333</td>\n",
       "      <td>0.0</td>\n",
       "      <td>0.0</td>\n",
       "      <td>5861.071414</td>\n",
       "      <td>5831.78</td>\n",
       "      <td>5000.00</td>\n",
       "      <td>861.07</td>\n",
       "      <td>0.00</td>\n",
       "      <td>39</td>\n",
       "      <td>171.62</td>\n",
       "      <td>41</td>\n",
       "      <td>0</td>\n",
       "      <td>139766.729863</td>\n",
       "      <td>32163.662512</td>\n",
       "      <td>0</td>\n",
       "    </tr>\n",
       "    <tr>\n",
       "      <th>1</th>\n",
       "      <td>2500.0</td>\n",
       "      <td>0</td>\n",
       "      <td>1</td>\n",
       "      <td>15.27</td>\n",
       "      <td>59.83</td>\n",
       "      <td>2</td>\n",
       "      <td>0</td>\n",
       "      <td>5</td>\n",
       "      <td>30000.0</td>\n",
       "      <td>1</td>\n",
       "      <td>0</td>\n",
       "      <td>0</td>\n",
       "      <td>1.00</td>\n",
       "      <td>0.0</td>\n",
       "      <td>31.0</td>\n",
       "      <td>1687.0</td>\n",
       "      <td>9.4</td>\n",
       "      <td>0.750000</td>\n",
       "      <td>0.0</td>\n",
       "      <td>0.0</td>\n",
       "      <td>1008.710000</td>\n",
       "      <td>1008.71</td>\n",
       "      <td>456.46</td>\n",
       "      <td>435.17</td>\n",
       "      <td>0.00</td>\n",
       "      <td>5</td>\n",
       "      <td>119.66</td>\n",
       "      <td>99</td>\n",
       "      <td>0</td>\n",
       "      <td>139766.729863</td>\n",
       "      <td>32163.662512</td>\n",
       "      <td>1</td>\n",
       "    </tr>\n",
       "    <tr>\n",
       "      <th>2</th>\n",
       "      <td>2400.0</td>\n",
       "      <td>0</td>\n",
       "      <td>0</td>\n",
       "      <td>15.96</td>\n",
       "      <td>84.33</td>\n",
       "      <td>2</td>\n",
       "      <td>2</td>\n",
       "      <td>5</td>\n",
       "      <td>12252.0</td>\n",
       "      <td>0</td>\n",
       "      <td>0</td>\n",
       "      <td>11</td>\n",
       "      <td>8.72</td>\n",
       "      <td>0.0</td>\n",
       "      <td>31.0</td>\n",
       "      <td>2956.0</td>\n",
       "      <td>98.5</td>\n",
       "      <td>0.200000</td>\n",
       "      <td>0.0</td>\n",
       "      <td>0.0</td>\n",
       "      <td>3003.653644</td>\n",
       "      <td>3003.65</td>\n",
       "      <td>2400.00</td>\n",
       "      <td>603.65</td>\n",
       "      <td>0.00</td>\n",
       "      <td>55</td>\n",
       "      <td>649.91</td>\n",
       "      <td>41</td>\n",
       "      <td>0</td>\n",
       "      <td>139766.729863</td>\n",
       "      <td>32163.662512</td>\n",
       "      <td>0</td>\n",
       "    </tr>\n",
       "    <tr>\n",
       "      <th>3</th>\n",
       "      <td>10000.0</td>\n",
       "      <td>0</td>\n",
       "      <td>0</td>\n",
       "      <td>13.49</td>\n",
       "      <td>339.31</td>\n",
       "      <td>2</td>\n",
       "      <td>2</td>\n",
       "      <td>5</td>\n",
       "      <td>49200.0</td>\n",
       "      <td>1</td>\n",
       "      <td>0</td>\n",
       "      <td>9</td>\n",
       "      <td>20.00</td>\n",
       "      <td>0.0</td>\n",
       "      <td>35.0</td>\n",
       "      <td>5598.0</td>\n",
       "      <td>21.0</td>\n",
       "      <td>0.270270</td>\n",
       "      <td>0.0</td>\n",
       "      <td>0.0</td>\n",
       "      <td>12226.302212</td>\n",
       "      <td>12226.30</td>\n",
       "      <td>10000.00</td>\n",
       "      <td>2209.33</td>\n",
       "      <td>16.97</td>\n",
       "      <td>39</td>\n",
       "      <td>357.48</td>\n",
       "      <td>40</td>\n",
       "      <td>0</td>\n",
       "      <td>139766.729863</td>\n",
       "      <td>32163.662512</td>\n",
       "      <td>0</td>\n",
       "    </tr>\n",
       "    <tr>\n",
       "      <th>4</th>\n",
       "      <td>3000.0</td>\n",
       "      <td>0</td>\n",
       "      <td>1</td>\n",
       "      <td>12.69</td>\n",
       "      <td>67.79</td>\n",
       "      <td>1</td>\n",
       "      <td>1</td>\n",
       "      <td>5</td>\n",
       "      <td>80000.0</td>\n",
       "      <td>1</td>\n",
       "      <td>0</td>\n",
       "      <td>9</td>\n",
       "      <td>17.94</td>\n",
       "      <td>0.0</td>\n",
       "      <td>38.0</td>\n",
       "      <td>27783.0</td>\n",
       "      <td>53.9</td>\n",
       "      <td>0.394737</td>\n",
       "      <td>766.9</td>\n",
       "      <td>766.9</td>\n",
       "      <td>3242.170000</td>\n",
       "      <td>3242.17</td>\n",
       "      <td>2233.10</td>\n",
       "      <td>1009.07</td>\n",
       "      <td>0.00</td>\n",
       "      <td>40</td>\n",
       "      <td>67.79</td>\n",
       "      <td>41</td>\n",
       "      <td>0</td>\n",
       "      <td>139766.729863</td>\n",
       "      <td>32163.662512</td>\n",
       "      <td>0</td>\n",
       "    </tr>\n",
       "  </tbody>\n",
       "</table>\n",
       "</div>"
      ],
      "text/plain": [
       "   loan_amnt  amt_difference  term  int_rate  installment  grade  emp_length  \\\n",
       "0     5000.0               1     0     10.65       162.87      1           2   \n",
       "1     2500.0               0     1     15.27        59.83      2           0   \n",
       "2     2400.0               0     0     15.96        84.33      2           2   \n",
       "3    10000.0               0     0     13.49       339.31      2           2   \n",
       "4     3000.0               0     1     12.69        67.79      1           1   \n",
       "\n",
       "   home_ownership  annual_inc  verification_status  pymnt_plan  purpose  \\\n",
       "0               5     24000.0                    2           0        1   \n",
       "1               5     30000.0                    1           0        0   \n",
       "2               5     12252.0                    0           0       11   \n",
       "3               5     49200.0                    1           0        9   \n",
       "4               5     80000.0                    1           0        9   \n",
       "\n",
       "     dti  delinq_2yrs  mths_since_last_delinq  revol_bal  revol_util  \\\n",
       "0  27.65          0.0                    31.0    13648.0        83.7   \n",
       "1   1.00          0.0                    31.0     1687.0         9.4   \n",
       "2   8.72          0.0                    31.0     2956.0        98.5   \n",
       "3  20.00          0.0                    35.0     5598.0        21.0   \n",
       "4  17.94          0.0                    38.0    27783.0        53.9   \n",
       "\n",
       "   acc_ratio  out_prncp  out_prncp_inv   total_pymnt  total_pymnt_inv  \\\n",
       "0   0.333333        0.0            0.0   5861.071414          5831.78   \n",
       "1   0.750000        0.0            0.0   1008.710000          1008.71   \n",
       "2   0.200000        0.0            0.0   3003.653644          3003.65   \n",
       "3   0.270270        0.0            0.0  12226.302212         12226.30   \n",
       "4   0.394737      766.9          766.9   3242.170000          3242.17   \n",
       "\n",
       "   total_rec_prncp  total_rec_int  total_rec_late_fee  last_pymnt_d  \\\n",
       "0          5000.00         861.07                0.00            39   \n",
       "1           456.46         435.17                0.00             5   \n",
       "2          2400.00         603.65                0.00            55   \n",
       "3         10000.00        2209.33               16.97            39   \n",
       "4          2233.10        1009.07                0.00            40   \n",
       "\n",
       "   last_pymnt_amnt  last_credit_pull_d  application_type    tot_cur_bal  \\\n",
       "0           171.62                  41                 0  139766.729863   \n",
       "1           119.66                  99                 0  139766.729863   \n",
       "2           649.91                  41                 0  139766.729863   \n",
       "3           357.48                  40                 0  139766.729863   \n",
       "4            67.79                  41                 0  139766.729863   \n",
       "\n",
       "   total_rev_hi_lim  default_ind  \n",
       "0      32163.662512            0  \n",
       "1      32163.662512            1  \n",
       "2      32163.662512            0  \n",
       "3      32163.662512            0  \n",
       "4      32163.662512            0  "
      ]
     },
     "execution_count": 102,
     "metadata": {},
     "output_type": "execute_result"
    }
   ],
   "source": [
    "final_df.head()"
   ]
  },
  {
   "cell_type": "code",
   "execution_count": 103,
   "metadata": {},
   "outputs": [],
   "source": [
    "final_df['Predicted_class']=Y_pred"
   ]
  },
  {
   "cell_type": "code",
   "execution_count": 104,
   "metadata": {},
   "outputs": [
    {
     "data": {
      "text/plain": [
       "(855966, 33)"
      ]
     },
     "execution_count": 104,
     "metadata": {},
     "output_type": "execute_result"
    }
   ],
   "source": [
    "final_df.shape"
   ]
  },
  {
   "cell_type": "code",
   "execution_count": 105,
   "metadata": {},
   "outputs": [
    {
     "data": {
      "text/html": [
       "<div>\n",
       "<style scoped>\n",
       "    .dataframe tbody tr th:only-of-type {\n",
       "        vertical-align: middle;\n",
       "    }\n",
       "\n",
       "    .dataframe tbody tr th {\n",
       "        vertical-align: top;\n",
       "    }\n",
       "\n",
       "    .dataframe thead th {\n",
       "        text-align: right;\n",
       "    }\n",
       "</style>\n",
       "<table border=\"1\" class=\"dataframe\">\n",
       "  <thead>\n",
       "    <tr style=\"text-align: right;\">\n",
       "      <th></th>\n",
       "      <th>loan_amnt</th>\n",
       "      <th>amt_difference</th>\n",
       "      <th>term</th>\n",
       "      <th>int_rate</th>\n",
       "      <th>installment</th>\n",
       "      <th>grade</th>\n",
       "      <th>emp_length</th>\n",
       "      <th>home_ownership</th>\n",
       "      <th>annual_inc</th>\n",
       "      <th>verification_status</th>\n",
       "      <th>pymnt_plan</th>\n",
       "      <th>purpose</th>\n",
       "      <th>dti</th>\n",
       "      <th>delinq_2yrs</th>\n",
       "      <th>mths_since_last_delinq</th>\n",
       "      <th>revol_bal</th>\n",
       "      <th>revol_util</th>\n",
       "      <th>acc_ratio</th>\n",
       "      <th>out_prncp</th>\n",
       "      <th>out_prncp_inv</th>\n",
       "      <th>total_pymnt</th>\n",
       "      <th>total_pymnt_inv</th>\n",
       "      <th>total_rec_prncp</th>\n",
       "      <th>total_rec_int</th>\n",
       "      <th>total_rec_late_fee</th>\n",
       "      <th>last_pymnt_d</th>\n",
       "      <th>last_pymnt_amnt</th>\n",
       "      <th>last_credit_pull_d</th>\n",
       "      <th>application_type</th>\n",
       "      <th>tot_cur_bal</th>\n",
       "      <th>total_rev_hi_lim</th>\n",
       "      <th>default_ind</th>\n",
       "      <th>Predicted_class</th>\n",
       "    </tr>\n",
       "  </thead>\n",
       "  <tbody>\n",
       "    <tr>\n",
       "      <th>0</th>\n",
       "      <td>5000.0</td>\n",
       "      <td>1</td>\n",
       "      <td>0</td>\n",
       "      <td>10.65</td>\n",
       "      <td>162.87</td>\n",
       "      <td>1</td>\n",
       "      <td>2</td>\n",
       "      <td>5</td>\n",
       "      <td>24000.0</td>\n",
       "      <td>2</td>\n",
       "      <td>0</td>\n",
       "      <td>1</td>\n",
       "      <td>27.65</td>\n",
       "      <td>0.0</td>\n",
       "      <td>31.0</td>\n",
       "      <td>13648.0</td>\n",
       "      <td>83.7</td>\n",
       "      <td>0.333333</td>\n",
       "      <td>0.00</td>\n",
       "      <td>0.00</td>\n",
       "      <td>5861.071414</td>\n",
       "      <td>5831.78</td>\n",
       "      <td>5000.00</td>\n",
       "      <td>861.07</td>\n",
       "      <td>0.00</td>\n",
       "      <td>39</td>\n",
       "      <td>171.62</td>\n",
       "      <td>41</td>\n",
       "      <td>0</td>\n",
       "      <td>139766.729863</td>\n",
       "      <td>32163.662512</td>\n",
       "      <td>0</td>\n",
       "      <td>1.0</td>\n",
       "    </tr>\n",
       "    <tr>\n",
       "      <th>1</th>\n",
       "      <td>2500.0</td>\n",
       "      <td>0</td>\n",
       "      <td>1</td>\n",
       "      <td>15.27</td>\n",
       "      <td>59.83</td>\n",
       "      <td>2</td>\n",
       "      <td>0</td>\n",
       "      <td>5</td>\n",
       "      <td>30000.0</td>\n",
       "      <td>1</td>\n",
       "      <td>0</td>\n",
       "      <td>0</td>\n",
       "      <td>1.00</td>\n",
       "      <td>0.0</td>\n",
       "      <td>31.0</td>\n",
       "      <td>1687.0</td>\n",
       "      <td>9.4</td>\n",
       "      <td>0.750000</td>\n",
       "      <td>0.00</td>\n",
       "      <td>0.00</td>\n",
       "      <td>1008.710000</td>\n",
       "      <td>1008.71</td>\n",
       "      <td>456.46</td>\n",
       "      <td>435.17</td>\n",
       "      <td>0.00</td>\n",
       "      <td>5</td>\n",
       "      <td>119.66</td>\n",
       "      <td>99</td>\n",
       "      <td>0</td>\n",
       "      <td>139766.729863</td>\n",
       "      <td>32163.662512</td>\n",
       "      <td>1</td>\n",
       "      <td>1.0</td>\n",
       "    </tr>\n",
       "    <tr>\n",
       "      <th>2</th>\n",
       "      <td>2400.0</td>\n",
       "      <td>0</td>\n",
       "      <td>0</td>\n",
       "      <td>15.96</td>\n",
       "      <td>84.33</td>\n",
       "      <td>2</td>\n",
       "      <td>2</td>\n",
       "      <td>5</td>\n",
       "      <td>12252.0</td>\n",
       "      <td>0</td>\n",
       "      <td>0</td>\n",
       "      <td>11</td>\n",
       "      <td>8.72</td>\n",
       "      <td>0.0</td>\n",
       "      <td>31.0</td>\n",
       "      <td>2956.0</td>\n",
       "      <td>98.5</td>\n",
       "      <td>0.200000</td>\n",
       "      <td>0.00</td>\n",
       "      <td>0.00</td>\n",
       "      <td>3003.653644</td>\n",
       "      <td>3003.65</td>\n",
       "      <td>2400.00</td>\n",
       "      <td>603.65</td>\n",
       "      <td>0.00</td>\n",
       "      <td>55</td>\n",
       "      <td>649.91</td>\n",
       "      <td>41</td>\n",
       "      <td>0</td>\n",
       "      <td>139766.729863</td>\n",
       "      <td>32163.662512</td>\n",
       "      <td>0</td>\n",
       "      <td>1.0</td>\n",
       "    </tr>\n",
       "    <tr>\n",
       "      <th>3</th>\n",
       "      <td>10000.0</td>\n",
       "      <td>0</td>\n",
       "      <td>0</td>\n",
       "      <td>13.49</td>\n",
       "      <td>339.31</td>\n",
       "      <td>2</td>\n",
       "      <td>2</td>\n",
       "      <td>5</td>\n",
       "      <td>49200.0</td>\n",
       "      <td>1</td>\n",
       "      <td>0</td>\n",
       "      <td>9</td>\n",
       "      <td>20.00</td>\n",
       "      <td>0.0</td>\n",
       "      <td>35.0</td>\n",
       "      <td>5598.0</td>\n",
       "      <td>21.0</td>\n",
       "      <td>0.270270</td>\n",
       "      <td>0.00</td>\n",
       "      <td>0.00</td>\n",
       "      <td>12226.302212</td>\n",
       "      <td>12226.30</td>\n",
       "      <td>10000.00</td>\n",
       "      <td>2209.33</td>\n",
       "      <td>16.97</td>\n",
       "      <td>39</td>\n",
       "      <td>357.48</td>\n",
       "      <td>40</td>\n",
       "      <td>0</td>\n",
       "      <td>139766.729863</td>\n",
       "      <td>32163.662512</td>\n",
       "      <td>0</td>\n",
       "      <td>1.0</td>\n",
       "    </tr>\n",
       "    <tr>\n",
       "      <th>4</th>\n",
       "      <td>3000.0</td>\n",
       "      <td>0</td>\n",
       "      <td>1</td>\n",
       "      <td>12.69</td>\n",
       "      <td>67.79</td>\n",
       "      <td>1</td>\n",
       "      <td>1</td>\n",
       "      <td>5</td>\n",
       "      <td>80000.0</td>\n",
       "      <td>1</td>\n",
       "      <td>0</td>\n",
       "      <td>9</td>\n",
       "      <td>17.94</td>\n",
       "      <td>0.0</td>\n",
       "      <td>38.0</td>\n",
       "      <td>27783.0</td>\n",
       "      <td>53.9</td>\n",
       "      <td>0.394737</td>\n",
       "      <td>766.90</td>\n",
       "      <td>766.90</td>\n",
       "      <td>3242.170000</td>\n",
       "      <td>3242.17</td>\n",
       "      <td>2233.10</td>\n",
       "      <td>1009.07</td>\n",
       "      <td>0.00</td>\n",
       "      <td>40</td>\n",
       "      <td>67.79</td>\n",
       "      <td>41</td>\n",
       "      <td>0</td>\n",
       "      <td>139766.729863</td>\n",
       "      <td>32163.662512</td>\n",
       "      <td>0</td>\n",
       "      <td>1.0</td>\n",
       "    </tr>\n",
       "    <tr>\n",
       "      <th>5</th>\n",
       "      <td>5000.0</td>\n",
       "      <td>0</td>\n",
       "      <td>0</td>\n",
       "      <td>7.90</td>\n",
       "      <td>156.46</td>\n",
       "      <td>0</td>\n",
       "      <td>4</td>\n",
       "      <td>5</td>\n",
       "      <td>36000.0</td>\n",
       "      <td>1</td>\n",
       "      <td>0</td>\n",
       "      <td>13</td>\n",
       "      <td>11.20</td>\n",
       "      <td>0.0</td>\n",
       "      <td>31.0</td>\n",
       "      <td>7963.0</td>\n",
       "      <td>28.3</td>\n",
       "      <td>0.750000</td>\n",
       "      <td>0.00</td>\n",
       "      <td>0.00</td>\n",
       "      <td>5631.377753</td>\n",
       "      <td>5631.38</td>\n",
       "      <td>5000.00</td>\n",
       "      <td>631.38</td>\n",
       "      <td>0.00</td>\n",
       "      <td>39</td>\n",
       "      <td>161.03</td>\n",
       "      <td>101</td>\n",
       "      <td>0</td>\n",
       "      <td>139766.729863</td>\n",
       "      <td>32163.662512</td>\n",
       "      <td>0</td>\n",
       "      <td>1.0</td>\n",
       "    </tr>\n",
       "    <tr>\n",
       "      <th>6</th>\n",
       "      <td>7000.0</td>\n",
       "      <td>0</td>\n",
       "      <td>1</td>\n",
       "      <td>15.96</td>\n",
       "      <td>170.08</td>\n",
       "      <td>2</td>\n",
       "      <td>9</td>\n",
       "      <td>5</td>\n",
       "      <td>47004.0</td>\n",
       "      <td>0</td>\n",
       "      <td>0</td>\n",
       "      <td>2</td>\n",
       "      <td>23.51</td>\n",
       "      <td>0.0</td>\n",
       "      <td>31.0</td>\n",
       "      <td>17726.0</td>\n",
       "      <td>85.6</td>\n",
       "      <td>0.636364</td>\n",
       "      <td>1889.15</td>\n",
       "      <td>1889.15</td>\n",
       "      <td>8136.840000</td>\n",
       "      <td>8136.84</td>\n",
       "      <td>5110.85</td>\n",
       "      <td>3025.99</td>\n",
       "      <td>0.00</td>\n",
       "      <td>40</td>\n",
       "      <td>170.08</td>\n",
       "      <td>41</td>\n",
       "      <td>0</td>\n",
       "      <td>139766.729863</td>\n",
       "      <td>32163.662512</td>\n",
       "      <td>0</td>\n",
       "      <td>1.0</td>\n",
       "    </tr>\n",
       "    <tr>\n",
       "      <th>7</th>\n",
       "      <td>3000.0</td>\n",
       "      <td>0</td>\n",
       "      <td>0</td>\n",
       "      <td>18.64</td>\n",
       "      <td>109.43</td>\n",
       "      <td>4</td>\n",
       "      <td>10</td>\n",
       "      <td>5</td>\n",
       "      <td>48000.0</td>\n",
       "      <td>1</td>\n",
       "      <td>0</td>\n",
       "      <td>0</td>\n",
       "      <td>5.35</td>\n",
       "      <td>0.0</td>\n",
       "      <td>31.0</td>\n",
       "      <td>8221.0</td>\n",
       "      <td>87.5</td>\n",
       "      <td>1.000000</td>\n",
       "      <td>0.00</td>\n",
       "      <td>0.00</td>\n",
       "      <td>3938.144334</td>\n",
       "      <td>3938.14</td>\n",
       "      <td>3000.00</td>\n",
       "      <td>938.14</td>\n",
       "      <td>0.00</td>\n",
       "      <td>39</td>\n",
       "      <td>111.34</td>\n",
       "      <td>23</td>\n",
       "      <td>0</td>\n",
       "      <td>139766.729863</td>\n",
       "      <td>32163.662512</td>\n",
       "      <td>0</td>\n",
       "      <td>1.0</td>\n",
       "    </tr>\n",
       "    <tr>\n",
       "      <th>8</th>\n",
       "      <td>5600.0</td>\n",
       "      <td>0</td>\n",
       "      <td>1</td>\n",
       "      <td>21.28</td>\n",
       "      <td>152.39</td>\n",
       "      <td>5</td>\n",
       "      <td>5</td>\n",
       "      <td>4</td>\n",
       "      <td>40000.0</td>\n",
       "      <td>1</td>\n",
       "      <td>0</td>\n",
       "      <td>11</td>\n",
       "      <td>5.55</td>\n",
       "      <td>0.0</td>\n",
       "      <td>31.0</td>\n",
       "      <td>5210.0</td>\n",
       "      <td>32.6</td>\n",
       "      <td>0.846154</td>\n",
       "      <td>0.00</td>\n",
       "      <td>0.00</td>\n",
       "      <td>646.020000</td>\n",
       "      <td>646.02</td>\n",
       "      <td>162.02</td>\n",
       "      <td>294.94</td>\n",
       "      <td>0.00</td>\n",
       "      <td>4</td>\n",
       "      <td>152.39</td>\n",
       "      <td>12</td>\n",
       "      <td>0</td>\n",
       "      <td>139766.729863</td>\n",
       "      <td>32163.662512</td>\n",
       "      <td>1</td>\n",
       "      <td>1.0</td>\n",
       "    </tr>\n",
       "    <tr>\n",
       "      <th>9</th>\n",
       "      <td>5375.0</td>\n",
       "      <td>1</td>\n",
       "      <td>1</td>\n",
       "      <td>12.69</td>\n",
       "      <td>121.45</td>\n",
       "      <td>1</td>\n",
       "      <td>0</td>\n",
       "      <td>5</td>\n",
       "      <td>15000.0</td>\n",
       "      <td>2</td>\n",
       "      <td>0</td>\n",
       "      <td>9</td>\n",
       "      <td>18.08</td>\n",
       "      <td>0.0</td>\n",
       "      <td>31.0</td>\n",
       "      <td>9279.0</td>\n",
       "      <td>36.5</td>\n",
       "      <td>0.666667</td>\n",
       "      <td>0.00</td>\n",
       "      <td>0.00</td>\n",
       "      <td>1476.190000</td>\n",
       "      <td>1469.34</td>\n",
       "      <td>673.48</td>\n",
       "      <td>533.42</td>\n",
       "      <td>0.00</td>\n",
       "      <td>77</td>\n",
       "      <td>121.45</td>\n",
       "      <td>65</td>\n",
       "      <td>0</td>\n",
       "      <td>139766.729863</td>\n",
       "      <td>32163.662512</td>\n",
       "      <td>1</td>\n",
       "      <td>1.0</td>\n",
       "    </tr>\n",
       "  </tbody>\n",
       "</table>\n",
       "</div>"
      ],
      "text/plain": [
       "   loan_amnt  amt_difference  term  int_rate  installment  grade  emp_length  \\\n",
       "0     5000.0               1     0     10.65       162.87      1           2   \n",
       "1     2500.0               0     1     15.27        59.83      2           0   \n",
       "2     2400.0               0     0     15.96        84.33      2           2   \n",
       "3    10000.0               0     0     13.49       339.31      2           2   \n",
       "4     3000.0               0     1     12.69        67.79      1           1   \n",
       "5     5000.0               0     0      7.90       156.46      0           4   \n",
       "6     7000.0               0     1     15.96       170.08      2           9   \n",
       "7     3000.0               0     0     18.64       109.43      4          10   \n",
       "8     5600.0               0     1     21.28       152.39      5           5   \n",
       "9     5375.0               1     1     12.69       121.45      1           0   \n",
       "\n",
       "   home_ownership  annual_inc  verification_status  pymnt_plan  purpose  \\\n",
       "0               5     24000.0                    2           0        1   \n",
       "1               5     30000.0                    1           0        0   \n",
       "2               5     12252.0                    0           0       11   \n",
       "3               5     49200.0                    1           0        9   \n",
       "4               5     80000.0                    1           0        9   \n",
       "5               5     36000.0                    1           0       13   \n",
       "6               5     47004.0                    0           0        2   \n",
       "7               5     48000.0                    1           0        0   \n",
       "8               4     40000.0                    1           0       11   \n",
       "9               5     15000.0                    2           0        9   \n",
       "\n",
       "     dti  delinq_2yrs  mths_since_last_delinq  revol_bal  revol_util  \\\n",
       "0  27.65          0.0                    31.0    13648.0        83.7   \n",
       "1   1.00          0.0                    31.0     1687.0         9.4   \n",
       "2   8.72          0.0                    31.0     2956.0        98.5   \n",
       "3  20.00          0.0                    35.0     5598.0        21.0   \n",
       "4  17.94          0.0                    38.0    27783.0        53.9   \n",
       "5  11.20          0.0                    31.0     7963.0        28.3   \n",
       "6  23.51          0.0                    31.0    17726.0        85.6   \n",
       "7   5.35          0.0                    31.0     8221.0        87.5   \n",
       "8   5.55          0.0                    31.0     5210.0        32.6   \n",
       "9  18.08          0.0                    31.0     9279.0        36.5   \n",
       "\n",
       "   acc_ratio  out_prncp  out_prncp_inv   total_pymnt  total_pymnt_inv  \\\n",
       "0   0.333333       0.00           0.00   5861.071414          5831.78   \n",
       "1   0.750000       0.00           0.00   1008.710000          1008.71   \n",
       "2   0.200000       0.00           0.00   3003.653644          3003.65   \n",
       "3   0.270270       0.00           0.00  12226.302212         12226.30   \n",
       "4   0.394737     766.90         766.90   3242.170000          3242.17   \n",
       "5   0.750000       0.00           0.00   5631.377753          5631.38   \n",
       "6   0.636364    1889.15        1889.15   8136.840000          8136.84   \n",
       "7   1.000000       0.00           0.00   3938.144334          3938.14   \n",
       "8   0.846154       0.00           0.00    646.020000           646.02   \n",
       "9   0.666667       0.00           0.00   1476.190000          1469.34   \n",
       "\n",
       "   total_rec_prncp  total_rec_int  total_rec_late_fee  last_pymnt_d  \\\n",
       "0          5000.00         861.07                0.00            39   \n",
       "1           456.46         435.17                0.00             5   \n",
       "2          2400.00         603.65                0.00            55   \n",
       "3         10000.00        2209.33               16.97            39   \n",
       "4          2233.10        1009.07                0.00            40   \n",
       "5          5000.00         631.38                0.00            39   \n",
       "6          5110.85        3025.99                0.00            40   \n",
       "7          3000.00         938.14                0.00            39   \n",
       "8           162.02         294.94                0.00             4   \n",
       "9           673.48         533.42                0.00            77   \n",
       "\n",
       "   last_pymnt_amnt  last_credit_pull_d  application_type    tot_cur_bal  \\\n",
       "0           171.62                  41                 0  139766.729863   \n",
       "1           119.66                  99                 0  139766.729863   \n",
       "2           649.91                  41                 0  139766.729863   \n",
       "3           357.48                  40                 0  139766.729863   \n",
       "4            67.79                  41                 0  139766.729863   \n",
       "5           161.03                 101                 0  139766.729863   \n",
       "6           170.08                  41                 0  139766.729863   \n",
       "7           111.34                  23                 0  139766.729863   \n",
       "8           152.39                  12                 0  139766.729863   \n",
       "9           121.45                  65                 0  139766.729863   \n",
       "\n",
       "   total_rev_hi_lim  default_ind  Predicted_class  \n",
       "0      32163.662512            0              1.0  \n",
       "1      32163.662512            1              1.0  \n",
       "2      32163.662512            0              1.0  \n",
       "3      32163.662512            0              1.0  \n",
       "4      32163.662512            0              1.0  \n",
       "5      32163.662512            0              1.0  \n",
       "6      32163.662512            0              1.0  \n",
       "7      32163.662512            0              1.0  \n",
       "8      32163.662512            1              1.0  \n",
       "9      32163.662512            1              1.0  "
      ]
     },
     "execution_count": 105,
     "metadata": {},
     "output_type": "execute_result"
    }
   ],
   "source": [
    "final_df.head(10)"
   ]
  },
  {
   "cell_type": "markdown",
   "metadata": {},
   "source": [
    "## Export the final data-frame to Root Directory"
   ]
  },
  {
   "cell_type": "code",
   "execution_count": 106,
   "metadata": {},
   "outputs": [],
   "source": [
    "final_df.to_csv('final_data_with_prediction.csv')"
   ]
  },
  {
   "cell_type": "markdown",
   "metadata": {},
   "source": [
    "# Conclusion :"
   ]
  },
  {
   "cell_type": "markdown",
   "metadata": {},
   "source": [
    "With regards the XYZ Corp. Lending\n",
    "\n",
    " \n",
    "\n",
    "By looking at the Statistics from the above models we can conclude that all these above models are good but we would go forward with the Decision Tree model when we compare it with other models.\n",
    "\n",
    "The stats of the Decision tree model are the best than other models as it has less Type 1 & Type 2 errors and High F1 score & Accuracy.\n",
    "\n",
    " \n",
    "\n",
    "Therefore, we will produce the Decision Tree model to XYZ Corp. to predict future defaults.\n",
    "\n",
    " "
   ]
  }
 ],
 "metadata": {
  "kernelspec": {
   "display_name": "Python 3",
   "language": "python",
   "name": "python3"
  },
  "language_info": {
   "codemirror_mode": {
    "name": "ipython",
    "version": 3
   },
   "file_extension": ".py",
   "mimetype": "text/x-python",
   "name": "python",
   "nbconvert_exporter": "python",
   "pygments_lexer": "ipython3",
   "version": "3.7.4"
  }
 },
 "nbformat": 4,
 "nbformat_minor": 2
}
